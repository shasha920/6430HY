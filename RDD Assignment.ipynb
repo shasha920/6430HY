{
 "cells": [
  {
   "cell_type": "markdown",
   "metadata": {
    "application/vnd.databricks.v1+cell": {
     "cellMetadata": {},
     "inputWidgets": {},
     "nuid": "438628cc-766d-418a-a59e-46d9964f4e70",
     "showTitle": false,
     "title": ""
    }
   },
   "source": [
    "# GBA 6430 Assignment 4: Spark\n",
    "# Dr. Mohammad Salehan"
   ]
  },
  {
   "cell_type": "markdown",
   "metadata": {
    "application/vnd.databricks.v1+cell": {
     "cellMetadata": {},
     "inputWidgets": {},
     "nuid": "ab88b1fb-26b3-494b-bbb1-76adaa4a5a14",
     "showTitle": false,
     "title": ""
    }
   },
   "source": [
    "- In this assignment, you will conduct Spark transformations on different RDDs. \n",
    "- You should complete this assignment using RDD. \n",
    "- Use of DataFrame is not allowed."
   ]
  },
  {
   "cell_type": "markdown",
   "metadata": {
    "application/vnd.databricks.v1+cell": {
     "cellMetadata": {},
     "inputWidgets": {},
     "nuid": "f689975f-805e-4264-842d-7dac13388bb8",
     "showTitle": false,
     "title": ""
    }
   },
   "source": []
  },
  {
   "cell_type": "markdown",
   "metadata": {
    "application/vnd.databricks.v1+cell": {
     "cellMetadata": {},
     "inputWidgets": {},
     "nuid": "be12342d-93cb-49de-af7d-4a11144f205f",
     "showTitle": false,
     "title": ""
    }
   },
   "source": [
    "1. Store SalesJan2009.csv in S3 and load it into a RDD. Then retrieve 5 elements from the RDD."
   ]
  },
  {
   "cell_type": "code",
   "execution_count": 22,
   "metadata": {
    "application/vnd.databricks.v1+cell": {
     "cellMetadata": {},
     "inputWidgets": {},
     "nuid": "946989ec-3922-4aec-8d16-d87ceadd491e",
     "showTitle": false,
     "title": ""
    }
   },
   "outputs": [
    {
     "data": {
      "application/vnd.jupyter.widget-view+json": {
       "model_id": "ecdbc496479d4e349fdc11106b51dfdc",
       "version_major": 2,
       "version_minor": 0
      },
      "text/plain": [
       "VBox()"
      ]
     },
     "metadata": {},
     "output_type": "display_data"
    },
    {
     "data": {
      "application/vnd.jupyter.widget-view+json": {
       "model_id": "",
       "version_major": 2,
       "version_minor": 0
      },
      "text/plain": [
       "FloatProgress(value=0.0, bar_style='info', description='Progress:', layout=Layout(height='25px', width='50%'),…"
      ]
     },
     "metadata": {},
     "output_type": "display_data"
    },
    {
     "name": "stdout",
     "output_type": "stream",
     "text": [
      "[['Transaction_date', 'Product', 'Price', 'Payment_Type', 'Name', 'City', 'State', 'Country', 'Account_Created', 'Last_Login', 'Latitude', 'Longitude'], ['1/2/2009 6:17', 'Product1', '1200', 'Mastercard', 'carolina', 'Basildon', 'England', 'United Kingdom', '1/2/2009 6:00', '1/2/2009 6:08', '51.5', '-1.1166667'], ['1/2/2009 4:53', 'Product1', '1200', 'Visa', 'Betina', 'Parkville                   ', 'MO', 'United States', '1/2/2009 4:42', '1/2/2009 7:49', '39.195', '-94.68194'], ['1/2/2009 13:08', 'Product1', '1200', 'Mastercard', 'Federica e Andrea', 'Astoria                     ', 'OR', 'United States', '1/1/2009 16:21', '1/3/2009 12:32', '46.18806', '-123.83'], ['1/3/2009 14:44', 'Product1', '1200', 'Visa', 'Gouya', 'Echuca', 'Victoria', 'Australia', '9/25/2005 21:13', '1/3/2009 14:22', '-36.1333333', '144.75']]"
     ]
    }
   ],
   "source": [
    "myRDD =(\n",
    "    sc\n",
    "    .textFile('s3://gba6430-huayang-01/intro/SalesJan2009.csv', minPartitions=8)\n",
    "    .map(lambda line: line.split(\",\"))\n",
    ")\n",
    "myRDD.take(5)"
   ]
  },
  {
   "cell_type": "markdown",
   "metadata": {
    "application/vnd.databricks.v1+cell": {
     "cellMetadata": {},
     "inputWidgets": {},
     "nuid": "880b85ff-d203-4b58-8267-ccb0bbb23242",
     "showTitle": false,
     "title": ""
    }
   },
   "source": [
    "2. Removes the header of the CSV file from the RDD. Use the resulting RDD for the future steps."
   ]
  },
  {
   "cell_type": "code",
   "execution_count": 23,
   "metadata": {
    "application/vnd.databricks.v1+cell": {
     "cellMetadata": {},
     "inputWidgets": {},
     "nuid": "948be48b-51f0-451e-8ab7-1470878215ff",
     "showTitle": false,
     "title": ""
    }
   },
   "outputs": [
    {
     "data": {
      "application/vnd.jupyter.widget-view+json": {
       "model_id": "8e9cab21f7b947a4ba2a37bc925e677a",
       "version_major": 2,
       "version_minor": 0
      },
      "text/plain": [
       "VBox()"
      ]
     },
     "metadata": {},
     "output_type": "display_data"
    },
    {
     "data": {
      "application/vnd.jupyter.widget-view+json": {
       "model_id": "",
       "version_major": 2,
       "version_minor": 0
      },
      "text/plain": [
       "FloatProgress(value=0.0, bar_style='info', description='Progress:', layout=Layout(height='25px', width='50%'),…"
      ]
     },
     "metadata": {},
     "output_type": "display_data"
    },
    {
     "name": "stdout",
     "output_type": "stream",
     "text": [
      "[['1/2/2009 6:17', 'Product1', '1200', 'Mastercard', 'carolina', 'Basildon', 'England', 'United Kingdom', '1/2/2009 6:00', '1/2/2009 6:08', '51.5', '-1.1166667'], ['1/2/2009 4:53', 'Product1', '1200', 'Visa', 'Betina', 'Parkville                   ', 'MO', 'United States', '1/2/2009 4:42', '1/2/2009 7:49', '39.195', '-94.68194'], ['1/2/2009 13:08', 'Product1', '1200', 'Mastercard', 'Federica e Andrea', 'Astoria                     ', 'OR', 'United States', '1/1/2009 16:21', '1/3/2009 12:32', '46.18806', '-123.83'], ['1/3/2009 14:44', 'Product1', '1200', 'Visa', 'Gouya', 'Echuca', 'Victoria', 'Australia', '9/25/2005 21:13', '1/3/2009 14:22', '-36.1333333', '144.75'], ['1/4/2009 12:56', 'Product2', '3600', 'Visa', 'Gerd W ', 'Cahaba Heights              ', 'AL', 'United States', '11/15/2008 15:47', '1/4/2009 12:45', '33.52056', '-86.8025']]"
     ]
    }
   ],
   "source": [
    "header = myRDD.first()\n",
    "myRDD = myRDD.filter(lambda row : row != header)\n",
    "myRDD.take(5)"
   ]
  },
  {
   "cell_type": "markdown",
   "metadata": {
    "application/vnd.databricks.v1+cell": {
     "cellMetadata": {},
     "inputWidgets": {},
     "nuid": "03b7e8bb-0913-407b-9b13-ab53b60e1e18",
     "showTitle": false,
     "title": ""
    }
   },
   "source": [
    "3. Displays number of records."
   ]
  },
  {
   "cell_type": "code",
   "execution_count": 24,
   "metadata": {
    "application/vnd.databricks.v1+cell": {
     "cellMetadata": {},
     "inputWidgets": {},
     "nuid": "6caf7438-b51d-4b82-872e-8edadfb5a6cb",
     "showTitle": false,
     "title": ""
    }
   },
   "outputs": [
    {
     "data": {
      "application/vnd.jupyter.widget-view+json": {
       "model_id": "761e146f6c7945e1a10b0a5f064088ae",
       "version_major": 2,
       "version_minor": 0
      },
      "text/plain": [
       "VBox()"
      ]
     },
     "metadata": {},
     "output_type": "display_data"
    },
    {
     "data": {
      "application/vnd.jupyter.widget-view+json": {
       "model_id": "",
       "version_major": 2,
       "version_minor": 0
      },
      "text/plain": [
       "FloatProgress(value=0.0, bar_style='info', description='Progress:', layout=Layout(height='25px', width='50%'),…"
      ]
     },
     "metadata": {},
     "output_type": "display_data"
    },
    {
     "name": "stdout",
     "output_type": "stream",
     "text": [
      "998"
     ]
    }
   ],
   "source": [
    "myRDD.count()"
   ]
  },
  {
   "cell_type": "markdown",
   "metadata": {
    "application/vnd.databricks.v1+cell": {
     "cellMetadata": {},
     "inputWidgets": {},
     "nuid": "f4876ac7-ebba-40cd-aaf4-d9bb8fa90d46",
     "showTitle": false,
     "title": ""
    }
   },
   "source": [
    "4. Select the transactions paid by Visa. Display 5 records."
   ]
  },
  {
   "cell_type": "code",
   "execution_count": 25,
   "metadata": {
    "application/vnd.databricks.v1+cell": {
     "cellMetadata": {},
     "inputWidgets": {},
     "nuid": "52b23b2a-edd8-4674-a92e-e10a1b6db6a4",
     "showTitle": false,
     "title": ""
    }
   },
   "outputs": [
    {
     "data": {
      "application/vnd.jupyter.widget-view+json": {
       "model_id": "a7ef179aa50d4fd98b8c10ef3c4f40f5",
       "version_major": 2,
       "version_minor": 0
      },
      "text/plain": [
       "VBox()"
      ]
     },
     "metadata": {},
     "output_type": "display_data"
    },
    {
     "data": {
      "application/vnd.jupyter.widget-view+json": {
       "model_id": "",
       "version_major": 2,
       "version_minor": 0
      },
      "text/plain": [
       "FloatProgress(value=0.0, bar_style='info', description='Progress:', layout=Layout(height='25px', width='50%'),…"
      ]
     },
     "metadata": {},
     "output_type": "display_data"
    },
    {
     "name": "stdout",
     "output_type": "stream",
     "text": [
      "[['1/2/2009 4:53', 'Product1', '1200', 'Visa', 'Betina', 'Parkville                   ', 'MO', 'United States', '1/2/2009 4:42', '1/2/2009 7:49', '39.195', '-94.68194'], ['1/3/2009 14:44', 'Product1', '1200', 'Visa', 'Gouya', 'Echuca', 'Victoria', 'Australia', '9/25/2005 21:13', '1/3/2009 14:22', '-36.1333333', '144.75'], ['1/4/2009 12:56', 'Product2', '3600', 'Visa', 'Gerd W ', 'Cahaba Heights              ', 'AL', 'United States', '11/15/2008 15:47', '1/4/2009 12:45', '33.52056', '-86.8025'], ['1/4/2009 13:19', 'Product1', '1200', 'Visa', 'LAURENCE', 'Mickleton                   ', 'NJ', 'United States', '9/24/2008 15:19', '1/4/2009 13:04', '39.79', '-75.23806'], ['1/4/2009 14:11', 'Product1', '1200', 'Visa', 'Aidan', 'Chatou', 'Ile-de-France', 'France', '6/3/2008 4:22', '1/5/2009 1:17', '48.8833333', '2.15']]"
     ]
    }
   ],
   "source": [
    "myRDD\\\n",
    ".filter(lambda c: c[3] == \"Visa\")\\\n",
    ".take(5)"
   ]
  },
  {
   "cell_type": "markdown",
   "metadata": {
    "application/vnd.databricks.v1+cell": {
     "cellMetadata": {},
     "inputWidgets": {},
     "nuid": "9daa7619-6bc4-464a-8fd2-1c18a2de6e76",
     "showTitle": false,
     "title": ""
    }
   },
   "source": [
    "5. Calculate total sales for each payment method. Note that all values in the RDD are string and you need to convert price to integer."
   ]
  },
  {
   "cell_type": "code",
   "execution_count": 26,
   "metadata": {
    "application/vnd.databricks.v1+cell": {
     "cellMetadata": {},
     "inputWidgets": {},
     "nuid": "3ecdd3d3-f673-402a-a684-92a434af62e6",
     "showTitle": false,
     "title": ""
    }
   },
   "outputs": [
    {
     "data": {
      "application/vnd.jupyter.widget-view+json": {
       "model_id": "cd12ee72c59d47c9b0a24e05d3b09f77",
       "version_major": 2,
       "version_minor": 0
      },
      "text/plain": [
       "VBox()"
      ]
     },
     "metadata": {},
     "output_type": "display_data"
    },
    {
     "data": {
      "application/vnd.jupyter.widget-view+json": {
       "model_id": "",
       "version_major": 2,
       "version_minor": 0
      },
      "text/plain": [
       "FloatProgress(value=0.0, bar_style='info', description='Progress:', layout=Layout(height='25px', width='50%'),…"
      ]
     },
     "metadata": {},
     "output_type": "display_data"
    },
    {
     "name": "stdout",
     "output_type": "stream",
     "text": [
      "[('Diners', 133800), ('Mastercard', 458450), ('Amex', 188900), ('Visa', 849350)]"
     ]
    }
   ],
   "source": [
    "myRDD.map(lambda c: (c[3], int(c[2])))\\\n",
    ".reduceByKey(lambda x, y: x + y)\\\n",
    ".collect()"
   ]
  },
  {
   "cell_type": "markdown",
   "metadata": {
    "application/vnd.databricks.v1+cell": {
     "cellMetadata": {},
     "inputWidgets": {},
     "nuid": "9e3ec264-3df9-4908-a076-430ad21e1cdb",
     "showTitle": false,
     "title": ""
    }
   },
   "source": [
    "6. Calculate cashback for each payment method. Here is the cashback percentage for each method: <br>\n",
    "Visa\t1%<br>\n",
    "Mastercard\t2%<br>\n",
    "Diners\t3%<br>\n",
    "Amex\t4%<br>\n",
    "Sort the results using cashback amount in descending order."
   ]
  },
  {
   "cell_type": "code",
   "execution_count": 27,
   "metadata": {
    "application/vnd.databricks.v1+cell": {
     "cellMetadata": {},
     "inputWidgets": {},
     "nuid": "0ce4645f-17da-401a-bce5-94f13b6f5a3e",
     "showTitle": false,
     "title": ""
    }
   },
   "outputs": [
    {
     "data": {
      "application/vnd.jupyter.widget-view+json": {
       "model_id": "120a3d4d38524ea7877131dba0ce641a",
       "version_major": 2,
       "version_minor": 0
      },
      "text/plain": [
       "VBox()"
      ]
     },
     "metadata": {},
     "output_type": "display_data"
    },
    {
     "data": {
      "application/vnd.jupyter.widget-view+json": {
       "model_id": "",
       "version_major": 2,
       "version_minor": 0
      },
      "text/plain": [
       "FloatProgress(value=0.0, bar_style='info', description='Progress:', layout=Layout(height='25px', width='50%'),…"
      ]
     },
     "metadata": {},
     "output_type": "display_data"
    },
    {
     "name": "stdout",
     "output_type": "stream",
     "text": [
      "[('Mastercard', 9169.0), ('Visa', 8493.5), ('Amex', 7556.0), ('Diners', 4014.0)]"
     ]
    }
   ],
   "source": [
    "cashbackPer={\n",
    "    \"Visa\": 0.01,\n",
    "    \"Mastercard\": 0.02,\n",
    "    \"Diners\": 0.03,\n",
    "    \"Amex\": 0.04\n",
    "}\n",
    "a =myRDD.map(lambda c: (c[3], int(c[2])))\\\n",
    ".reduceByKey(lambda x, y: x + y)\n",
    "a.map(lambda x: (x[0], x[1] * cashbackPer.get(x[0], 0.0)))\\\n",
    ".sortBy(lambda x: x[1], ascending=False)\\\n",
    ".collect()"
   ]
  },
  {
   "cell_type": "markdown",
   "metadata": {
    "application/vnd.databricks.v1+cell": {
     "cellMetadata": {},
     "inputWidgets": {},
     "nuid": "73c4e413-e023-4bb1-af0d-3378b4d107de",
     "showTitle": false,
     "title": ""
    }
   },
   "source": [
    "7. Calculate the distinct values for Product. Make sure spaces in the beginning or end of product names do not create new products."
   ]
  },
  {
   "cell_type": "code",
   "execution_count": 28,
   "metadata": {
    "application/vnd.databricks.v1+cell": {
     "cellMetadata": {},
     "inputWidgets": {},
     "nuid": "a65a5b6a-587e-42a0-8246-b4d95423ccc2",
     "showTitle": false,
     "title": ""
    }
   },
   "outputs": [
    {
     "data": {
      "application/vnd.jupyter.widget-view+json": {
       "model_id": "9ddb3c75ebd8407393171da8321fd7e9",
       "version_major": 2,
       "version_minor": 0
      },
      "text/plain": [
       "VBox()"
      ]
     },
     "metadata": {},
     "output_type": "display_data"
    },
    {
     "data": {
      "application/vnd.jupyter.widget-view+json": {
       "model_id": "",
       "version_major": 2,
       "version_minor": 0
      },
      "text/plain": [
       "FloatProgress(value=0.0, bar_style='info', description='Progress:', layout=Layout(height='25px', width='50%'),…"
      ]
     },
     "metadata": {},
     "output_type": "display_data"
    },
    {
     "name": "stdout",
     "output_type": "stream",
     "text": [
      "['Product3', 'Product2', 'Product1']"
     ]
    }
   ],
   "source": [
    "myRDD.map(lambda fields: fields[1].strip())\\\n",
    ".distinct()\\\n",
    ".collect()"
   ]
  },
  {
   "cell_type": "code",
   "execution_count": null,
   "metadata": {},
   "outputs": [],
   "source": []
  }
 ],
 "metadata": {
  "application/vnd.databricks.v1+notebook": {
   "dashboards": [],
   "environmentMetadata": null,
   "language": "python",
   "notebookMetadata": {
    "pythonIndentUnit": 4
   },
   "notebookName": "Assignment2",
   "widgets": {}
  },
  "kernelspec": {
   "display_name": "PySpark",
   "language": "python",
   "name": "pysparkkernel"
  },
  "language_info": {
   "codemirror_mode": {
    "name": "python",
    "version": 3
   },
   "file_extension": ".py",
   "mimetype": "text/x-python",
   "name": "pyspark",
   "pygments_lexer": "python3"
  }
 },
 "nbformat": 4,
 "nbformat_minor": 1
}
