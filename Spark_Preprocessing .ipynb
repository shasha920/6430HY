{
 "cells": [
  {
   "cell_type": "markdown",
   "metadata": {},
   "source": [
    "# GBA 6430 - Big Data Technology in Business\n",
    "# Dr. Mohammad Salehan\n",
    "# Preprocessing with Spark"
   ]
  },
  {
   "cell_type": "markdown",
   "metadata": {},
   "source": [
    "What problems can your dataset have? Well, to name a few:<ul>\n",
    "    <li><b>Duplicated observations</b>: These arise through systemic and operator's faults\n",
    " <li><b>Missing observations</b>: These can emerge due to sensor problems, respondents'\n",
    " unwillingness to provide an answer to a question, or simply some data\n",
    "corruption\n",
    " <li><b>Aanomalous observations</b>: Observations that, when you look at them, stand out\n",
    "when compared with the rest of the dataset or a population\n",
    " <li><b>Encoding</b>: Text fields that are not normalized (for example, words are not\n",
    "stemmed or use synonyms), in different languages, or you can encounter\n",
    "gibberish text input, and date and date time fields may not encoded the same\n",
    "way\n",
    " <li><b>Untrustworthy answers</b> (true especially for surveys): When respondents lie for\n",
    "any reason; this type of dirty data is much harder to work with and clean up"
   ]
  },
  {
   "cell_type": "markdown",
   "metadata": {},
   "source": [
    "### Initializitation\n",
    "The default visualization backend for `PySpark` is `plotly` which is not supported by AWS. Thus we switch to `matplotlib` instead."
   ]
  },
  {
   "cell_type": "code",
   "execution_count": 1,
   "metadata": {
    "tags": []
   },
   "outputs": [
    {
     "data": {
      "application/vnd.jupyter.widget-view+json": {
       "model_id": "3174ee504ec74b6790cd46c76a1272cd",
       "version_major": 2,
       "version_minor": 0
      },
      "text/plain": [
       "VBox()"
      ]
     },
     "metadata": {},
     "output_type": "display_data"
    },
    {
     "name": "stdout",
     "output_type": "stream",
     "text": [
      "Starting Spark application\n"
     ]
    },
    {
     "data": {
      "text/html": [
       "<table>\n",
       "<tr><th>ID</th><th>YARN Application ID</th><th>Kind</th><th>State</th><th>Spark UI</th><th>Driver log</th><th>User</th><th>Current session?</th></tr><tr><td>1</td><td>application_1718239785956_0002</td><td>pyspark</td><td>idle</td><td><a target=\"_blank\" href=\"http://ip-172-31-12-106.ec2.internal:20888/proxy/application_1718239785956_0002/\" class=\"emr-proxy-link\" emr-resource=\"j-3LIQREPIR5PIQ\n",
       "\" application-id=\"application_1718239785956_0002\">Link</a></td><td><a target=\"_blank\" href=\"http://ip-172-31-9-120.ec2.internal:8042/node/containerlogs/container_1718239785956_0002_01_000001/livy\" >Link</a></td><td>None</td><td>✔</td></tr></table>"
      ],
      "text/plain": [
       "<IPython.core.display.HTML object>"
      ]
     },
     "metadata": {},
     "output_type": "display_data"
    },
    {
     "data": {
      "application/vnd.jupyter.widget-view+json": {
       "model_id": "",
       "version_major": 2,
       "version_minor": 0
      },
      "text/plain": [
       "FloatProgress(value=0.0, bar_style='info', description='Progress:', layout=Layout(height='25px', width='50%'),…"
      ]
     },
     "metadata": {},
     "output_type": "display_data"
    },
    {
     "name": "stdout",
     "output_type": "stream",
     "text": [
      "SparkSession available as 'spark'.\n"
     ]
    },
    {
     "data": {
      "application/vnd.jupyter.widget-view+json": {
       "model_id": "",
       "version_major": 2,
       "version_minor": 0
      },
      "text/plain": [
       "FloatProgress(value=0.0, bar_style='info', description='Progress:', layout=Layout(height='25px', width='50%'),…"
      ]
     },
     "metadata": {},
     "output_type": "display_data"
    },
    {
     "name": "stdout",
     "output_type": "stream",
     "text": [
      "/mnt1/yarn/usercache/livy/appcache/application_1718239785956_0002/container_1718239785956_0002_01_000001/pyspark.zip/pyspark/pandas/__init__.py:51: UserWarning: 'PYARROW_IGNORE_TIMEZONE' environment variable was not set. It is required to set this environment variable to '1' in both driver and executor sides if you use pyarrow>=2.0.0. pandas-on-Spark will set it for you but it does not work if there is a Spark context already launched."
     ]
    }
   ],
   "source": [
    "import pyspark.pandas as ps\n",
    "import matplotlib.pyplot as plt\n",
    "ps.set_option('plotting.backend', 'matplotlib')"
   ]
  },
  {
   "cell_type": "markdown",
   "metadata": {},
   "source": [
    "## Some dirty data"
   ]
  },
  {
   "cell_type": "code",
   "execution_count": 2,
   "metadata": {
    "tags": []
   },
   "outputs": [
    {
     "data": {
      "application/vnd.jupyter.widget-view+json": {
       "model_id": "2b19badfc8be4829ab9fe6950566ee1a",
       "version_major": 2,
       "version_minor": 0
      },
      "text/plain": [
       "VBox()"
      ]
     },
     "metadata": {},
     "output_type": "display_data"
    },
    {
     "data": {
      "application/vnd.jupyter.widget-view+json": {
       "model_id": "",
       "version_major": 2,
       "version_minor": 0
      },
      "text/plain": [
       "FloatProgress(value=0.0, bar_style='info', description='Progress:', layout=Layout(height='25px', width='50%'),…"
      ]
     },
     "metadata": {},
     "output_type": "display_data"
    }
   ],
   "source": [
    "dirty_data = ps.DataFrame([\n",
    "          (1,'Porsche','Boxster S','Turbo',2.5,4,22,None)\n",
    "        , (2,'Aston Martin','Vanquish','Aspirated',6.0,12,16,None)\n",
    "        , (3,'Porsche','911 Carrera 4S Cabriolet','Turbo',3.0,6,24,None)\n",
    "        , (3,'General Motors','SPARK ACTIV','Aspirated',1.4,None,32,None)\n",
    "        , (5,'BMW','COOPER S HARDTOP 2 DOOR','Turbo',2.0,4,26,None)\n",
    "        , (6,'BMW','330i','Turbo',2.0,None,27,None)\n",
    "        , (7,'BMW','440i Coupe','Turbo',3.0,6,23,None)\n",
    "        , (8,'BMW','440i Coupe','Turbo',3.0,6,23,None)\n",
    "        , (9,'Mercedes-Benz',None,None,None,None,27,None)\n",
    "        , (10,'Mercedes-Benz','CLS 550','Turbo',4.7,8,21,79231)\n",
    "        , (11,'Volkswagen','GTI','Turbo',2.0,4,None,None)\n",
    "        , (12,'Ford Motor Company','FUSION AWD','Turbo',2.7,6,20,None)\n",
    "        , (13,'Nissan','Q50 AWD RED SPORT','Turbo',3.0,6,22,None)\n",
    "        , (14,'Nissan','Q70 AWD','Aspirated',5.6,8,18,None)\n",
    "        , (15,'Kia','Stinger RWD','Turbo',2.0,4,25,None)\n",
    "        , (16,'Toyota','CAMRY HYBRID LE','Aspirated',2.5,4,46,None)\n",
    "        , (16,'Toyota','CAMRY HYBRID LE','Aspirated',2.5,4,46,None)\n",
    "        , (18,'FCA US LLC','300','Aspirated',3.6,6,23,None)\n",
    "        , (19,'Hyundai','G80 AWD','Turbo',3.3,6,20,None)\n",
    "        , (20,'Hyundai','G80 AWD','Turbo',3.3,6,20,None)\n",
    "        , (21,'BMW','X5 M','Turbo',4.4,8,18,121231)\n",
    "        , (22,'GE','K1500 SUBURBAN 4WD','Aspirated',5.3,8,18,None)\n",
    "    ], columns=['Id','Manufacturer','Model','EngineType','Displacement',\n",
    "        'Cylinders','FuelEconomy','MSRP'])"
   ]
  },
  {
   "cell_type": "code",
   "execution_count": 3,
   "metadata": {
    "tags": []
   },
   "outputs": [
    {
     "data": {
      "application/vnd.jupyter.widget-view+json": {
       "model_id": "57e7aa1b21f34479b58788f0a36a9601",
       "version_major": 2,
       "version_minor": 0
      },
      "text/plain": [
       "VBox()"
      ]
     },
     "metadata": {},
     "output_type": "display_data"
    },
    {
     "data": {
      "application/vnd.jupyter.widget-view+json": {
       "model_id": "",
       "version_major": 2,
       "version_minor": 0
      },
      "text/plain": [
       "FloatProgress(value=0.0, bar_style='info', description='Progress:', layout=Layout(height='25px', width='50%'),…"
      ]
     },
     "metadata": {},
     "output_type": "display_data"
    },
    {
     "name": "stdout",
     "output_type": "stream",
     "text": [
      "    Id        Manufacturer                     Model EngineType  Displacement  Cylinders  FuelEconomy      MSRP\n",
      "0    1             Porsche                 Boxster S      Turbo           2.5        4.0         22.0       NaN\n",
      "1    2        Aston Martin                  Vanquish  Aspirated           6.0       12.0         16.0       NaN\n",
      "2    3             Porsche  911 Carrera 4S Cabriolet      Turbo           3.0        6.0         24.0       NaN\n",
      "3    3      General Motors               SPARK ACTIV  Aspirated           1.4        NaN         32.0       NaN\n",
      "4    5                 BMW   COOPER S HARDTOP 2 DOOR      Turbo           2.0        4.0         26.0       NaN\n",
      "5    6                 BMW                      330i      Turbo           2.0        NaN         27.0       NaN\n",
      "6    7                 BMW                440i Coupe      Turbo           3.0        6.0         23.0       NaN\n",
      "7    8                 BMW                440i Coupe      Turbo           3.0        6.0         23.0       NaN\n",
      "8    9       Mercedes-Benz                      None       None           NaN        NaN         27.0       NaN\n",
      "9   10       Mercedes-Benz                   CLS 550      Turbo           4.7        8.0         21.0   79231.0\n",
      "10  11          Volkswagen                       GTI      Turbo           2.0        4.0          NaN       NaN\n",
      "11  12  Ford Motor Company                FUSION AWD      Turbo           2.7        6.0         20.0       NaN\n",
      "12  13              Nissan         Q50 AWD RED SPORT      Turbo           3.0        6.0         22.0       NaN\n",
      "13  14              Nissan                   Q70 AWD  Aspirated           5.6        8.0         18.0       NaN\n",
      "14  15                 Kia               Stinger RWD      Turbo           2.0        4.0         25.0       NaN\n",
      "15  16              Toyota           CAMRY HYBRID LE  Aspirated           2.5        4.0         46.0       NaN\n",
      "16  16              Toyota           CAMRY HYBRID LE  Aspirated           2.5        4.0         46.0       NaN\n",
      "17  18          FCA US LLC                       300  Aspirated           3.6        6.0         23.0       NaN\n",
      "18  19             Hyundai                   G80 AWD      Turbo           3.3        6.0         20.0       NaN\n",
      "19  20             Hyundai                   G80 AWD      Turbo           3.3        6.0         20.0       NaN\n",
      "20  21                 BMW                      X5 M      Turbo           4.4        8.0         18.0  121231.0\n",
      "21  22                  GE        K1500 SUBURBAN 4WD  Aspirated           5.3        8.0         18.0       NaN"
     ]
    }
   ],
   "source": [
    "dirty_data.head(22)"
   ]
  },
  {
   "cell_type": "markdown",
   "metadata": {},
   "source": [
    "## Handling duplicates"
   ]
  },
  {
   "cell_type": "markdown",
   "metadata": {},
   "source": [
    "### Exact duplicates"
   ]
  },
  {
   "cell_type": "code",
   "execution_count": 4,
   "metadata": {},
   "outputs": [
    {
     "data": {
      "application/vnd.jupyter.widget-view+json": {
       "model_id": "a0cee36aee2248b18758ba0843aff3cd",
       "version_major": 2,
       "version_minor": 0
      },
      "text/plain": [
       "VBox()"
      ]
     },
     "metadata": {},
     "output_type": "display_data"
    },
    {
     "data": {
      "application/vnd.jupyter.widget-view+json": {
       "model_id": "",
       "version_major": 2,
       "version_minor": 0
      },
      "text/plain": [
       "FloatProgress(value=0.0, bar_style='info', description='Progress:', layout=Layout(height='25px', width='50%'),…"
      ]
     },
     "metadata": {},
     "output_type": "display_data"
    },
    {
     "name": "stdout",
     "output_type": "stream",
     "text": [
      "0    False\n",
      "1    False\n",
      "3    False\n",
      "2    False\n",
      "4    False\n",
      "dtype: bool"
     ]
    }
   ],
   "source": [
    "# do we have any rows that are duplicated?\n",
    "duplicates = dirty_data.duplicated()\n",
    "duplicates.head()"
   ]
  },
  {
   "cell_type": "code",
   "execution_count": 5,
   "metadata": {},
   "outputs": [
    {
     "data": {
      "application/vnd.jupyter.widget-view+json": {
       "model_id": "6390d3abd9fa4f35ac83d5ffb6b93271",
       "version_major": 2,
       "version_minor": 0
      },
      "text/plain": [
       "VBox()"
      ]
     },
     "metadata": {},
     "output_type": "display_data"
    },
    {
     "data": {
      "application/vnd.jupyter.widget-view+json": {
       "model_id": "",
       "version_major": 2,
       "version_minor": 0
      },
      "text/plain": [
       "FloatProgress(value=0.0, bar_style='info', description='Progress:', layout=Layout(height='25px', width='50%'),…"
      ]
     },
     "metadata": {},
     "output_type": "display_data"
    },
    {
     "name": "stdout",
     "output_type": "stream",
     "text": [
      "count of duplicated records is 1"
     ]
    }
   ],
   "source": [
    "print(f'count of duplicated records is {duplicates.sum()}')"
   ]
  },
  {
   "cell_type": "code",
   "execution_count": 6,
   "metadata": {},
   "outputs": [
    {
     "data": {
      "application/vnd.jupyter.widget-view+json": {
       "model_id": "ef4a27d82427417896b22364010a4494",
       "version_major": 2,
       "version_minor": 0
      },
      "text/plain": [
       "VBox()"
      ]
     },
     "metadata": {},
     "output_type": "display_data"
    },
    {
     "data": {
      "application/vnd.jupyter.widget-view+json": {
       "model_id": "",
       "version_major": 2,
       "version_minor": 0
      },
      "text/plain": [
       "FloatProgress(value=0.0, bar_style='info', description='Progress:', layout=Layout(height='25px', width='50%'),…"
      ]
     },
     "metadata": {},
     "output_type": "display_data"
    },
    {
     "name": "stdout",
     "output_type": "stream",
     "text": [
      "    Id Manufacturer            Model EngineType  Displacement  Cylinders  FuelEconomy  MSRP  is_duplicated\n",
      "16  16       Toyota  CAMRY HYBRID LE  Aspirated           2.5        4.0         46.0   NaN           True"
     ]
    }
   ],
   "source": [
    "#Let's add duplicated index to the df to find the duplicated rows\n",
    "dirty_data_with_dup_index = ps.merge(dirty_data, duplicates.rename('is_duplicated'), \n",
    "                                     left_index=True, right_index=True)\n",
    "dirty_data_with_dup_index[dirty_data_with_dup_index.is_duplicated].head()"
   ]
  },
  {
   "cell_type": "code",
   "execution_count": 7,
   "metadata": {
    "tags": []
   },
   "outputs": [
    {
     "data": {
      "application/vnd.jupyter.widget-view+json": {
       "model_id": "df2fff2f266a4e7bb95d1213743d363f",
       "version_major": 2,
       "version_minor": 0
      },
      "text/plain": [
       "VBox()"
      ]
     },
     "metadata": {},
     "output_type": "display_data"
    },
    {
     "data": {
      "application/vnd.jupyter.widget-view+json": {
       "model_id": "",
       "version_major": 2,
       "version_minor": 0
      },
      "text/plain": [
       "FloatProgress(value=0.0, bar_style='info', description='Progress:', layout=Layout(height='25px', width='50%'),…"
      ]
     },
     "metadata": {},
     "output_type": "display_data"
    },
    {
     "name": "stdout",
     "output_type": "stream",
     "text": [
      "(21, 8)"
     ]
    }
   ],
   "source": [
    "# remove the duplicated rows\n",
    "full_removed = dirty_data.drop_duplicates()\n",
    "full_removed.shape"
   ]
  },
  {
   "cell_type": "markdown",
   "metadata": {},
   "source": [
    "### Python review: nested list comprehension"
   ]
  },
  {
   "cell_type": "code",
   "execution_count": 8,
   "metadata": {
    "tags": []
   },
   "outputs": [
    {
     "data": {
      "application/vnd.jupyter.widget-view+json": {
       "model_id": "2bf383f5d0e84f44be0250a75a6b32f1",
       "version_major": 2,
       "version_minor": 0
      },
      "text/plain": [
       "VBox()"
      ]
     },
     "metadata": {},
     "output_type": "display_data"
    },
    {
     "data": {
      "application/vnd.jupyter.widget-view+json": {
       "model_id": "",
       "version_major": 2,
       "version_minor": 0
      },
      "text/plain": [
       "FloatProgress(value=0.0, bar_style='info', description='Progress:', layout=Layout(height='25px', width='50%'),…"
      ]
     },
     "metadata": {},
     "output_type": "display_data"
    },
    {
     "name": "stdout",
     "output_type": "stream",
     "text": [
      "[1, 3, 4]"
     ]
    }
   ],
   "source": [
    "a =[1, 2, 3, 4]\n",
    "b = [i for i in a if i != 2]\n",
    "b"
   ]
  },
  {
   "cell_type": "code",
   "execution_count": null,
   "metadata": {},
   "outputs": [],
   "source": [
    "[col for col in full_removed.columns if col not in ['Id', 'Manufacturer']]"
   ]
  },
  {
   "cell_type": "markdown",
   "metadata": {},
   "source": [
    "### Duplicates where only ID differs"
   ]
  },
  {
   "cell_type": "code",
   "execution_count": 9,
   "metadata": {},
   "outputs": [
    {
     "data": {
      "application/vnd.jupyter.widget-view+json": {
       "model_id": "814439dedd0b4e91994531e2dd9dc048",
       "version_major": 2,
       "version_minor": 0
      },
      "text/plain": [
       "VBox()"
      ]
     },
     "metadata": {},
     "output_type": "display_data"
    },
    {
     "data": {
      "application/vnd.jupyter.widget-view+json": {
       "model_id": "",
       "version_major": 2,
       "version_minor": 0
      },
      "text/plain": [
       "FloatProgress(value=0.0, bar_style='info', description='Progress:', layout=Layout(height='25px', width='50%'),…"
      ]
     },
     "metadata": {},
     "output_type": "display_data"
    },
    {
     "name": "stdout",
     "output_type": "stream",
     "text": [
      "2"
     ]
    }
   ],
   "source": [
    "no_ids = full_removed.duplicated(subset=[col for col in full_removed.columns if col != 'Id'])\n",
    "no_ids.sum()"
   ]
  },
  {
   "cell_type": "code",
   "execution_count": 10,
   "metadata": {},
   "outputs": [
    {
     "data": {
      "application/vnd.jupyter.widget-view+json": {
       "model_id": "71faffdc526e4630831919f102799f54",
       "version_major": 2,
       "version_minor": 0
      },
      "text/plain": [
       "VBox()"
      ]
     },
     "metadata": {},
     "output_type": "display_data"
    },
    {
     "data": {
      "application/vnd.jupyter.widget-view+json": {
       "model_id": "",
       "version_major": 2,
       "version_minor": 0
      },
      "text/plain": [
       "FloatProgress(value=0.0, bar_style='info', description='Progress:', layout=Layout(height='25px', width='50%'),…"
      ]
     },
     "metadata": {},
     "output_type": "display_data"
    },
    {
     "name": "stdout",
     "output_type": "stream",
     "text": [
      "    Id Manufacturer       Model EngineType  Displacement  Cylinders  FuelEconomy  MSRP  is_duplicated\n",
      "7    8          BMW  440i Coupe      Turbo           3.0        6.0         23.0   NaN           True\n",
      "19  20      Hyundai     G80 AWD      Turbo           3.3        6.0         20.0   NaN           True"
     ]
    }
   ],
   "source": [
    "no_ids_with_dup_index = ps.merge(full_removed, no_ids.rename('is_duplicated'), \n",
    "                                     left_index=True, right_index=True)\n",
    "no_ids_with_dup_index[no_ids_with_dup_index.is_duplicated].head()"
   ]
  },
  {
   "cell_type": "code",
   "execution_count": 11,
   "metadata": {
    "tags": []
   },
   "outputs": [
    {
     "data": {
      "application/vnd.jupyter.widget-view+json": {
       "model_id": "4d066301135d47989d1f3cece2154420",
       "version_major": 2,
       "version_minor": 0
      },
      "text/plain": [
       "VBox()"
      ]
     },
     "metadata": {},
     "output_type": "display_data"
    },
    {
     "data": {
      "application/vnd.jupyter.widget-view+json": {
       "model_id": "",
       "version_major": 2,
       "version_minor": 0
      },
      "text/plain": [
       "FloatProgress(value=0.0, bar_style='info', description='Progress:', layout=Layout(height='25px', width='50%'),…"
      ]
     },
     "metadata": {},
     "output_type": "display_data"
    },
    {
     "name": "stdout",
     "output_type": "stream",
     "text": [
      "(19, 8)"
     ]
    }
   ],
   "source": [
    "# remove the duplicated record\n",
    "id_removed = full_removed.drop_duplicates(\n",
    "    subset = [col for col in full_removed.columns if col != 'Id']\n",
    ")\n",
    "id_removed.shape"
   ]
  },
  {
   "cell_type": "markdown",
   "metadata": {},
   "source": [
    "### Duplicated IDs"
   ]
  },
  {
   "cell_type": "code",
   "execution_count": 12,
   "metadata": {
    "tags": []
   },
   "outputs": [
    {
     "data": {
      "application/vnd.jupyter.widget-view+json": {
       "model_id": "e4e9a5c3314b49c3b68f9c7c8861d3c4",
       "version_major": 2,
       "version_minor": 0
      },
      "text/plain": [
       "VBox()"
      ]
     },
     "metadata": {},
     "output_type": "display_data"
    },
    {
     "data": {
      "application/vnd.jupyter.widget-view+json": {
       "model_id": "",
       "version_major": 2,
       "version_minor": 0
      },
      "text/plain": [
       "FloatProgress(value=0.0, bar_style='info', description='Progress:', layout=Layout(height='25px', width='50%'),…"
      ]
     },
     "metadata": {},
     "output_type": "display_data"
    },
    {
     "name": "stdout",
     "output_type": "stream",
     "text": [
      "(19, 18)"
     ]
    }
   ],
   "source": [
    "# are there any duplicated IDs?\n",
    "id_removed.shape[0], id_removed['Id'].nunique()"
   ]
  },
  {
   "cell_type": "code",
   "execution_count": 13,
   "metadata": {
    "tags": []
   },
   "outputs": [
    {
     "data": {
      "application/vnd.jupyter.widget-view+json": {
       "model_id": "c818c3a06e014b25bc861c653cc83dfb",
       "version_major": 2,
       "version_minor": 0
      },
      "text/plain": [
       "VBox()"
      ]
     },
     "metadata": {},
     "output_type": "display_data"
    },
    {
     "data": {
      "application/vnd.jupyter.widget-view+json": {
       "model_id": "",
       "version_major": 2,
       "version_minor": 0
      },
      "text/plain": [
       "FloatProgress(value=0.0, bar_style='info', description='Progress:', layout=Layout(height='25px', width='50%'),…"
      ]
     },
     "metadata": {},
     "output_type": "display_data"
    },
    {
     "name": "stdout",
     "output_type": "stream",
     "text": [
      "3    2\n",
      "Name: Id, dtype: int64"
     ]
    }
   ],
   "source": [
    "# what id is duplicated?\n",
    "x = id_removed['Id'].value_counts()\n",
    "x[x > 1]"
   ]
  },
  {
   "cell_type": "code",
   "execution_count": 14,
   "metadata": {
    "tags": []
   },
   "outputs": [
    {
     "data": {
      "application/vnd.jupyter.widget-view+json": {
       "model_id": "2f6cd60ab1eb481aaa8080d7a44c454e",
       "version_major": 2,
       "version_minor": 0
      },
      "text/plain": [
       "VBox()"
      ]
     },
     "metadata": {},
     "output_type": "display_data"
    },
    {
     "data": {
      "application/vnd.jupyter.widget-view+json": {
       "model_id": "",
       "version_major": 2,
       "version_minor": 0
      },
      "text/plain": [
       "FloatProgress(value=0.0, bar_style='info', description='Progress:', layout=Layout(height='25px', width='50%'),…"
      ]
     },
     "metadata": {},
     "output_type": "display_data"
    },
    {
     "name": "stdout",
     "output_type": "stream",
     "text": [
      "   Id    Manufacturer                     Model EngineType  Displacement  Cylinders  FuelEconomy  MSRP\n",
      "3   3  General Motors               SPARK ACTIV  Aspirated           1.4        NaN         32.0   NaN\n",
      "2   3         Porsche  911 Carrera 4S Cabriolet      Turbo           3.0        6.0         24.0   NaN"
     ]
    }
   ],
   "source": [
    "#What rows have duplicate ids?\n",
    "id_removed[id_removed.Id == 3]"
   ]
  },
  {
   "cell_type": "code",
   "execution_count": 15,
   "metadata": {
    "tags": []
   },
   "outputs": [
    {
     "data": {
      "application/vnd.jupyter.widget-view+json": {
       "model_id": "8a37b1f2d40c42fab4858f13bbfecb4d",
       "version_major": 2,
       "version_minor": 0
      },
      "text/plain": [
       "VBox()"
      ]
     },
     "metadata": {},
     "output_type": "display_data"
    },
    {
     "data": {
      "application/vnd.jupyter.widget-view+json": {
       "model_id": "",
       "version_major": 2,
       "version_minor": 0
      },
      "text/plain": [
       "FloatProgress(value=0.0, bar_style='info', description='Progress:', layout=Layout(height='25px', width='50%'),…"
      ]
     },
     "metadata": {},
     "output_type": "display_data"
    },
    {
     "name": "stdout",
     "output_type": "stream",
     "text": [
      "    Id        Manufacturer                     Model EngineType  Displacement  Cylinders  FuelEconomy      MSRP\n",
      "1    1        Aston Martin                  Vanquish  Aspirated           6.0       12.0         16.0       NaN\n",
      "5    5                 BMW                      330i      Turbo           2.0        NaN         27.0       NaN\n",
      "6    6                 BMW                440i Coupe      Turbo           3.0        6.0         23.0       NaN\n",
      "4    4                 BMW   COOPER S HARDTOP 2 DOOR      Turbo           2.0        4.0         26.0       NaN\n",
      "20  20                 BMW                      X5 M      Turbo           4.4        8.0         18.0  121231.0\n",
      "17  17          FCA US LLC                       300  Aspirated           3.6        6.0         23.0       NaN\n",
      "11  11  Ford Motor Company                FUSION AWD      Turbo           2.7        6.0         20.0       NaN\n",
      "21  21                  GE        K1500 SUBURBAN 4WD  Aspirated           5.3        8.0         18.0       NaN\n",
      "3    3      General Motors               SPARK ACTIV  Aspirated           1.4        NaN         32.0       NaN\n",
      "18  18             Hyundai                   G80 AWD      Turbo           3.3        6.0         20.0       NaN\n",
      "14  14                 Kia               Stinger RWD      Turbo           2.0        4.0         25.0       NaN\n",
      "8    8       Mercedes-Benz                      None       None           NaN        NaN         27.0       NaN\n",
      "9    9       Mercedes-Benz                   CLS 550      Turbo           4.7        8.0         21.0   79231.0\n",
      "12  12              Nissan         Q50 AWD RED SPORT      Turbo           3.0        6.0         22.0       NaN\n",
      "13  13              Nissan                   Q70 AWD  Aspirated           5.6        8.0         18.0       NaN\n",
      "2    2             Porsche  911 Carrera 4S Cabriolet      Turbo           3.0        6.0         24.0       NaN\n",
      "0    0             Porsche                 Boxster S      Turbo           2.5        4.0         22.0       NaN\n",
      "15  15              Toyota           CAMRY HYBRID LE  Aspirated           2.5        4.0         46.0       NaN\n",
      "10  10          Volkswagen                       GTI      Turbo           2.0        4.0          NaN       NaN"
     ]
    }
   ],
   "source": [
    "new_id = id_removed\n",
    "new_id['Id'] = new_id.index\n",
    "new_id"
   ]
  },
  {
   "cell_type": "code",
   "execution_count": 16,
   "metadata": {
    "tags": []
   },
   "outputs": [
    {
     "data": {
      "application/vnd.jupyter.widget-view+json": {
       "model_id": "e9c177aa8c8942a387db7a0141301ae0",
       "version_major": 2,
       "version_minor": 0
      },
      "text/plain": [
       "VBox()"
      ]
     },
     "metadata": {},
     "output_type": "display_data"
    },
    {
     "data": {
      "application/vnd.jupyter.widget-view+json": {
       "model_id": "",
       "version_major": 2,
       "version_minor": 0
      },
      "text/plain": [
       "FloatProgress(value=0.0, bar_style='info', description='Progress:', layout=Layout(height='25px', width='50%'),…"
      ]
     },
     "metadata": {},
     "output_type": "display_data"
    },
    {
     "name": "stdout",
     "output_type": "stream",
     "text": [
      "(19, 19)"
     ]
    }
   ],
   "source": [
    "new_id.shape[0], new_id['Id'].nunique()"
   ]
  },
  {
   "cell_type": "markdown",
   "metadata": {},
   "source": [
    "## Handling missing observations"
   ]
  },
  {
   "cell_type": "markdown",
   "metadata": {},
   "source": [
    "### Missing observations per row"
   ]
  },
  {
   "cell_type": "code",
   "execution_count": 17,
   "metadata": {
    "tags": []
   },
   "outputs": [
    {
     "data": {
      "application/vnd.jupyter.widget-view+json": {
       "model_id": "af0a43fda38a4b7aac6e226e6b027903",
       "version_major": 2,
       "version_minor": 0
      },
      "text/plain": [
       "VBox()"
      ]
     },
     "metadata": {},
     "output_type": "display_data"
    },
    {
     "data": {
      "application/vnd.jupyter.widget-view+json": {
       "model_id": "",
       "version_major": 2,
       "version_minor": 0
      },
      "text/plain": [
       "FloatProgress(value=0.0, bar_style='info', description='Progress:', layout=Layout(height='25px', width='50%'),…"
      ]
     },
     "metadata": {},
     "output_type": "display_data"
    },
    {
     "name": "stdout",
     "output_type": "stream",
     "text": [
      "17"
     ]
    }
   ],
   "source": [
    "#examine if there are any rows with missing values\n",
    "x = new_id.isna().sum(axis=1)\n",
    "x[x >= 1].shape[0]"
   ]
  },
  {
   "cell_type": "code",
   "execution_count": 18,
   "metadata": {
    "tags": []
   },
   "outputs": [
    {
     "data": {
      "application/vnd.jupyter.widget-view+json": {
       "model_id": "5d2d1461aa6a4a28bb0abc53c98b6bb6",
       "version_major": 2,
       "version_minor": 0
      },
      "text/plain": [
       "VBox()"
      ]
     },
     "metadata": {},
     "output_type": "display_data"
    },
    {
     "data": {
      "application/vnd.jupyter.widget-view+json": {
       "model_id": "",
       "version_major": 2,
       "version_minor": 0
      },
      "text/plain": [
       "FloatProgress(value=0.0, bar_style='info', description='Progress:', layout=Layout(height='25px', width='50%'),…"
      ]
     },
     "metadata": {},
     "output_type": "display_data"
    },
    {
     "name": "stdout",
     "output_type": "stream",
     "text": [
      "Id\n",
      "8     5\n",
      "5     2\n",
      "3     2\n",
      "10    2\n",
      "1     1\n",
      "6     1\n",
      "4     1\n",
      "17    1\n",
      "11    1\n",
      "21    1\n",
      "18    1\n",
      "14    1\n",
      "12    1\n",
      "13    1\n",
      "2     1\n",
      "0     1\n",
      "15    1\n",
      "20    0\n",
      "9     0\n",
      "dtype: int64"
     ]
    }
   ],
   "source": [
    "#count the number of missing values in each row\n",
    "x = new_id.set_index('Id').isna().sum(axis=1)\n",
    "x.sort_values(ascending=False)"
   ]
  },
  {
   "cell_type": "code",
   "execution_count": 19,
   "metadata": {
    "tags": []
   },
   "outputs": [
    {
     "data": {
      "application/vnd.jupyter.widget-view+json": {
       "model_id": "44b7ae8fe671479b88de1d23ee70880d",
       "version_major": 2,
       "version_minor": 0
      },
      "text/plain": [
       "VBox()"
      ]
     },
     "metadata": {},
     "output_type": "display_data"
    },
    {
     "data": {
      "application/vnd.jupyter.widget-view+json": {
       "model_id": "",
       "version_major": 2,
       "version_minor": 0
      },
      "text/plain": [
       "FloatProgress(value=0.0, bar_style='info', description='Progress:', layout=Layout(height='25px', width='50%'),…"
      ]
     },
     "metadata": {},
     "output_type": "display_data"
    },
    {
     "name": "stdout",
     "output_type": "stream",
     "text": [
      "   Id   Manufacturer Model EngineType  Displacement  Cylinders  FuelEconomy  MSRP\n",
      "8   8  Mercedes-Benz  None       None           NaN        NaN         27.0   NaN"
     ]
    }
   ],
   "source": [
    "#view the row with the most missing values\n",
    "new_id[new_id.Id == 8]"
   ]
  },
  {
   "cell_type": "code",
   "execution_count": 20,
   "metadata": {
    "tags": []
   },
   "outputs": [
    {
     "data": {
      "application/vnd.jupyter.widget-view+json": {
       "model_id": "3f36dc1a7fe74108923faab6a2825c3a",
       "version_major": 2,
       "version_minor": 0
      },
      "text/plain": [
       "VBox()"
      ]
     },
     "metadata": {},
     "output_type": "display_data"
    },
    {
     "data": {
      "application/vnd.jupyter.widget-view+json": {
       "model_id": "",
       "version_major": 2,
       "version_minor": 0
      },
      "text/plain": [
       "FloatProgress(value=0.0, bar_style='info', description='Progress:', layout=Layout(height='25px', width='50%'),…"
      ]
     },
     "metadata": {},
     "output_type": "display_data"
    },
    {
     "name": "stdout",
     "output_type": "stream",
     "text": [
      "(19, 18)"
     ]
    }
   ],
   "source": [
    "#drop rows that have less than thresh NON-NULL values. \n",
    "merc_out = new_id.dropna(thresh=4)\n",
    "new_id.shape[0], merc_out.shape[0]"
   ]
  },
  {
   "cell_type": "code",
   "execution_count": 21,
   "metadata": {
    "tags": []
   },
   "outputs": [
    {
     "data": {
      "application/vnd.jupyter.widget-view+json": {
       "model_id": "0fd3bd965b624845aba697f77dc6945c",
       "version_major": 2,
       "version_minor": 0
      },
      "text/plain": [
       "VBox()"
      ]
     },
     "metadata": {},
     "output_type": "display_data"
    },
    {
     "data": {
      "application/vnd.jupyter.widget-view+json": {
       "model_id": "",
       "version_major": 2,
       "version_minor": 0
      },
      "text/plain": [
       "FloatProgress(value=0.0, bar_style='info', description='Progress:', layout=Layout(height='25px', width='50%'),…"
      ]
     },
     "metadata": {},
     "output_type": "display_data"
    },
    {
     "name": "stdout",
     "output_type": "stream",
     "text": [
      "Empty DataFrame\n",
      "Columns: [Id, Manufacturer, Model, EngineType, Displacement, Cylinders, FuelEconomy, MSRP]\n",
      "Index: []"
     ]
    }
   ],
   "source": [
    "#making sure the row with 5 missing values is gone\n",
    "merc_out[merc_out.Id == 8]"
   ]
  },
  {
   "cell_type": "markdown",
   "metadata": {},
   "source": [
    "### Missing observations per column"
   ]
  },
  {
   "cell_type": "code",
   "execution_count": 22,
   "metadata": {
    "tags": []
   },
   "outputs": [
    {
     "data": {
      "application/vnd.jupyter.widget-view+json": {
       "model_id": "1b03bc4c7ad0450fa760661e925536fc",
       "version_major": 2,
       "version_minor": 0
      },
      "text/plain": [
       "VBox()"
      ]
     },
     "metadata": {},
     "output_type": "display_data"
    },
    {
     "data": {
      "application/vnd.jupyter.widget-view+json": {
       "model_id": "",
       "version_major": 2,
       "version_minor": 0
      },
      "text/plain": [
       "FloatProgress(value=0.0, bar_style='info', description='Progress:', layout=Layout(height='25px', width='50%'),…"
      ]
     },
     "metadata": {},
     "output_type": "display_data"
    },
    {
     "name": "stdout",
     "output_type": "stream",
     "text": [
      "Id              0.000000\n",
      "Manufacturer    0.000000\n",
      "Model           0.000000\n",
      "EngineType      0.000000\n",
      "Displacement    0.000000\n",
      "Cylinders       0.111111\n",
      "FuelEconomy     0.055556\n",
      "MSRP            0.888889\n",
      "dtype: float64"
     ]
    }
   ],
   "source": [
    "#count percentage of missing values in each column\n",
    "merc_out.isna().sum(axis=0)/merc_out.shape[0]"
   ]
  },
  {
   "cell_type": "code",
   "execution_count": 23,
   "metadata": {
    "tags": []
   },
   "outputs": [
    {
     "data": {
      "application/vnd.jupyter.widget-view+json": {
       "model_id": "ca192800b8604ef2b2ff54df5398dfee",
       "version_major": 2,
       "version_minor": 0
      },
      "text/plain": [
       "VBox()"
      ]
     },
     "metadata": {},
     "output_type": "display_data"
    },
    {
     "data": {
      "application/vnd.jupyter.widget-view+json": {
       "model_id": "",
       "version_major": 2,
       "version_minor": 0
      },
      "text/plain": [
       "FloatProgress(value=0.0, bar_style='info', description='Progress:', layout=Layout(height='25px', width='50%'),…"
      ]
     },
     "metadata": {},
     "output_type": "display_data"
    },
    {
     "name": "stdout",
     "output_type": "stream",
     "text": [
      "    Id  Manufacturer                    Model EngineType  Displacement  Cylinders  FuelEconomy\n",
      "1    1  Aston Martin                 Vanquish  Aspirated           6.0       12.0         16.0\n",
      "5    5           BMW                     330i      Turbo           2.0        NaN         27.0\n",
      "6    6           BMW               440i Coupe      Turbo           3.0        6.0         23.0\n",
      "4    4           BMW  COOPER S HARDTOP 2 DOOR      Turbo           2.0        4.0         26.0\n",
      "20  20           BMW                     X5 M      Turbo           4.4        8.0         18.0"
     ]
    }
   ],
   "source": [
    "#drop MSRP column\n",
    "no_MSRP = merc_out.drop('MSRP', axis=1)\n",
    "no_MSRP.head()"
   ]
  },
  {
   "cell_type": "markdown",
   "metadata": {},
   "source": [
    "### Imputing missing observations"
   ]
  },
  {
   "cell_type": "code",
   "execution_count": 24,
   "metadata": {
    "tags": []
   },
   "outputs": [
    {
     "data": {
      "application/vnd.jupyter.widget-view+json": {
       "model_id": "2216c2f02fde4f5cb7b7db2d230fd10e",
       "version_major": 2,
       "version_minor": 0
      },
      "text/plain": [
       "VBox()"
      ]
     },
     "metadata": {},
     "output_type": "display_data"
    },
    {
     "data": {
      "application/vnd.jupyter.widget-view+json": {
       "model_id": "",
       "version_major": 2,
       "version_minor": 0
      },
      "text/plain": [
       "FloatProgress(value=0.0, bar_style='info', description='Progress:', layout=Layout(height='25px', width='50%'),…"
      ]
     },
     "metadata": {},
     "output_type": "display_data"
    },
    {
     "name": "stdout",
     "output_type": "stream",
     "text": [
      "{'FuelEconomy': 23.58823529411765, 'Cylinders': 6.25}"
     ]
    }
   ],
   "source": [
    "#calculate mean of columns with missing values\n",
    "means = no_MSRP[['FuelEconomy', 'Cylinders']].mean().to_dict()\n",
    "means"
   ]
  },
  {
   "cell_type": "code",
   "execution_count": 25,
   "metadata": {
    "tags": []
   },
   "outputs": [
    {
     "data": {
      "application/vnd.jupyter.widget-view+json": {
       "model_id": "a599af88858a4a84b53783b83ce8f00d",
       "version_major": 2,
       "version_minor": 0
      },
      "text/plain": [
       "VBox()"
      ]
     },
     "metadata": {},
     "output_type": "display_data"
    },
    {
     "data": {
      "application/vnd.jupyter.widget-view+json": {
       "model_id": "",
       "version_major": 2,
       "version_minor": 0
      },
      "text/plain": [
       "FloatProgress(value=0.0, bar_style='info', description='Progress:', layout=Layout(height='25px', width='50%'),…"
      ]
     },
     "metadata": {},
     "output_type": "display_data"
    },
    {
     "name": "stdout",
     "output_type": "stream",
     "text": [
      "    Id        Manufacturer                     Model EngineType  Displacement  Cylinders  FuelEconomy\n",
      "1    1        Aston Martin                  Vanquish  Aspirated           6.0      12.00    16.000000\n",
      "5    5                 BMW                      330i      Turbo           2.0       6.25    27.000000\n",
      "6    6                 BMW                440i Coupe      Turbo           3.0       6.00    23.000000\n",
      "4    4                 BMW   COOPER S HARDTOP 2 DOOR      Turbo           2.0       4.00    26.000000\n",
      "20  20                 BMW                      X5 M      Turbo           4.4       8.00    18.000000\n",
      "17  17          FCA US LLC                       300  Aspirated           3.6       6.00    23.000000\n",
      "11  11  Ford Motor Company                FUSION AWD      Turbo           2.7       6.00    20.000000\n",
      "21  21                  GE        K1500 SUBURBAN 4WD  Aspirated           5.3       8.00    18.000000\n",
      "3    3      General Motors               SPARK ACTIV  Aspirated           1.4       6.25    32.000000\n",
      "18  18             Hyundai                   G80 AWD      Turbo           3.3       6.00    20.000000\n",
      "14  14                 Kia               Stinger RWD      Turbo           2.0       4.00    25.000000\n",
      "9    9       Mercedes-Benz                   CLS 550      Turbo           4.7       8.00    21.000000\n",
      "12  12              Nissan         Q50 AWD RED SPORT      Turbo           3.0       6.00    22.000000\n",
      "13  13              Nissan                   Q70 AWD  Aspirated           5.6       8.00    18.000000\n",
      "2    2             Porsche  911 Carrera 4S Cabriolet      Turbo           3.0       6.00    24.000000\n",
      "0    0             Porsche                 Boxster S      Turbo           2.5       4.00    22.000000\n",
      "15  15              Toyota           CAMRY HYBRID LE  Aspirated           2.5       4.00    46.000000\n",
      "10  10          Volkswagen                       GTI      Turbo           2.0       4.00    23.588235"
     ]
    }
   ],
   "source": [
    "#replace missing values with mean\n",
    "imputed = no_MSRP.fillna(means)\n",
    "imputed.head(20)"
   ]
  },
  {
   "cell_type": "markdown",
   "metadata": {},
   "source": [
    "## Handling outliers"
   ]
  },
  {
   "cell_type": "code",
   "execution_count": 26,
   "metadata": {
    "tags": []
   },
   "outputs": [
    {
     "data": {
      "application/vnd.jupyter.widget-view+json": {
       "model_id": "4d9c6d4f42244087ba821477f02dbeca",
       "version_major": 2,
       "version_minor": 0
      },
      "text/plain": [
       "VBox()"
      ]
     },
     "metadata": {},
     "output_type": "display_data"
    },
    {
     "data": {
      "application/vnd.jupyter.widget-view+json": {
       "model_id": "",
       "version_major": 2,
       "version_minor": 0
      },
      "text/plain": [
       "FloatProgress(value=0.0, bar_style='info', description='Progress:', layout=Layout(height='25px', width='50%'),…"
      ]
     },
     "metadata": {},
     "output_type": "display_data"
    }
   ],
   "source": [
    "#defien a function to plot histogram of numeric features\n",
    "def plot_hist(df, features, n_rows, n_cols):\n",
    "    fig, ax = plt.subplots(n_rows, n_cols)\n",
    "    fig.tight_layout(pad=1.5)\n",
    "    for i in range(len(features)):\n",
    "        df[features[i]].hist(ax=ax[i//n_cols, i%n_cols], title=features[i])"
   ]
  },
  {
   "cell_type": "code",
   "execution_count": 27,
   "metadata": {
    "tags": []
   },
   "outputs": [
    {
     "data": {
      "application/vnd.jupyter.widget-view+json": {
       "model_id": "1d5c7d3997e7414795f784fc6bcf4679",
       "version_major": 2,
       "version_minor": 0
      },
      "text/plain": [
       "VBox()"
      ]
     },
     "metadata": {},
     "output_type": "display_data"
    },
    {
     "data": {
      "application/vnd.jupyter.widget-view+json": {
       "model_id": "",
       "version_major": 2,
       "version_minor": 0
      },
      "text/plain": [
       "FloatProgress(value=0.0, bar_style='info', description='Progress:', layout=Layout(height='25px', width='50%'),…"
      ]
     },
     "metadata": {},
     "output_type": "display_data"
    },
    {
     "data": {
      "image/png": "[encoded data removed]",
      "text/plain": [
       "<IPython.core.display.Image object>"
      ]
     },
     "metadata": {},
     "output_type": "display_data"
    }
   ],
   "source": [
    "features = ['Displacement', 'Cylinders', 'FuelEconomy']\n",
    "plot_hist(df=imputed, features=features, n_rows=2, n_cols=2)\n",
    "%matplot plt"
   ]
  },
  {
   "cell_type": "code",
   "execution_count": 43,
   "metadata": {},
   "outputs": [
    {
     "data": {
      "application/vnd.jupyter.widget-view+json": {
       "model_id": "6241474e248445179169bd69d3c72e1f",
       "version_major": 2,
       "version_minor": 0
      },
      "text/plain": [
       "VBox()"
      ]
     },
     "metadata": {},
     "output_type": "display_data"
    },
    {
     "data": {
      "application/vnd.jupyter.widget-view+json": {
       "model_id": "",
       "version_major": 2,
       "version_minor": 0
      },
      "text/plain": [
       "FloatProgress(value=0.0, bar_style='info', description='Progress:', layout=Layout(height='25px', width='50%'),…"
      ]
     },
     "metadata": {},
     "output_type": "display_data"
    },
    {
     "data": {
      "image/png": "[encoded data removed]",
      "text/plain": [
       "<IPython.core.display.Image object>"
      ]
     },
     "metadata": {},
     "output_type": "display_data"
    }
   ],
   "source": [
    "plt.clf()\n",
    "imputed['Displacement'].plot.box()\n",
    "%matplot plt"
   ]
  },
  {
   "cell_type": "code",
   "execution_count": 45,
   "metadata": {},
   "outputs": [
    {
     "data": {
      "application/vnd.jupyter.widget-view+json": {
       "model_id": "5533e69ff7494c9e8c7a405802fe8d2e",
       "version_major": 2,
       "version_minor": 0
      },
      "text/plain": [
       "VBox()"
      ]
     },
     "metadata": {},
     "output_type": "display_data"
    },
    {
     "data": {
      "application/vnd.jupyter.widget-view+json": {
       "model_id": "",
       "version_major": 2,
       "version_minor": 0
      },
      "text/plain": [
       "FloatProgress(value=0.0, bar_style='info', description='Progress:', layout=Layout(height='25px', width='50%'),…"
      ]
     },
     "metadata": {},
     "output_type": "display_data"
    },
    {
     "data": {
      "image/png": "[encoded data removed]",
      "text/plain": [
       "<IPython.core.display.Image object>"
      ]
     },
     "metadata": {},
     "output_type": "display_data"
    }
   ],
   "source": [
    "plt.clf()\n",
    "imputed['Cylinders'].plot.box()\n",
    "%matplot plt"
   ]
  },
  {
   "cell_type": "code",
   "execution_count": 46,
   "metadata": {},
   "outputs": [
    {
     "data": {
      "application/vnd.jupyter.widget-view+json": {
       "model_id": "8dc663def6d746e0af12d1972a63cf8c",
       "version_major": 2,
       "version_minor": 0
      },
      "text/plain": [
       "VBox()"
      ]
     },
     "metadata": {},
     "output_type": "display_data"
    },
    {
     "data": {
      "application/vnd.jupyter.widget-view+json": {
       "model_id": "",
       "version_major": 2,
       "version_minor": 0
      },
      "text/plain": [
       "FloatProgress(value=0.0, bar_style='info', description='Progress:', layout=Layout(height='25px', width='50%'),…"
      ]
     },
     "metadata": {},
     "output_type": "display_data"
    },
    {
     "data": {
      "image/png": "[encoded data removed]",
      "text/plain": [
       "<IPython.core.display.Image object>"
      ]
     },
     "metadata": {},
     "output_type": "display_data"
    }
   ],
   "source": [
    "plt.clf()\n",
    "imputed['FuelEconomy'].plot.box()\n",
    "%matplot plt"
   ]
  },
  {
   "cell_type": "markdown",
   "metadata": {},
   "source": [
    "Let's check out the record with the highest MPG."
   ]
  },
  {
   "cell_type": "code",
   "execution_count": 48,
   "metadata": {},
   "outputs": [
    {
     "data": {
      "application/vnd.jupyter.widget-view+json": {
       "model_id": "80f7c9c7371643bbb7b576c002995166",
       "version_major": 2,
       "version_minor": 0
      },
      "text/plain": [
       "VBox()"
      ]
     },
     "metadata": {},
     "output_type": "display_data"
    },
    {
     "data": {
      "application/vnd.jupyter.widget-view+json": {
       "model_id": "",
       "version_major": 2,
       "version_minor": 0
      },
      "text/plain": [
       "FloatProgress(value=0.0, bar_style='info', description='Progress:', layout=Layout(height='25px', width='50%'),…"
      ]
     },
     "metadata": {},
     "output_type": "display_data"
    },
    {
     "name": "stdout",
     "output_type": "stream",
     "text": [
      "    Id Manufacturer            Model EngineType  Displacement  Cylinders  FuelEconomy\n",
      "15  15       Toyota  CAMRY HYBRID LE  Aspirated           2.5        4.0         46.0"
     ]
    }
   ],
   "source": [
    "imputed[imputed.FuelEconomy >= 45]"
   ]
  },
  {
   "cell_type": "code",
   "execution_count": 28,
   "metadata": {
    "tags": []
   },
   "outputs": [
    {
     "data": {
      "application/vnd.jupyter.widget-view+json": {
       "model_id": "b853b28ff332475598f3827aba66ead3",
       "version_major": 2,
       "version_minor": 0
      },
      "text/plain": [
       "VBox()"
      ]
     },
     "metadata": {},
     "output_type": "display_data"
    },
    {
     "data": {
      "application/vnd.jupyter.widget-view+json": {
       "model_id": "",
       "version_major": 2,
       "version_minor": 0
      },
      "text/plain": [
       "FloatProgress(value=0.0, bar_style='info', description='Progress:', layout=Layout(height='25px', width='50%'),…"
      ]
     },
     "metadata": {},
     "output_type": "display_data"
    },
    {
     "name": "stdout",
     "output_type": "stream",
     "text": [
      "    Id Manufacturer            Model EngineType  Displacement  Cylinders  FuelEconomy\n",
      "15  15       Toyota  CAMRY HYBRID LE  Aspirated           2.5        4.0         46.0"
     ]
    }
   ],
   "source": [
    "imputed[imputed.FuelEconomy > 40]"
   ]
  },
  {
   "cell_type": "markdown",
   "metadata": {},
   "source": [
    "That is a hybrid car and it can be considered an outlier since the rest of the cars run on gas. Let's drop this record as outlier."
   ]
  },
  {
   "cell_type": "code",
   "execution_count": 29,
   "metadata": {},
   "outputs": [
    {
     "data": {
      "application/vnd.jupyter.widget-view+json": {
       "model_id": "8b2d843d2a7d413399f467dd8c129327",
       "version_major": 2,
       "version_minor": 0
      },
      "text/plain": [
       "VBox()"
      ]
     },
     "metadata": {},
     "output_type": "display_data"
    },
    {
     "data": {
      "application/vnd.jupyter.widget-view+json": {
       "model_id": "",
       "version_major": 2,
       "version_minor": 0
      },
      "text/plain": [
       "FloatProgress(value=0.0, bar_style='info', description='Progress:', layout=Layout(height='25px', width='50%'),…"
      ]
     },
     "metadata": {},
     "output_type": "display_data"
    }
   ],
   "source": [
    "no_outliers = imputed[imputed.FuelEconomy < 40]"
   ]
  },
  {
   "cell_type": "markdown",
   "metadata": {},
   "source": [
    "Let's redraw the histograms to see how the distributions changed after dropping the outliers."
   ]
  },
  {
   "cell_type": "code",
   "execution_count": 30,
   "metadata": {},
   "outputs": [
    {
     "data": {
      "application/vnd.jupyter.widget-view+json": {
       "model_id": "2ff47771e4b94ddbbc1bae3d8745cd64",
       "version_major": 2,
       "version_minor": 0
      },
      "text/plain": [
       "VBox()"
      ]
     },
     "metadata": {},
     "output_type": "display_data"
    },
    {
     "data": {
      "application/vnd.jupyter.widget-view+json": {
       "model_id": "",
       "version_major": 2,
       "version_minor": 0
      },
      "text/plain": [
       "FloatProgress(value=0.0, bar_style='info', description='Progress:', layout=Layout(height='25px', width='50%'),…"
      ]
     },
     "metadata": {},
     "output_type": "display_data"
    },
    {
     "data": {
      "image/png": "[encoded data removed]",
      "text/plain": [
       "<IPython.core.display.Image object>"
      ]
     },
     "metadata": {},
     "output_type": "display_data"
    }
   ],
   "source": [
    "plot_hist(df=no_outliers, features=features, n_rows=2, n_cols=2)\n",
    "%matplot plt"
   ]
  },
  {
   "cell_type": "markdown",
   "metadata": {},
   "source": [
    "## Exploring descriptive statistics"
   ]
  },
  {
   "cell_type": "code",
   "execution_count": 31,
   "metadata": {
    "tags": []
   },
   "outputs": [
    {
     "data": {
      "application/vnd.jupyter.widget-view+json": {
       "model_id": "6602e60001194f2aac5935e78605eba6",
       "version_major": 2,
       "version_minor": 0
      },
      "text/plain": [
       "VBox()"
      ]
     },
     "metadata": {},
     "output_type": "display_data"
    },
    {
     "data": {
      "application/vnd.jupyter.widget-view+json": {
       "model_id": "",
       "version_major": 2,
       "version_minor": 0
      },
      "text/plain": [
       "FloatProgress(value=0.0, bar_style='info', description='Progress:', layout=Layout(height='25px', width='50%'),…"
      ]
     },
     "metadata": {},
     "output_type": "display_data"
    },
    {
     "name": "stdout",
     "output_type": "stream",
     "text": [
      "              Id  Displacement  Cylinders  FuelEconomy\n",
      "count  17.000000     17.000000  17.000000    17.000000\n",
      "mean    9.764706      3.323529   6.382353    22.269896\n",
      "std     6.777992      1.402466   2.025458     3.955093\n",
      "min     0.000000      1.400000   4.000000    16.000000\n",
      "25%     4.000000      2.000000   6.000000    20.000000\n",
      "50%    10.000000      3.000000   6.000000    22.000000\n",
      "75%    14.000000      4.400000   8.000000    24.000000\n",
      "max    21.000000      6.000000  12.000000    32.000000"
     ]
    }
   ],
   "source": [
    "#describe numeric features\n",
    "descriptive_stats = no_outliers.describe()\n",
    "descriptive_stats"
   ]
  },
  {
   "cell_type": "code",
   "execution_count": 32,
   "metadata": {
    "tags": []
   },
   "outputs": [
    {
     "data": {
      "application/vnd.jupyter.widget-view+json": {
       "model_id": "a23d267ae708443d8aa46a599be3db89",
       "version_major": 2,
       "version_minor": 0
      },
      "text/plain": [
       "VBox()"
      ]
     },
     "metadata": {},
     "output_type": "display_data"
    },
    {
     "data": {
      "application/vnd.jupyter.widget-view+json": {
       "model_id": "",
       "version_major": 2,
       "version_minor": 0
      },
      "text/plain": [
       "FloatProgress(value=0.0, bar_style='info', description='Progress:', layout=Layout(height='25px', width='50%'),…"
      ]
     },
     "metadata": {},
     "output_type": "display_data"
    },
    {
     "name": "stdout",
     "output_type": "stream",
     "text": [
      "           count    MPG_avg  Disp_avg  MPG_stdev  Disp_stdev\n",
      "Cylinders                                                   \n",
      "6.25           2  29.500000     1.700   3.535534    0.424264\n",
      "6.00           6  22.000000     3.100   1.673320    0.309839\n",
      "4.00           4  24.147059     2.125   1.740023    0.250000\n",
      "8.00           4  18.750000     5.000   1.500000    0.547723\n",
      "12.00          1  16.000000     6.000        NaN         NaN"
     ]
    }
   ],
   "source": [
    "#statistics grouped by number of cylinders\n",
    "(\n",
    "    no_outliers[features]\n",
    "    .groupby('Cylinders')\n",
    "    .agg(count = ('Displacement', 'count'),\n",
    "        MPG_avg = ('FuelEconomy', 'mean'),\n",
    "         Disp_avg = ('Displacement', 'mean'),\n",
    "         MPG_stdev = ('FuelEconomy', 'stddev'),\n",
    "         Disp_stdev = ('Displacement', 'stddev')\n",
    "        )\n",
    ")"
   ]
  },
  {
   "cell_type": "markdown",
   "metadata": {},
   "source": [
    "## Computing correlations"
   ]
  },
  {
   "cell_type": "code",
   "execution_count": 33,
   "metadata": {},
   "outputs": [
    {
     "data": {
      "application/vnd.jupyter.widget-view+json": {
       "model_id": "ff382df817f9479c8d36a8c38d08e860",
       "version_major": 2,
       "version_minor": 0
      },
      "text/plain": [
       "VBox()"
      ]
     },
     "metadata": {},
     "output_type": "display_data"
    },
    {
     "data": {
      "application/vnd.jupyter.widget-view+json": {
       "model_id": "",
       "version_major": 2,
       "version_minor": 0
      },
      "text/plain": [
       "FloatProgress(value=0.0, bar_style='info', description='Progress:', layout=Layout(height='25px', width='50%'),…"
      ]
     },
     "metadata": {},
     "output_type": "display_data"
    },
    {
     "name": "stdout",
     "output_type": "stream",
     "text": [
      "              Displacement  Cylinders  FuelEconomy\n",
      "Displacement      1.000000   0.841516    -0.849268\n",
      "Cylinders         0.841516   1.000000    -0.602156\n",
      "FuelEconomy      -0.849268  -0.602156     1.000000"
     ]
    }
   ],
   "source": [
    "no_outliers[features].corr()"
   ]
  },
  {
   "cell_type": "markdown",
   "metadata": {},
   "source": [
    "## Data Visualization"
   ]
  },
  {
   "cell_type": "markdown",
   "metadata": {},
   "source": [
    "### Histograms\n",
    "* By default, spark uses the first 1000 rows to draw charts but <a href='https://spark.apache.org/docs/latest/api/python/user_guide/pandas_on_spark/options.html' target='_blank'>that can be changed</a>."
   ]
  },
  {
   "cell_type": "code",
   "execution_count": 34,
   "metadata": {
    "tags": []
   },
   "outputs": [
    {
     "data": {
      "application/vnd.jupyter.widget-view+json": {
       "model_id": "c43a62926a2e4f3ebfb5c81b650df184",
       "version_major": 2,
       "version_minor": 0
      },
      "text/plain": [
       "VBox()"
      ]
     },
     "metadata": {},
     "output_type": "display_data"
    },
    {
     "data": {
      "application/vnd.jupyter.widget-view+json": {
       "model_id": "",
       "version_major": 2,
       "version_minor": 0
      },
      "text/plain": [
       "FloatProgress(value=0.0, bar_style='info', description='Progress:', layout=Layout(height='25px', width='50%'),…"
      ]
     },
     "metadata": {},
     "output_type": "display_data"
    },
    {
     "data": {
      "image/png": "[encoded data removed]",
      "text/plain": [
       "<IPython.core.display.Image object>"
      ]
     },
     "metadata": {},
     "output_type": "display_data"
    }
   ],
   "source": [
    "#clear the canvas\n",
    "plt.clf()\n",
    "no_outliers['Cylinders'].hist(bins=5)\n",
    "%matplot plt"
   ]
  },
  {
   "cell_type": "markdown",
   "metadata": {},
   "source": [
    "### Visualizing interactions between features"
   ]
  },
  {
   "cell_type": "code",
   "execution_count": 35,
   "metadata": {
    "tags": []
   },
   "outputs": [
    {
     "data": {
      "application/vnd.jupyter.widget-view+json": {
       "model_id": "34cb133b1f3041c2af88ef482acfcda2",
       "version_major": 2,
       "version_minor": 0
      },
      "text/plain": [
       "VBox()"
      ]
     },
     "metadata": {},
     "output_type": "display_data"
    },
    {
     "data": {
      "application/vnd.jupyter.widget-view+json": {
       "model_id": "",
       "version_major": 2,
       "version_minor": 0
      },
      "text/plain": [
       "FloatProgress(value=0.0, bar_style='info', description='Progress:', layout=Layout(height='25px', width='50%'),…"
      ]
     },
     "metadata": {},
     "output_type": "display_data"
    },
    {
     "data": {
      "image/png": "[encoded data removed]",
      "text/plain": [
       "<IPython.core.display.Image object>"
      ]
     },
     "metadata": {},
     "output_type": "display_data"
    }
   ],
   "source": [
    "plt.clf()\n",
    "no_outliers.plot.scatter('Cylinders', 'Displacement')\n",
    "%matplot plt"
   ]
  },
  {
   "cell_type": "markdown",
   "metadata": {},
   "source": [
    "### Box Plot"
   ]
  },
  {
   "cell_type": "code",
   "execution_count": 36,
   "metadata": {},
   "outputs": [
    {
     "data": {
      "application/vnd.jupyter.widget-view+json": {
       "model_id": "77a6bf312f144808ad75cdc9af3711db",
       "version_major": 2,
       "version_minor": 0
      },
      "text/plain": [
       "VBox()"
      ]
     },
     "metadata": {},
     "output_type": "display_data"
    },
    {
     "data": {
      "application/vnd.jupyter.widget-view+json": {
       "model_id": "",
       "version_major": 2,
       "version_minor": 0
      },
      "text/plain": [
       "FloatProgress(value=0.0, bar_style='info', description='Progress:', layout=Layout(height='25px', width='50%'),…"
      ]
     },
     "metadata": {},
     "output_type": "display_data"
    },
    {
     "name": "stderr",
     "output_type": "stream",
     "text": [
      "An error was encountered:\n",
      "'DataFrame' object has no attribute 'name'\n",
      "Traceback (most recent call last):\n",
      "  File \"/mnt1/yarn/usercache/livy/appcache/application_1718239785956_0002/container_1718239785956_0002_01_000001/pyspark.zip/pyspark/pandas/frame.py\", line 1002, in boxplot\n",
      "    return self.plot.box(**kwds)\n",
      "  File \"/mnt1/yarn/usercache/livy/appcache/application_1718239785956_0002/container_1718239785956_0002_01_000001/pyspark.zip/pyspark/pandas/plot/core.py\", line 899, in box\n",
      "    return self(kind=\"box\", **kwds)\n",
      "  File \"/mnt1/yarn/usercache/livy/appcache/application_1718239785956_0002/container_1718239785956_0002_01_000001/pyspark.zip/pyspark/pandas/plot/core.py\", line 578, in __call__\n",
      "    return plot_backend.plot_pandas_on_spark(plot_data, kind=kind, **kwargs)\n",
      "  File \"/mnt1/yarn/usercache/livy/appcache/application_1718239785956_0002/container_1718239785956_0002_01_000001/pyspark.zip/pyspark/pandas/plot/matplotlib.py\", line 562, in plot_pandas_on_spark\n",
      "    return plot_frame(data=data, kind=kind, **kwargs)\n",
      "  File \"/mnt1/yarn/usercache/livy/appcache/application_1718239785956_0002/container_1718239785956_0002_01_000001/pyspark.zip/pyspark/pandas/plot/matplotlib.py\", line 890, in plot_frame\n",
      "    **kwds,\n",
      "  File \"/mnt1/yarn/usercache/livy/appcache/application_1718239785956_0002/container_1718239785956_0002_01_000001/pyspark.zip/pyspark/pandas/plot/matplotlib.py\", line 921, in _plot\n",
      "    plot_obj.generate()\n",
      "  File \"/usr/local/lib64/python3.7/site-packages/pandas/plotting/_matplotlib/core.py\", line 286, in generate\n",
      "    self._compute_plot_data()\n",
      "  File \"/mnt1/yarn/usercache/livy/appcache/application_1718239785956_0002/container_1718239785956_0002_01_000001/pyspark.zip/pyspark/pandas/plot/matplotlib.py\", line 236, in _compute_plot_data\n",
      "    colname = self.data.name\n",
      "  File \"/mnt1/yarn/usercache/livy/appcache/application_1718239785956_0002/container_1718239785956_0002_01_000001/pyspark.zip/pyspark/pandas/frame.py\", line 13523, in __getattr__\n",
      "    \"'%s' object has no attribute '%s'\" % (self.__class__.__name__, key)\n",
      "AttributeError: 'DataFrame' object has no attribute 'name'\n",
      "\n"
     ]
    }
   ],
   "source": [
    "plt.clf()\n",
    "no_outliers[[x for x in no_outliers.columns if x != 'Id']].boxplot()\n",
    "%matplot plt"
   ]
  },
  {
   "cell_type": "code",
   "execution_count": 37,
   "metadata": {},
   "outputs": [
    {
     "data": {
      "application/vnd.jupyter.widget-view+json": {
       "model_id": "2b87da5fef454faca441dc5499cb69d3",
       "version_major": 2,
       "version_minor": 0
      },
      "text/plain": [
       "VBox()"
      ]
     },
     "metadata": {},
     "output_type": "display_data"
    },
    {
     "data": {
      "application/vnd.jupyter.widget-view+json": {
       "model_id": "",
       "version_major": 2,
       "version_minor": 0
      },
      "text/plain": [
       "FloatProgress(value=0.0, bar_style='info', description='Progress:', layout=Layout(height='25px', width='50%'),…"
      ]
     },
     "metadata": {},
     "output_type": "display_data"
    },
    {
     "data": {
      "image/png": "[encoded data removed]",
      "text/plain": [
       "<IPython.core.display.Image object>"
      ]
     },
     "metadata": {},
     "output_type": "display_data"
    }
   ],
   "source": [
    "plt.clf()\n",
    "no_outliers['Cylinders'].plot.box()\n",
    "%matplot plt"
   ]
  },
  {
   "cell_type": "markdown",
   "metadata": {},
   "source": [
    "Another option is to use a pandas df. We first get a sample of the datset for visualization. In this case, since the dataset is small, I set the sampling fraction to 1.0 (100%) but you need to set it to a smaller value if your dataset is large since the sample is converted to a Pandas dataframe stored on the driver."
   ]
  },
  {
   "cell_type": "code",
   "execution_count": 38,
   "metadata": {
    "tags": []
   },
   "outputs": [
    {
     "data": {
      "application/vnd.jupyter.widget-view+json": {
       "model_id": "d132a8ded21248d98f606b74f1a6fe54",
       "version_major": 2,
       "version_minor": 0
      },
      "text/plain": [
       "VBox()"
      ]
     },
     "metadata": {},
     "output_type": "display_data"
    },
    {
     "data": {
      "application/vnd.jupyter.widget-view+json": {
       "model_id": "",
       "version_major": 2,
       "version_minor": 0
      },
      "text/plain": [
       "FloatProgress(value=0.0, bar_style='info', description='Progress:', layout=Layout(height='25px', width='50%'),…"
      ]
     },
     "metadata": {},
     "output_type": "display_data"
    },
    {
     "name": "stdout",
     "output_type": "stream",
     "text": [
      "    Id  Manufacturer  ... Cylinders FuelEconomy\n",
      "1    1  Aston Martin  ...     12.00        16.0\n",
      "5    5           BMW  ...      6.25        27.0\n",
      "6    6           BMW  ...      6.00        23.0\n",
      "4    4           BMW  ...      4.00        26.0\n",
      "20  20           BMW  ...      8.00        18.0\n",
      "\n",
      "[5 rows x 7 columns]\n",
      "/mnt1/yarn/usercache/livy/appcache/application_1718239785956_0002/container_1718239785956_0002_01_000001/pyspark.zip/pyspark/pandas/utils.py:975: PandasAPIOnSparkAdviceWarning: `to_pandas` loads all data into the driver's memory. It should only be used if the resulting pandas DataFrame is expected to be small.\n",
      "  warnings.warn(message, PandasAPIOnSparkAdviceWarning)"
     ]
    }
   ],
   "source": [
    "#fraction must be float\n",
    "sampling_fraction = 1.0\n",
    "sample_df = no_outliers.sample(frac=sampling_fraction).to_pandas()\n",
    "sample_df.head()"
   ]
  },
  {
   "cell_type": "code",
   "execution_count": 39,
   "metadata": {
    "tags": []
   },
   "outputs": [
    {
     "data": {
      "application/vnd.jupyter.widget-view+json": {
       "model_id": "19d2d571bf3946abab1adfa6fe68c5e9",
       "version_major": 2,
       "version_minor": 0
      },
      "text/plain": [
       "VBox()"
      ]
     },
     "metadata": {},
     "output_type": "display_data"
    },
    {
     "data": {
      "application/vnd.jupyter.widget-view+json": {
       "model_id": "",
       "version_major": 2,
       "version_minor": 0
      },
      "text/plain": [
       "FloatProgress(value=0.0, bar_style='info', description='Progress:', layout=Layout(height='25px', width='50%'),…"
      ]
     },
     "metadata": {},
     "output_type": "display_data"
    },
    {
     "data": {
      "image/png": "[encoded data removed]",
      "text/plain": [
       "<IPython.core.display.Image object>"
      ]
     },
     "metadata": {},
     "output_type": "display_data"
    }
   ],
   "source": [
    "plt.clf()\n",
    "sample_df[[x for x in sample_df.columns if x != 'Id']].boxplot()\n",
    "%matplot plt"
   ]
  },
  {
   "cell_type": "markdown",
   "metadata": {},
   "source": [
    "### Bar chart"
   ]
  },
  {
   "cell_type": "code",
   "execution_count": 40,
   "metadata": {},
   "outputs": [
    {
     "data": {
      "application/vnd.jupyter.widget-view+json": {
       "model_id": "5fd8fde1d83f48378c5e05c00d1e9ba8",
       "version_major": 2,
       "version_minor": 0
      },
      "text/plain": [
       "VBox()"
      ]
     },
     "metadata": {},
     "output_type": "display_data"
    },
    {
     "data": {
      "application/vnd.jupyter.widget-view+json": {
       "model_id": "",
       "version_major": 2,
       "version_minor": 0
      },
      "text/plain": [
       "FloatProgress(value=0.0, bar_style='info', description='Progress:', layout=Layout(height='25px', width='50%'),…"
      ]
     },
     "metadata": {},
     "output_type": "display_data"
    },
    {
     "name": "stdout",
     "output_type": "stream",
     "text": [
      "6.00     6\n",
      "4.00     4\n",
      "8.00     4\n",
      "6.25     2\n",
      "12.00    1\n",
      "Name: Cylinders, dtype: int64"
     ]
    }
   ],
   "source": [
    "no_outliers['Cylinders'].value_counts()"
   ]
  },
  {
   "cell_type": "code",
   "execution_count": 41,
   "metadata": {
    "tags": []
   },
   "outputs": [
    {
     "data": {
      "application/vnd.jupyter.widget-view+json": {
       "model_id": "f860e1df7ffa4121be946e852ca73efe",
       "version_major": 2,
       "version_minor": 0
      },
      "text/plain": [
       "VBox()"
      ]
     },
     "metadata": {},
     "output_type": "display_data"
    },
    {
     "data": {
      "application/vnd.jupyter.widget-view+json": {
       "model_id": "",
       "version_major": 2,
       "version_minor": 0
      },
      "text/plain": [
       "FloatProgress(value=0.0, bar_style='info', description='Progress:', layout=Layout(height='25px', width='50%'),…"
      ]
     },
     "metadata": {},
     "output_type": "display_data"
    },
    {
     "data": {
      "image/png": "[encoded data removed]",
      "text/plain": [
       "<IPython.core.display.Image object>"
      ]
     },
     "metadata": {},
     "output_type": "display_data"
    }
   ],
   "source": [
    "plt.clf()\n",
    "cylinder = no_outliers['Cylinders'].value_counts().plot.bar()\n",
    "%matplot plt"
   ]
  },
  {
   "cell_type": "markdown",
   "metadata": {},
   "source": [
    "## Class Exercise\n",
    "Draw a bar chart to show average MPG for each number of cylinders."
   ]
  },
  {
   "cell_type": "code",
   "execution_count": null,
   "metadata": {
    "tags": []
   },
   "outputs": [],
   "source": [
    "no_outliers.groupby('Cylinders')['FuelEconomy'].mean().plot.bar()\n",
    "%matplot plt"
   ]
  },
  {
   "cell_type": "markdown",
   "metadata": {},
   "source": [
    "### Data Visualization Summary\n",
    "<b>Please note that all these charts are based on a sample of the data and may not truely represent the real distribution of the data.</b>"
   ]
  }
 ],
 "metadata": {
  "kernelspec": {
   "display_name": "PySpark",
   "language": "python",
   "name": "pysparkkernel"
  },
  "language_info": {
   "codemirror_mode": {
    "name": "python",
    "version": 3
   },
   "file_extension": ".py",
   "mimetype": "text/x-python",
   "name": "pyspark",
   "pygments_lexer": "python3"
  }
 },
 "nbformat": 4,
 "nbformat_minor": 4
}
