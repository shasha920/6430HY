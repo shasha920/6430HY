{
 "cells": [
  {
   "cell_type": "markdown",
   "metadata": {},
   "source": [
    "# GBA 6430 - Big Data Technology in Business\n",
    "# Dr. Mohammad Salehan\n",
    "# Graph Mining Assignment\n",
    "In this assignment, you will analyze Reddit Hyperlink Network. The hyperlink network represents the directed connections between two subreddits (a subreddit is a community on Reddit). The network is extracted from publicly available Reddit data of 2.5 years from Jan 2014 to April 2017.\n",
    "<a href='https://snap.stanford.edu/data/soc-RedditHyperlinks.html'> link to dataset source and description</a>  \n",
    "<u>In each step, you need to use at least one graph-specific operation. If your solution for any step uses dataframe operations only, you will only receive 50% of the credit for that step.</u>"
   ]
  },
  {
   "cell_type": "code",
   "execution_count": 18,
   "metadata": {
    "execution": {
     "iopub.execute_input": "2022-07-14T18:43:55.711443Z",
     "iopub.status.busy": "2022-07-14T18:43:55.711158Z",
     "iopub.status.idle": "2022-07-14T18:44:43.717489Z",
     "shell.execute_reply": "2022-07-14T18:44:43.716461Z",
     "shell.execute_reply.started": "2022-07-14T18:43:55.711406Z"
    }
   },
   "outputs": [
    {
     "data": {
      "application/vnd.jupyter.widget-view+json": {
       "model_id": "318bdcc843da44ad9d7f61d79d06404a",
       "version_major": 2,
       "version_minor": 0
      },
      "text/plain": [
       "VBox()"
      ]
     },
     "metadata": {},
     "output_type": "display_data"
    },
    {
     "data": {
      "application/vnd.jupyter.widget-view+json": {
       "model_id": "",
       "version_major": 2,
       "version_minor": 0
      },
      "text/plain": [
       "FloatProgress(value=0.0, bar_style='info', description='Progress:', layout=Layout(height='25px', width='50%'),…"
      ]
     },
     "metadata": {},
     "output_type": "display_data"
    }
   ],
   "source": [
    "# Note, ensure you have already installed the GraphFrames spark-package\n",
    "from graphframes import *\n",
    "import matplotlib.pyplot as plt\n",
    "import pyspark.pandas as ps\n",
    "import pyspark.sql.functions as F\n",
    "ps.set_option('plotting.backend', 'matplotlib')"
   ]
  },
  {
   "cell_type": "markdown",
   "metadata": {},
   "source": [
    "## Building the Graph\n",
    "Below we load the dataset which contains a list of links between subreddits."
   ]
  },
  {
   "cell_type": "code",
   "execution_count": 2,
   "metadata": {},
   "outputs": [
    {
     "data": {
      "application/vnd.jupyter.widget-view+json": {
       "model_id": "",
       "version_major": 2,
       "version_minor": 0
      },
      "text/plain": [
       "FloatProgress(value=0.0, bar_style='info', description='Progress:', layout=Layout(height='25px', width='50%'),…"
      ]
     },
     "metadata": {},
     "output_type": "display_data"
    },
    {
     "data": {
      "text/html": [
       "<pre>(286561, 6)</pre><br /><table><tr><th>SOURCE_SUBREDDIT</th><th>TARGET_SUBREDDIT</th><th>POST_ID</th><th>TIMESTAMP</th><th>LINK_SENTIMENT</th><th>PROPERTIES</th></tr><tr><td>leagueoflegends</td><td>teamredditteams</td><td>1u4nrps</td><td>2013-12-31 16:39:58</td><td>1</td><td>345.0,298.0,0.756...</td></tr></table><br /><pre>only showing top 1 row\n",
       "\n",
       "/mnt/yarn/usercache/livy/appcache/application_1721017390557_0006/container_1721017390557_0006_01_000002/pyspark.zip/pyspark/pandas/utils.py:975: PandasAPIOnSparkAdviceWarning: If `index_col` is not specified for `read_csv`, the default index is attached which can cause additional overhead.\n",
       "/mnt/yarn/usercache/livy/appcache/application_1721017390557_0006/container_1721017390557_0006_01_000002/pyspark.zip/pyspark/pandas/utils.py:975: PandasAPIOnSparkAdviceWarning: If `index_col` is not specified for `to_spark`, the existing index is lost when converting to Spark DataFrame.</pre>"
      ],
      "text/plain": [
       "<IPython.core.display.HTML object>"
      ]
     },
     "metadata": {},
     "output_type": "display_data"
    }
   ],
   "source": [
    "%%pretty\n",
    "data = ps.read_csv('s3://cis4567-data/reddit/', sep='\\t')\n",
    "print(data.shape)\n",
    "data.to_spark().show(1)"
   ]
  },
  {
   "cell_type": "code",
   "execution_count": 3,
   "metadata": {},
   "outputs": [
    {
     "data": {
      "application/vnd.jupyter.widget-view+json": {
       "model_id": "0c0ae4e96061442187c19e953231b3d3",
       "version_major": 2,
       "version_minor": 0
      },
      "text/plain": [
       "VBox()"
      ]
     },
     "metadata": {},
     "output_type": "display_data"
    },
    {
     "data": {
      "application/vnd.jupyter.widget-view+json": {
       "model_id": "",
       "version_major": 2,
       "version_minor": 0
      },
      "text/plain": [
       "FloatProgress(value=0.0, bar_style='info', description='Progress:', layout=Layout(height='25px', width='50%'),…"
      ]
     },
     "metadata": {},
     "output_type": "display_data"
    },
    {
     "name": "stdout",
     "output_type": "stream",
     "text": [
      "Index(['SOURCE_SUBREDDIT', 'TARGET_SUBREDDIT', 'POST_ID', 'TIMESTAMP',\n",
      "       'LINK_SENTIMENT', 'PROPERTIES'],\n",
      "      dtype='object')"
     ]
    }
   ],
   "source": [
    "data.columns"
   ]
  },
  {
   "cell_type": "markdown",
   "metadata": {},
   "source": [
    "The nodes dataframe is simply a list of unique subreddits."
   ]
  },
  {
   "cell_type": "code",
   "execution_count": 4,
   "metadata": {},
   "outputs": [
    {
     "data": {
      "application/vnd.jupyter.widget-view+json": {
       "model_id": "",
       "version_major": 2,
       "version_minor": 0
      },
      "text/plain": [
       "FloatProgress(value=0.0, bar_style='info', description='Progress:', layout=Layout(height='25px', width='50%'),…"
      ]
     },
     "metadata": {},
     "output_type": "display_data"
    },
    {
     "data": {
      "text/html": [
       "<table><tr><th>id</th></tr><tr><td>0131</td></tr><tr><td>07scape</td></tr><tr><td>0x10c</td></tr><tr><td>0x3642</td></tr><tr><td>100daycomicchallenge</td></tr></table><br /><pre>only showing top 5 rows</pre>"
      ],
      "text/plain": [
       "<IPython.core.display.HTML object>"
      ]
     },
     "metadata": {},
     "output_type": "display_data"
    }
   ],
   "source": [
    "%%pretty\n",
    "nodes = ps.concat(\n",
    "    [data['SOURCE_SUBREDDIT'].unique(), \n",
    "     data['TARGET_SUBREDDIT'].unique()]).to_frame('id').drop_duplicates().reset_index(drop=True)\n",
    "nodes.to_spark().show(5)"
   ]
  },
  {
   "cell_type": "markdown",
   "metadata": {},
   "source": [
    "Create a graph object using nodes and vertices."
   ]
  },
  {
   "cell_type": "code",
   "execution_count": 15,
   "metadata": {
    "execution": {
     "iopub.execute_input": "2022-07-14T18:45:46.542730Z",
     "iopub.status.busy": "2022-07-14T18:45:46.542221Z",
     "iopub.status.idle": "2022-07-14T18:45:46.915866Z",
     "shell.execute_reply": "2022-07-14T18:45:46.852723Z",
     "shell.execute_reply.started": "2022-07-14T18:45:46.542686Z"
    }
   },
   "outputs": [
    {
     "data": {
      "application/vnd.jupyter.widget-view+json": {
       "model_id": "c5e6b640688b49179cb85bdc4641ae8f",
       "version_major": 2,
       "version_minor": 0
      },
      "text/plain": [
       "VBox()"
      ]
     },
     "metadata": {},
     "output_type": "display_data"
    },
    {
     "data": {
      "application/vnd.jupyter.widget-view+json": {
       "model_id": "",
       "version_major": 2,
       "version_minor": 0
      },
      "text/plain": [
       "FloatProgress(value=0.0, bar_style='info', description='Progress:', layout=Layout(height='25px', width='50%'),…"
      ]
     },
     "metadata": {},
     "output_type": "display_data"
    }
   ],
   "source": [
    "g = GraphFrame(nodes.to_spark(), \n",
    "               data.rename({'SOURCE_SUBREDDIT':'src',\n",
    "                           'TARGET_SUBREDDIT': 'dst'}, axis=1).to_spark())"
   ]
  },
  {
   "cell_type": "markdown",
   "metadata": {},
   "source": [
    "## Assignment steps\n",
    "1- Calculate the unique number of subreddits and the number of links in dataset."
   ]
  },
  {
   "cell_type": "code",
   "execution_count": 6,
   "metadata": {
    "execution": {
     "iopub.execute_input": "2022-07-14T18:46:37.429608Z",
     "iopub.status.busy": "2022-07-14T18:46:37.429331Z",
     "iopub.status.idle": "2022-07-14T18:46:42.750959Z",
     "shell.execute_reply": "2022-07-14T18:46:42.749910Z",
     "shell.execute_reply.started": "2022-07-14T18:46:37.429574Z"
    },
    "tags": []
   },
   "outputs": [
    {
     "data": {
      "application/vnd.jupyter.widget-view+json": {
       "model_id": "5b06c85ced1b4f2092fdbff99338613d",
       "version_major": 2,
       "version_minor": 0
      },
      "text/plain": [
       "VBox()"
      ]
     },
     "metadata": {},
     "output_type": "display_data"
    },
    {
     "data": {
      "application/vnd.jupyter.widget-view+json": {
       "model_id": "",
       "version_major": 2,
       "version_minor": 0
      },
      "text/plain": [
       "FloatProgress(value=0.0, bar_style='info', description='Progress:', layout=Layout(height='25px', width='50%'),…"
      ]
     },
     "metadata": {},
     "output_type": "display_data"
    },
    {
     "name": "stdout",
     "output_type": "stream",
     "text": [
      "unique number of subreddits: 35776\n",
      "number of link: 286561"
     ]
    }
   ],
   "source": [
    "print(\"unique number of subreddits: %d\" % g.vertices.count())\n",
    "print(\"number of link: %d\" % g.edges.count())"
   ]
  },
  {
   "cell_type": "markdown",
   "metadata": {},
   "source": [
    "2- Identify the top 10 subreddits by the number of inward links."
   ]
  },
  {
   "cell_type": "code",
   "execution_count": 7,
   "metadata": {
    "execution": {
     "iopub.execute_input": "2022-07-14T18:47:36.643916Z",
     "iopub.status.busy": "2022-07-14T18:47:36.643651Z",
     "iopub.status.idle": "2022-07-14T18:47:45.046135Z",
     "shell.execute_reply": "2022-07-14T18:47:43.269097Z",
     "shell.execute_reply.started": "2022-07-14T18:47:36.643884Z"
    },
    "tags": []
   },
   "outputs": [
    {
     "data": {
      "application/vnd.jupyter.widget-view+json": {
       "model_id": "",
       "version_major": 2,
       "version_minor": 0
      },
      "text/plain": [
       "FloatProgress(value=0.0, bar_style='info', description='Progress:', layout=Layout(height='25px', width='50%'),…"
      ]
     },
     "metadata": {},
     "output_type": "display_data"
    },
    {
     "data": {
      "text/html": [
       "<table><tr><th>id</th><th>outDegree</th></tr><tr><td>subredditdrama</td><td>4665</td></tr><tr><td>circlebroke</td><td>2358</td></tr><tr><td>shitliberalssay</td><td>1968</td></tr><tr><td>outoftheloop</td><td>1958</td></tr><tr><td>copypasta</td><td>1824</td></tr><tr><td>writingprompts</td><td>1707</td></tr><tr><td>hailcorporate</td><td>1560</td></tr><tr><td>circlejerkcopypasta</td><td>1517</td></tr><tr><td>conspiracy</td><td>1462</td></tr><tr><td>bestofoutrageculture</td><td>1354</td></tr></table><br /><pre>only showing top 10 rows\n",
       "\n",
       "/mnt/yarn/usercache/livy/appcache/application_1721017390557_0006/container_1721017390557_0006_01_000002/pyspark.zip/pyspark/sql/dataframe.py:148: UserWarning: DataFrame constructor is internal. Do not directly use it.</pre>"
      ],
      "text/plain": [
       "<IPython.core.display.HTML object>"
      ]
     },
     "metadata": {},
     "output_type": "display_data"
    }
   ],
   "source": [
    "%%pretty\n",
    "SUBREDDIT_degree = g.outDegrees.pandas_api().rename(columns={\"id\": \"oId\"})\n",
    "full_SUBREDDIT_degree = ps.merge(SUBREDDIT_degree, g.vertices.pandas_api(),\n",
    "                                    left_on=\"oId\", right_on=\"id\"\n",
    "                                   ).sort_values(\"outDegree\", ascending=False\n",
    "                                                )[[\"id\", \"outDegree\"]]\n",
    "full_SUBREDDIT_degree.to_spark().show(10)"
   ]
  },
  {
   "cell_type": "markdown",
   "metadata": {},
   "source": [
    "3- Using `Page Rank`, find the top 10 most popular subreddits."
   ]
  },
  {
   "cell_type": "code",
   "execution_count": 8,
   "metadata": {
    "execution": {
     "iopub.execute_input": "2022-07-14T18:46:45.949926Z",
     "iopub.status.busy": "2022-07-14T18:46:45.949655Z",
     "iopub.status.idle": "2022-07-14T18:47:29.836120Z",
     "shell.execute_reply": "2022-07-14T18:47:29.835094Z",
     "shell.execute_reply.started": "2022-07-14T18:46:45.949894Z"
    },
    "tags": []
   },
   "outputs": [
    {
     "data": {
      "application/vnd.jupyter.widget-view+json": {
       "model_id": "7666e892111f45faa190f1cbf7553150",
       "version_major": 2,
       "version_minor": 0
      },
      "text/plain": [
       "VBox()"
      ]
     },
     "metadata": {},
     "output_type": "display_data"
    },
    {
     "data": {
      "application/vnd.jupyter.widget-view+json": {
       "model_id": "",
       "version_major": 2,
       "version_minor": 0
      },
      "text/plain": [
       "FloatProgress(value=0.0, bar_style='info', description='Progress:', layout=Layout(height='25px', width='50%'),…"
      ]
     },
     "metadata": {},
     "output_type": "display_data"
    }
   ],
   "source": [
    "ranks = g.pageRank(resetProbability=0.15, maxIter=5)"
   ]
  },
  {
   "cell_type": "code",
   "execution_count": 9,
   "metadata": {},
   "outputs": [
    {
     "data": {
      "application/vnd.jupyter.widget-view+json": {
       "model_id": "b38b37be1ca144e89bab04e5a60f904c",
       "version_major": 2,
       "version_minor": 0
      },
      "text/plain": [
       "VBox()"
      ]
     },
     "metadata": {},
     "output_type": "display_data"
    },
    {
     "data": {
      "application/vnd.jupyter.widget-view+json": {
       "model_id": "",
       "version_major": 2,
       "version_minor": 0
      },
      "text/plain": [
       "FloatProgress(value=0.0, bar_style='info', description='Progress:', layout=Layout(height='25px', width='50%'),…"
      ]
     },
     "metadata": {},
     "output_type": "display_data"
    },
    {
     "data": {
      "image/png": "[encoded data removed]",
      "text/plain": [
       "<IPython.core.display.Image object>"
      ]
     },
     "metadata": {},
     "output_type": "display_data"
    }
   ],
   "source": [
    "#plot top 10 airports\n",
    "df = ranks.vertices.pandas_api().sort_values(\"pagerank\", ascending=False).iloc[:10]\n",
    "df.plot(x='id', y='pagerank', kind='bar')\n",
    "#plt.show()\n",
    "%matplot plt"
   ]
  },
  {
   "cell_type": "markdown",
   "metadata": {},
   "source": [
    "4- How is the `Page Rank` output different from what you found in step 2?"
   ]
  },
  {
   "cell_type": "markdown",
   "metadata": {},
   "source": [
    "PageRank is a “vote”, by all the other pages on the Web, about how important a page is. A link to a page counts as a vote of support. Hence, at each step, the random walk might restart randomly using the reset probability value (epsilon ε).\n",
    "For PageRank, askreddit, iama, and videos has high PageRank scores because they are likely to be connected to other important subreddits.\n",
    "For Degree Centrality, subredditdrama and circlebroke might actively link to many other subreddits, resulting in high out-degree centrality, but they might not necessarily receive as many important inbound links."
   ]
  },
  {
   "cell_type": "markdown",
   "metadata": {},
   "source": [
    "5- Some users go down a rabbit hole and end up in radical subreddits. Using motifs, find the top 10 subreddits that act as intermediary to get users to `4chan` subreddit."
   ]
  },
  {
   "cell_type": "code",
   "execution_count": 23,
   "metadata": {},
   "outputs": [
    {
     "data": {
      "application/vnd.jupyter.widget-view+json": {
       "model_id": "ca8325bf4ed44a71af5106c6b18348af",
       "version_major": 2,
       "version_minor": 0
      },
      "text/plain": [
       "VBox()"
      ]
     },
     "metadata": {},
     "output_type": "display_data"
    },
    {
     "data": {
      "application/vnd.jupyter.widget-view+json": {
       "model_id": "",
       "version_major": 2,
       "version_minor": 0
      },
      "text/plain": [
       "FloatProgress(value=0.0, bar_style='info', description='Progress:', layout=Layout(height='25px', width='50%'),…"
      ]
     },
     "metadata": {},
     "output_type": "display_data"
    },
    {
     "name": "stdout",
     "output_type": "stream",
     "text": [
      "+--------------+------------------+\n",
      "|            id|intermediary_count|\n",
      "+--------------+------------------+\n",
      "|     askreddit|             21987|\n",
      "|  outoftheloop|             19090|\n",
      "|    the_donald|              6240|\n",
      "|subredditdrama|              5265|\n",
      "|          iama|              3694|\n",
      "|     copypasta|              2812|\n",
      "|writingprompts|              2490|\n",
      "|         anime|              1942|\n",
      "|      dogecoin|              1800|\n",
      "|         drama|              1345|\n",
      "+--------------+------------------+"
     ]
    }
   ],
   "source": [
    "motifs = (g.find(\"(a)-[ab]->(b); (b)-[bc]->(c)\").filter(\"c.id = '4chan'\"))\n",
    "result = (motifs.groupBy(\"b.id\").count().withColumnRenamed(\"count\", \"intermediary_count\")\n",
    "          .sort(F.desc(\"intermediary_count\")).limit(10))\n",
    "result.show()"
   ]
  },
  {
   "cell_type": "markdown",
   "metadata": {},
   "source": [
    "6- Find the shortest path from `disney` to `4chan`."
   ]
  },
  {
   "cell_type": "code",
   "execution_count": 26,
   "metadata": {},
   "outputs": [
    {
     "data": {
      "application/vnd.jupyter.widget-view+json": {
       "model_id": "",
       "version_major": 2,
       "version_minor": 0
      },
      "text/plain": [
       "FloatProgress(value=0.0, bar_style='info', description='Progress:', layout=Layout(height='25px', width='50%'),…"
      ]
     },
     "metadata": {},
     "output_type": "display_data"
    },
    {
     "data": {
      "text/html": [
       "<table><tr><th>from</th><th>e0</th><th>v1</th><th>e1</th><th>to</th></tr><tr><td>{disney}</td><td>{disney, writingp...</td><td>{writingprompts}</td><td>{writingprompts, ...</td><td>{4chan}</td></tr><tr><td>{disney}</td><td>{disney, iama, 3o...</td><td>{iama}</td><td>{iama, 4chan, 3rn...</td><td>{4chan}</td></tr><tr><td>{disney}</td><td>{disney, anime, 5...</td><td>{anime}</td><td>{anime, 4chan, 2g...</td><td>{4chan}</td></tr><tr><td>{disney}</td><td>{disney, anime, 5...</td><td>{anime}</td><td>{anime, 4chan, 3z...</td><td>{4chan}</td></tr></table><br /><pre></pre>"
      ],
      "text/plain": [
       "<IPython.core.display.HTML object>"
      ]
     },
     "metadata": {},
     "output_type": "display_data"
    }
   ],
   "source": [
    "%%pretty\n",
    "filteredPaths = g.bfs(\n",
    "  fromExpr=\"id = 'disney'\",\n",
    "  toExpr=\"id = '4chan'\",\n",
    "  maxPathLength=2)\n",
    "filteredPaths.show(5)"
   ]
  }
 ],
 "metadata": {
  "kernelspec": {
   "display_name": "PySpark",
   "language": "python",
   "name": "pysparkkernel"
  },
  "language_info": {
   "codemirror_mode": {
    "name": "python",
    "version": 3
   },
   "file_extension": ".py",
   "mimetype": "text/x-python",
   "name": "pyspark",
   "pygments_lexer": "python3"
  },
  "name": "GraphFrames - Graph Theory with PySpark",
  "notebookId": 1273085681747868
 },
 "nbformat": 4,
 "nbformat_minor": 4
}
