{
 "cells": [
  {
   "cell_type": "markdown",
   "metadata": {},
   "source": [
    "# GBA 6430 - Big Data Technology in Business\n",
    "# Dr. Mohammad Salehan\n",
    "# Spark DataFrames"
   ]
  },
  {
   "cell_type": "markdown",
   "metadata": {},
   "source": [
    "- RDDs are schema-less.\n",
    "- You can use DataFrames to add schema to them.\n",
    "- DataFrames no longer inherit from RDD directly, but instead provide most of the functionality that RDDs provide."
   ]
  },
  {
   "cell_type": "code",
   "execution_count": 1,
   "metadata": {
    "tags": []
   },
   "outputs": [
    {
     "data": {
      "application/vnd.jupyter.widget-view+json": {
       "model_id": "c6ffc08eaa8a432eaca0aefb7c5083e0",
       "version_major": 2,
       "version_minor": 0
      },
      "text/plain": [
       "VBox()"
      ]
     },
     "metadata": {},
     "output_type": "display_data"
    },
    {
     "name": "stdout",
     "output_type": "stream",
     "text": [
      "Starting Spark application\n"
     ]
    },
    {
     "data": {
      "text/html": [
       "<table>\n",
       "<tr><th>ID</th><th>YARN Application ID</th><th>Kind</th><th>State</th><th>Spark UI</th><th>Driver log</th><th>User</th><th>Current session?</th></tr><tr><td>0</td><td>application_1718239785956_0001</td><td>pyspark</td><td>idle</td><td><a target=\"_blank\" href=\"http://ip-172-31-12-106.ec2.internal:20888/proxy/application_1718239785956_0001/\" class=\"emr-proxy-link\" emr-resource=\"j-3LIQREPIR5PIQ\n",
       "\" application-id=\"application_1718239785956_0001\">Link</a></td><td><a target=\"_blank\" href=\"http://ip-172-31-0-129.ec2.internal:8042/node/containerlogs/container_1718239785956_0001_01_000001/livy\" >Link</a></td><td>None</td><td>✔</td></tr></table>"
      ],
      "text/plain": [
       "<IPython.core.display.HTML object>"
      ]
     },
     "metadata": {},
     "output_type": "display_data"
    },
    {
     "data": {
      "application/vnd.jupyter.widget-view+json": {
       "model_id": "",
       "version_major": 2,
       "version_minor": 0
      },
      "text/plain": [
       "FloatProgress(value=0.0, bar_style='info', description='Progress:', layout=Layout(height='25px', width='50%'),…"
      ]
     },
     "metadata": {},
     "output_type": "display_data"
    },
    {
     "name": "stdout",
     "output_type": "stream",
     "text": [
      "SparkSession available as 'spark'.\n"
     ]
    },
    {
     "data": {
      "application/vnd.jupyter.widget-view+json": {
       "model_id": "",
       "version_major": 2,
       "version_minor": 0
      },
      "text/plain": [
       "FloatProgress(value=0.0, bar_style='info', description='Progress:', layout=Layout(height='25px', width='50%'),…"
      ]
     },
     "metadata": {},
     "output_type": "display_data"
    }
   ],
   "source": [
    "sample_data = [\n",
    "(1, 'MacBook Pro', 2015, '15\"', '16GB', '512GB SSD'\n",
    ", 13.75, 9.48, 0.61, 4.02)\n",
    ", (2, 'MacBook', 2016, '12\"', '8GB', '256GB SSD'\n",
    ", 11.04, 7.74, 0.52, 2.03)\n",
    ", (3, 'MacBook Air', 2016, '13.3\"', '8GB', '128GB SSD'\n",
    ", 12.8, 8.94, 0.68, 2.96)\n",
    ", (4, 'iMac', 2017, '27\"', '64GB', '1TB SSD'\n",
    ", 25.6, 8.0, 20.3, 20.8)\n",
    "]"
   ]
  },
  {
   "cell_type": "markdown",
   "metadata": {},
   "source": [
    "## Pandas API\n",
    "Since `Spark 3.2`, a new feature called `Pandas API` has been added to `Spark` which allows you to use `Pandas` syntax with `Spark`."
   ]
  },
  {
   "cell_type": "code",
   "execution_count": 2,
   "metadata": {
    "tags": []
   },
   "outputs": [
    {
     "data": {
      "application/vnd.jupyter.widget-view+json": {
       "model_id": "dbd74fef94e24c7aa73437c58a9f11de",
       "version_major": 2,
       "version_minor": 0
      },
      "text/plain": [
       "VBox()"
      ]
     },
     "metadata": {},
     "output_type": "display_data"
    },
    {
     "data": {
      "application/vnd.jupyter.widget-view+json": {
       "model_id": "",
       "version_major": 2,
       "version_minor": 0
      },
      "text/plain": [
       "FloatProgress(value=0.0, bar_style='info', description='Progress:', layout=Layout(height='25px', width='50%'),…"
      ]
     },
     "metadata": {},
     "output_type": "display_data"
    },
    {
     "name": "stdout",
     "output_type": "stream",
     "text": [
      "   Id        Model  Year ScreenSize   RAM        HDD      W     D      H  Weight\n",
      "0   1  MacBook Pro  2015        15\"  16GB  512GB SSD  13.75  9.48   0.61    4.02\n",
      "1   2      MacBook  2016        12\"   8GB  256GB SSD  11.04  7.74   0.52    2.03\n",
      "2   3  MacBook Air  2016      13.3\"   8GB  128GB SSD  12.80  8.94   0.68    2.96\n",
      "3   4         iMac  2017        27\"  64GB    1TB SSD  25.60  8.00  20.30   20.80\n",
      "/mnt/yarn/usercache/livy/appcache/application_1718239785956_0001/container_1718239785956_0001_01_000001/pyspark.zip/pyspark/pandas/__init__.py:51: UserWarning: 'PYARROW_IGNORE_TIMEZONE' environment variable was not set. It is required to set this environment variable to '1' in both driver and executor sides if you use pyarrow>=2.0.0. pandas-on-Spark will set it for you but it does not work if there is a Spark context already launched."
     ]
    }
   ],
   "source": [
    "import pyspark.pandas as ps\n",
    "\n",
    "sample_data_df = ps.DataFrame(sample_data, columns=['Id', 'Model', 'Year', 'ScreenSize',\n",
    "                                'RAM', 'HDD', 'W', 'D', 'H', 'Weight'])\n",
    "sample_data_df.head(20) #Displays the top 20 rows of DataFrame in a tabular form."
   ]
  },
  {
   "cell_type": "code",
   "execution_count": 3,
   "metadata": {
    "tags": []
   },
   "outputs": [
    {
     "data": {
      "application/vnd.jupyter.widget-view+json": {
       "model_id": "b39647dbd2094a20beefed6b9d4ec832",
       "version_major": 2,
       "version_minor": 0
      },
      "text/plain": [
       "VBox()"
      ]
     },
     "metadata": {},
     "output_type": "display_data"
    },
    {
     "data": {
      "application/vnd.jupyter.widget-view+json": {
       "model_id": "",
       "version_major": 2,
       "version_minor": 0
      },
      "text/plain": [
       "FloatProgress(value=0.0, bar_style='info', description='Progress:', layout=Layout(height='25px', width='50%'),…"
      ]
     },
     "metadata": {},
     "output_type": "display_data"
    },
    {
     "name": "stdout",
     "output_type": "stream",
     "text": [
      "<class 'pyspark.pandas.frame.DataFrame'>\n",
      "Int64Index: 4 entries, 0 to 3\n",
      "Data columns (total 10 columns):\n",
      " #   Column      Non-Null Count  Dtype  \n",
      "---  ------      --------------  -----  \n",
      " 0   Id          4 non-null      int64  \n",
      " 1   Model       4 non-null      object \n",
      " 2   Year        4 non-null      int64  \n",
      " 3   ScreenSize  4 non-null      object \n",
      " 4   RAM         4 non-null      object \n",
      " 5   HDD         4 non-null      object \n",
      " 6   W           4 non-null      float64\n",
      " 7   D           4 non-null      float64\n",
      " 8   H           4 non-null      float64\n",
      " 9   Weight      4 non-null      float64\n",
      "dtypes: float64(4), int64(2), object(4)"
     ]
    }
   ],
   "source": [
    "sample_data_df.info()"
   ]
  },
  {
   "cell_type": "markdown",
   "metadata": {},
   "source": [
    "DataFrame data types: <ul>\n",
    "    <li>BooleanType\n",
    "    <li>DoubleType\n",
    "   <li> FloatType\n",
    "   <li> IntegerType\n",
    "   <li> LongType\n",
    "   <li> NullType\n",
    "   <li> ShortType\n",
    "   <li> StringType\n",
    "   <li> TimestampType"
   ]
  },
  {
   "cell_type": "markdown",
   "metadata": {},
   "source": [
    "When you use the .read attribute of SparkSession, it returns a DataFrameReader object. DataFrameReader is an interface to read data into a DataFrame."
   ]
  },
  {
   "cell_type": "markdown",
   "metadata": {},
   "source": [
    "## I/O Operations\n",
    "### Reading from JSON file\n",
    "Below we read the same dataset from a <a href=\"https://cis4567-salehan.s3.amazonaws.com/Spark/Data/DataFrames_sample.json\" target=\"_blank\">JSON file hosted on S3</a>."
   ]
  },
  {
   "cell_type": "code",
   "execution_count": 4,
   "metadata": {
    "tags": []
   },
   "outputs": [
    {
     "data": {
      "application/vnd.jupyter.widget-view+json": {
       "model_id": "04ef6317a4264be69c94b81e5236685b",
       "version_major": 2,
       "version_minor": 0
      },
      "text/plain": [
       "VBox()"
      ]
     },
     "metadata": {},
     "output_type": "display_data"
    },
    {
     "data": {
      "application/vnd.jupyter.widget-view+json": {
       "model_id": "",
       "version_major": 2,
       "version_minor": 0
      },
      "text/plain": [
       "FloatProgress(value=0.0, bar_style='info', description='Progress:', layout=Layout(height='25px', width='50%'),…"
      ]
     },
     "metadata": {},
     "output_type": "display_data"
    },
    {
     "name": "stdout",
     "output_type": "stream",
     "text": [
      "      D      H        HDD        Model   RAM  ScreenSize      W   Weight   Year  Id\n",
      "0  9.48   0.61  512GB SSD  MacBook Pro  16GB         15\"  13.75     4.02   2015   1\n",
      "1  7.74   0.52  256GB SSD      MacBook   8GB         12\"  11.04     2.03   2016   2\n",
      "2  8.94   0.68  128GB SSD  MacBook Air   8GB       13.3\"  12.80     2.96   2016   3\n",
      "3  8.00  20.30    1TB SSD         iMac  64GB         27\"  25.60    20.80   2017   4\n",
      "/mnt/yarn/usercache/livy/appcache/application_1718239785956_0001/container_1718239785956_0001_01_000001/pyspark.zip/pyspark/pandas/utils.py:975: PandasAPIOnSparkAdviceWarning: If `index_col` is not specified for `read_json`, the default index is attached which can cause additional overhead.\n",
      "  warnings.warn(message, PandasAPIOnSparkAdviceWarning)"
     ]
    }
   ],
   "source": [
    "sample_data_json_df = ps.read_json('s3://cis4567-salehan/Spark/Data/DataFrames_sample.json')\n",
    "sample_data_json_df.head()"
   ]
  },
  {
   "cell_type": "code",
   "execution_count": 5,
   "metadata": {},
   "outputs": [
    {
     "data": {
      "application/vnd.jupyter.widget-view+json": {
       "model_id": "8e5a81b4dfc54203a3924a4438c19c8d",
       "version_major": 2,
       "version_minor": 0
      },
      "text/plain": [
       "VBox()"
      ]
     },
     "metadata": {},
     "output_type": "display_data"
    },
    {
     "data": {
      "application/vnd.jupyter.widget-view+json": {
       "model_id": "",
       "version_major": 2,
       "version_minor": 0
      },
      "text/plain": [
       "FloatProgress(value=0.0, bar_style='info', description='Progress:', layout=Layout(height='25px', width='50%'),…"
      ]
     },
     "metadata": {},
     "output_type": "display_data"
    },
    {
     "name": "stdout",
     "output_type": "stream",
     "text": [
      "<class 'pyspark.pandas.frame.DataFrame'>\n",
      "Int64Index: 4 entries, 0 to 3\n",
      "Data columns (total 10 columns):\n",
      " #   Column       Non-Null Count  Dtype  \n",
      "---  ------       --------------  -----  \n",
      " 0    D           4 non-null      float64\n",
      " 1    H           4 non-null      float64\n",
      " 2    HDD         4 non-null      object \n",
      " 3    Model       4 non-null      object \n",
      " 4    RAM         4 non-null      object \n",
      " 5    ScreenSize  4 non-null      object \n",
      " 6    W           4 non-null      float64\n",
      " 7    Weight      4 non-null      float64\n",
      " 8    Year        4 non-null      int64  \n",
      " 9   Id           4 non-null      int64  \n",
      "dtypes: float64(4), int64(2), object(4)"
     ]
    }
   ],
   "source": [
    "sample_data_json_df.info()"
   ]
  },
  {
   "cell_type": "markdown",
   "metadata": {},
   "source": [
    "### Reading from CSV\n",
    "Below we read the same dataset from a <a href=\"https://cis4567-salehan.s3.amazonaws.com/Spark/Data/DataFrames_sample.csv\" target=\"_blank\">CSV file hosted on S3</a>."
   ]
  },
  {
   "cell_type": "code",
   "execution_count": 6,
   "metadata": {
    "tags": []
   },
   "outputs": [
    {
     "data": {
      "application/vnd.jupyter.widget-view+json": {
       "model_id": "6181d062a09642aa814762df3c54e3d8",
       "version_major": 2,
       "version_minor": 0
      },
      "text/plain": [
       "VBox()"
      ]
     },
     "metadata": {},
     "output_type": "display_data"
    },
    {
     "data": {
      "application/vnd.jupyter.widget-view+json": {
       "model_id": "",
       "version_major": 2,
       "version_minor": 0
      },
      "text/plain": [
       "FloatProgress(value=0.0, bar_style='info', description='Progress:', layout=Layout(height='25px', width='50%'),…"
      ]
     },
     "metadata": {},
     "output_type": "display_data"
    },
    {
     "name": "stdout",
     "output_type": "stream",
     "text": [
      "/mnt/yarn/usercache/livy/appcache/application_1718239785956_0001/container_1718239785956_0001_01_000001/pyspark.zip/pyspark/pandas/utils.py:975: PandasAPIOnSparkAdviceWarning: If `index_col` is not specified for `read_csv`, the default index is attached which can cause additional overhead.\n",
      "  warnings.warn(message, PandasAPIOnSparkAdviceWarning)"
     ]
    }
   ],
   "source": [
    "sample_data_csv = ps.read_csv('s3://cis4567-salehan/Spark/Data/DataFrames_sample.csv')"
   ]
  },
  {
   "cell_type": "code",
   "execution_count": 7,
   "metadata": {
    "tags": []
   },
   "outputs": [
    {
     "data": {
      "application/vnd.jupyter.widget-view+json": {
       "model_id": "b17d91f504024183929a20711e21e94e",
       "version_major": 2,
       "version_minor": 0
      },
      "text/plain": [
       "VBox()"
      ]
     },
     "metadata": {},
     "output_type": "display_data"
    },
    {
     "data": {
      "application/vnd.jupyter.widget-view+json": {
       "model_id": "",
       "version_major": 2,
       "version_minor": 0
      },
      "text/plain": [
       "FloatProgress(value=0.0, bar_style='info', description='Progress:', layout=Layout(height='25px', width='50%'),…"
      ]
     },
     "metadata": {},
     "output_type": "display_data"
    },
    {
     "name": "stdout",
     "output_type": "stream",
     "text": [
      "   Id        Model  Year ScreenSize   RAM        HDD      W     D      H  Weight\n",
      "0   1  MacBook Pro  2015        15\"  16GB  512GB SSD  13.75  9.48   0.61    4.02\n",
      "1   2      MacBook  2016        12\"   8GB  256GB SSD  11.04  7.74   0.52    2.03\n",
      "2   3  MacBook Air  2016      13.3\"   8GB  128GB SSD  12.80  8.94   0.68    2.96\n",
      "3   4         iMac  2017        27\"  64GB    1TB SSD  25.60  8.00  20.30   20.80"
     ]
    }
   ],
   "source": [
    "sample_data_csv.head()"
   ]
  },
  {
   "cell_type": "code",
   "execution_count": 8,
   "metadata": {
    "tags": []
   },
   "outputs": [
    {
     "data": {
      "application/vnd.jupyter.widget-view+json": {
       "model_id": "75b2650b180b42d0954b14e8006c66b6",
       "version_major": 2,
       "version_minor": 0
      },
      "text/plain": [
       "VBox()"
      ]
     },
     "metadata": {},
     "output_type": "display_data"
    },
    {
     "data": {
      "application/vnd.jupyter.widget-view+json": {
       "model_id": "",
       "version_major": 2,
       "version_minor": 0
      },
      "text/plain": [
       "FloatProgress(value=0.0, bar_style='info', description='Progress:', layout=Layout(height='25px', width='50%'),…"
      ]
     },
     "metadata": {},
     "output_type": "display_data"
    },
    {
     "name": "stdout",
     "output_type": "stream",
     "text": [
      "<class 'pyspark.pandas.frame.DataFrame'>\n",
      "Int64Index: 4 entries, 0 to 3\n",
      "Data columns (total 10 columns):\n",
      " #   Column      Non-Null Count  Dtype  \n",
      "---  ------      --------------  -----  \n",
      " 0   Id          4 non-null      int32  \n",
      " 1   Model       4 non-null      object \n",
      " 2   Year        4 non-null      int32  \n",
      " 3   ScreenSize  4 non-null      object \n",
      " 4   RAM         4 non-null      object \n",
      " 5   HDD         4 non-null      object \n",
      " 6   W           4 non-null      float64\n",
      " 7   D           4 non-null      float64\n",
      " 8   H           4 non-null      float64\n",
      " 9   Weight      4 non-null      float64\n",
      "dtypes: float64(4), int32(2), object(4)"
     ]
    }
   ],
   "source": [
    "sample_data_csv.info()"
   ]
  },
  {
   "cell_type": "markdown",
   "metadata": {},
   "source": [
    "### Saving as CSV"
   ]
  },
  {
   "cell_type": "code",
   "execution_count": 9,
   "metadata": {},
   "outputs": [
    {
     "data": {
      "application/vnd.jupyter.widget-view+json": {
       "model_id": "f621cd6110ac443885ef0f6b1b48c419",
       "version_major": 2,
       "version_minor": 0
      },
      "text/plain": [
       "VBox()"
      ]
     },
     "metadata": {},
     "output_type": "display_data"
    },
    {
     "data": {
      "application/vnd.jupyter.widget-view+json": {
       "model_id": "",
       "version_major": 2,
       "version_minor": 0
      },
      "text/plain": [
       "FloatProgress(value=0.0, bar_style='info', description='Progress:', layout=Layout(height='25px', width='50%'),…"
      ]
     },
     "metadata": {},
     "output_type": "display_data"
    },
    {
     "name": "stdout",
     "output_type": "stream",
     "text": [
      "/mnt/yarn/usercache/livy/appcache/application_1718239785956_0001/container_1718239785956_0001_01_000001/pyspark.zip/pyspark/pandas/utils.py:975: PandasAPIOnSparkAdviceWarning: If `index_col` is not specified for `to_spark`, the existing index is lost when converting to Spark DataFrame.\n",
      "  warnings.warn(message, PandasAPIOnSparkAdviceWarning)"
     ]
    }
   ],
   "source": [
    "sample_data_csv.to_csv('s3://gba6430-huayang-01/spark/tmp/laptops')"
   ]
  },
  {
   "cell_type": "markdown",
   "metadata": {},
   "source": [
    "### Saving as Parquet\n",
    "`Apache Parquet` is an open source, column-oriented data file format designed for efficient data storage and retrieval. It provides efficient data compression and encoding schemes with enhanced performance to handle complex data in bulk"
   ]
  },
  {
   "cell_type": "code",
   "execution_count": 10,
   "metadata": {},
   "outputs": [
    {
     "data": {
      "application/vnd.jupyter.widget-view+json": {
       "model_id": "4dc7cff79cbe41d39cce3429e260a9b3",
       "version_major": 2,
       "version_minor": 0
      },
      "text/plain": [
       "VBox()"
      ]
     },
     "metadata": {},
     "output_type": "display_data"
    },
    {
     "data": {
      "application/vnd.jupyter.widget-view+json": {
       "model_id": "",
       "version_major": 2,
       "version_minor": 0
      },
      "text/plain": [
       "FloatProgress(value=0.0, bar_style='info', description='Progress:', layout=Layout(height='25px', width='50%'),…"
      ]
     },
     "metadata": {},
     "output_type": "display_data"
    },
    {
     "name": "stdout",
     "output_type": "stream",
     "text": [
      "/mnt/yarn/usercache/livy/appcache/application_1718239785956_0001/container_1718239785956_0001_01_000001/pyspark.zip/pyspark/pandas/utils.py:975: PandasAPIOnSparkAdviceWarning: If `index_col` is not specified for `to_parquet`, the existing index is lost when converting to Parquet.\n",
      "  warnings.warn(message, PandasAPIOnSparkAdviceWarning)"
     ]
    }
   ],
   "source": [
    "sample_data_csv.to_parquet('s3://gba6430-huayang-01/spark/tmp/laptops-parquet')"
   ]
  },
  {
   "cell_type": "markdown",
   "metadata": {},
   "source": [
    "## Spark SQL\n",
    "Spark SQL allows you to run SQL-like queries on dataframes. Spark SQL uses Hive in backend."
   ]
  },
  {
   "cell_type": "code",
   "execution_count": 11,
   "metadata": {
    "tags": []
   },
   "outputs": [
    {
     "data": {
      "application/vnd.jupyter.widget-view+json": {
       "model_id": "3a9a52255d764c70b3170057fab32e37",
       "version_major": 2,
       "version_minor": 0
      },
      "text/plain": [
       "VBox()"
      ]
     },
     "metadata": {},
     "output_type": "display_data"
    },
    {
     "data": {
      "application/vnd.jupyter.widget-view+json": {
       "model_id": "",
       "version_major": 2,
       "version_minor": 0
      },
      "text/plain": [
       "FloatProgress(value=0.0, bar_style='info', description='Progress:', layout=Layout(height='25px', width='50%'),…"
      ]
     },
     "metadata": {},
     "output_type": "display_data"
    },
    {
     "name": "stdout",
     "output_type": "stream",
     "text": [
      "   Id        Model  Year ScreenSize   RAM        HDD      W     D      H  Weight\n",
      "0   1  MacBook Pro  2015        15\"  16GB  512GB SSD  13.75  9.48   0.61    4.02\n",
      "1   2      MacBook  2016        12\"   8GB  256GB SSD  11.04  7.74   0.52    2.03\n",
      "2   3  MacBook Air  2016      13.3\"   8GB  128GB SSD  12.80  8.94   0.68    2.96\n",
      "3   4         iMac  2017        27\"  64GB    1TB SSD  25.60  8.00  20.30   20.80\n",
      "/mnt/yarn/usercache/livy/appcache/application_1718239785956_0001/container_1718239785956_0001_01_000001/pyspark.zip/pyspark/pandas/utils.py:975: PandasAPIOnSparkAdviceWarning: If `index_col` is not specified for `read_csv`, the default index is attached which can cause additional overhead.\n",
      "  warnings.warn(message, PandasAPIOnSparkAdviceWarning)"
     ]
    }
   ],
   "source": [
    "#If you want to explicitly specify column data types when loading the data, use the following\n",
    "data_frame = ps.read_csv('s3://cis4567-salehan/Spark/Data/DataFrames_sample.csv',\n",
    "                                        dtype={'Id':int,\n",
    "                                               'Model':str,\n",
    "                                               'Year':int,\n",
    "                                               'ScreenSize':str,\n",
    "                                               'RAM':str,\n",
    "                                               'HDD':str,\n",
    "                                               'W':float,\n",
    "                                               'D':float,\n",
    "                                               'H':float,\n",
    "                                               'Weight':float}\n",
    "                        )\n",
    "data_frame.head()"
   ]
  },
  {
   "cell_type": "code",
   "execution_count": 12,
   "metadata": {
    "tags": []
   },
   "outputs": [
    {
     "data": {
      "application/vnd.jupyter.widget-view+json": {
       "model_id": "87e6400d6495450a979fc6b6c0eda396",
       "version_major": 2,
       "version_minor": 0
      },
      "text/plain": [
       "VBox()"
      ]
     },
     "metadata": {},
     "output_type": "display_data"
    },
    {
     "data": {
      "application/vnd.jupyter.widget-view+json": {
       "model_id": "",
       "version_major": 2,
       "version_minor": 0
      },
      "text/plain": [
       "FloatProgress(value=0.0, bar_style='info', description='Progress:', layout=Layout(height='25px', width='50%'),…"
      ]
     },
     "metadata": {},
     "output_type": "display_data"
    },
    {
     "name": "stdout",
     "output_type": "stream",
     "text": [
      "         Model  Year   RAM        HDD ScreenSize\n",
      "0  MacBook Pro  2015  16GB  512GB SSD        15\"\n",
      "1      MacBook  2016   8GB  256GB SSD        12\"\n",
      "2  MacBook Air  2016   8GB  128GB SSD      13.3\"\n",
      "3         iMac  2017  64GB    1TB SSD        27\""
     ]
    }
   ],
   "source": [
    "#Now run the query on the view we just created\n",
    "ps.sql('''\n",
    "    SELECT Model,\n",
    "    Year,\n",
    "    RAM,\n",
    "    HDD,\n",
    "    ScreenSize FROM\n",
    "    {computers}''', computers=data_frame)"
   ]
  },
  {
   "cell_type": "code",
   "execution_count": 13,
   "metadata": {
    "tags": []
   },
   "outputs": [
    {
     "data": {
      "application/vnd.jupyter.widget-view+json": {
       "model_id": "9b7446087d45490db8a9bbb497d685c0",
       "version_major": 2,
       "version_minor": 0
      },
      "text/plain": [
       "VBox()"
      ]
     },
     "metadata": {},
     "output_type": "display_data"
    },
    {
     "data": {
      "application/vnd.jupyter.widget-view+json": {
       "model_id": "",
       "version_major": 2,
       "version_minor": 0
      },
      "text/plain": [
       "FloatProgress(value=0.0, bar_style='info', description='Progress:', layout=Layout(height='25px', width='50%'),…"
      ]
     },
     "metadata": {},
     "output_type": "display_data"
    },
    {
     "name": "stdout",
     "output_type": "stream",
     "text": [
      "         Model FormFactor\n",
      "0  MacBook Pro     Laptop\n",
      "1      MacBook     Laptop\n",
      "2  MacBook Air     Laptop\n",
      "3         iMac    Desktop"
     ]
    }
   ],
   "source": [
    "#create a second dataframe to join with sample_data_view\n",
    "models_df = ps.DataFrame([\n",
    "('MacBook Pro', 'Laptop')\n",
    ", ('MacBook', 'Laptop')\n",
    ", ('MacBook Air', 'Laptop')\n",
    ", ('iMac', 'Desktop')], \n",
    "    columns=['Model', 'FormFactor'])\n",
    "models_df"
   ]
  },
  {
   "cell_type": "code",
   "execution_count": 14,
   "metadata": {
    "tags": []
   },
   "outputs": [
    {
     "data": {
      "application/vnd.jupyter.widget-view+json": {
       "model_id": "39b5ab756af740cfbe5f31cd6f145a1b",
       "version_major": 2,
       "version_minor": 0
      },
      "text/plain": [
       "VBox()"
      ]
     },
     "metadata": {},
     "output_type": "display_data"
    },
    {
     "data": {
      "application/vnd.jupyter.widget-view+json": {
       "model_id": "",
       "version_major": 2,
       "version_minor": 0
      },
      "text/plain": [
       "FloatProgress(value=0.0, bar_style='info', description='Progress:', layout=Layout(height='25px', width='50%'),…"
      ]
     },
     "metadata": {},
     "output_type": "display_data"
    },
    {
     "name": "stdout",
     "output_type": "stream",
     "text": [
      "   Id        Model  Year ScreenSize   RAM        HDD      W     D      H  Weight FormFactor\n",
      "0   4         iMac  2017        27\"  64GB    1TB SSD  25.60  8.00  20.30   20.80    Desktop\n",
      "1   1  MacBook Pro  2015        15\"  16GB  512GB SSD  13.75  9.48   0.61    4.02     Laptop\n",
      "2   3  MacBook Air  2016      13.3\"   8GB  128GB SSD  12.80  8.94   0.68    2.96     Laptop\n",
      "3   2      MacBook  2016        12\"   8GB  256GB SSD  11.04  7.74   0.52    2.03     Laptop"
     ]
    }
   ],
   "source": [
    "ps.sql('''\n",
    "        SELECT a.*,\n",
    "        b.FormFactor\n",
    "        FROM {computers} AS a\n",
    "        LEFT JOIN {models} AS b\n",
    "        ON a.Model == b.Model\n",
    "        ORDER BY Weight DESC\n",
    "        ''', computers=data_frame, models=models_df)"
   ]
  },
  {
   "cell_type": "code",
   "execution_count": 15,
   "metadata": {
    "tags": []
   },
   "outputs": [
    {
     "data": {
      "application/vnd.jupyter.widget-view+json": {
       "model_id": "93fd3f0dc8764e01ac67120f1ca3e539",
       "version_major": 2,
       "version_minor": 0
      },
      "text/plain": [
       "VBox()"
      ]
     },
     "metadata": {},
     "output_type": "display_data"
    },
    {
     "data": {
      "application/vnd.jupyter.widget-view+json": {
       "model_id": "",
       "version_major": 2,
       "version_minor": 0
      },
      "text/plain": [
       "FloatProgress(value=0.0, bar_style='info', description='Progress:', layout=Layout(height='25px', width='50%'),…"
      ]
     },
     "metadata": {},
     "output_type": "display_data"
    },
    {
     "name": "stdout",
     "output_type": "stream",
     "text": [
      "  FormFactor  ComputerCnt\n",
      "0     Laptop            3\n",
      "1    Desktop            1"
     ]
    }
   ],
   "source": [
    "ps.sql('''\n",
    "        SELECT b.FormFactor,\n",
    "        COUNT(*) AS ComputerCnt\n",
    "        FROM {computers} AS a\n",
    "        LEFT JOIN {models} AS b\n",
    "        ON a.Model == b.Model\n",
    "        GROUP BY FormFactor\n",
    "        ''', computers=data_frame, models=models_df)"
   ]
  },
  {
   "cell_type": "markdown",
   "metadata": {
    "tags": []
   },
   "source": [
    "## Transforming data using Pandas on Spark"
   ]
  },
  {
   "cell_type": "markdown",
   "metadata": {},
   "source": [
    "### Selecting columns"
   ]
  },
  {
   "cell_type": "code",
   "execution_count": 16,
   "metadata": {
    "tags": []
   },
   "outputs": [
    {
     "data": {
      "application/vnd.jupyter.widget-view+json": {
       "model_id": "afc098b7e5934158ae2112365a3b398d",
       "version_major": 2,
       "version_minor": 0
      },
      "text/plain": [
       "VBox()"
      ]
     },
     "metadata": {},
     "output_type": "display_data"
    },
    {
     "data": {
      "application/vnd.jupyter.widget-view+json": {
       "model_id": "",
       "version_major": 2,
       "version_minor": 0
      },
      "text/plain": [
       "FloatProgress(value=0.0, bar_style='info', description='Progress:', layout=Layout(height='25px', width='50%'),…"
      ]
     },
     "metadata": {},
     "output_type": "display_data"
    },
    {
     "name": "stdout",
     "output_type": "stream",
     "text": [
      "   Id        Model  Year\n",
      "0   1  MacBook Pro  2015\n",
      "1   2      MacBook  2016\n",
      "2   3  MacBook Air  2016\n",
      "3   4         iMac  2017"
     ]
    }
   ],
   "source": [
    "sample_data_csv[['Id', 'Model', 'Year']]"
   ]
  },
  {
   "cell_type": "code",
   "execution_count": 17,
   "metadata": {
    "tags": []
   },
   "outputs": [
    {
     "data": {
      "application/vnd.jupyter.widget-view+json": {
       "model_id": "a7efd1bb440b4e02a7cfe48ea5dc749e",
       "version_major": 2,
       "version_minor": 0
      },
      "text/plain": [
       "VBox()"
      ]
     },
     "metadata": {},
     "output_type": "display_data"
    },
    {
     "data": {
      "application/vnd.jupyter.widget-view+json": {
       "model_id": "",
       "version_major": 2,
       "version_minor": 0
      },
      "text/plain": [
       "FloatProgress(value=0.0, bar_style='info', description='Progress:', layout=Layout(height='25px', width='50%'),…"
      ]
     },
     "metadata": {},
     "output_type": "display_data"
    },
    {
     "name": "stdout",
     "output_type": "stream",
     "text": [
      "<class 'pyspark.pandas.frame.DataFrame'>\n",
      "   Id\n",
      "0   1\n",
      "1   2\n",
      "2   3\n",
      "3   4"
     ]
    }
   ],
   "source": [
    "print(type(sample_data_csv[['Id']]))\n",
    "sample_data_csv[['Id']]"
   ]
  },
  {
   "cell_type": "code",
   "execution_count": 18,
   "metadata": {
    "tags": []
   },
   "outputs": [
    {
     "data": {
      "application/vnd.jupyter.widget-view+json": {
       "model_id": "bb6f831d54674688a64a205bd9d8c2cd",
       "version_major": 2,
       "version_minor": 0
      },
      "text/plain": [
       "VBox()"
      ]
     },
     "metadata": {},
     "output_type": "display_data"
    },
    {
     "data": {
      "application/vnd.jupyter.widget-view+json": {
       "model_id": "",
       "version_major": 2,
       "version_minor": 0
      },
      "text/plain": [
       "FloatProgress(value=0.0, bar_style='info', description='Progress:', layout=Layout(height='25px', width='50%'),…"
      ]
     },
     "metadata": {},
     "output_type": "display_data"
    },
    {
     "name": "stdout",
     "output_type": "stream",
     "text": [
      "<class 'pyspark.pandas.series.Series'>\n",
      "0    1\n",
      "1    2\n",
      "2    3\n",
      "3    4\n",
      "Name: Id, dtype: int32"
     ]
    }
   ],
   "source": [
    "print(type(sample_data_csv['Id']))\n",
    "sample_data_csv['Id']"
   ]
  },
  {
   "cell_type": "markdown",
   "metadata": {},
   "source": [
    "In this example, we will extract the size of the HDD and its type into separate columns, and\n",
    "will then calculate the minimum volume needed to put each computer in boxes:"
   ]
  },
  {
   "cell_type": "code",
   "execution_count": 19,
   "metadata": {
    "tags": []
   },
   "outputs": [
    {
     "data": {
      "application/vnd.jupyter.widget-view+json": {
       "model_id": "1a13f53144844f1ab64e65771a97fb19",
       "version_major": 2,
       "version_minor": 0
      },
      "text/plain": [
       "VBox()"
      ]
     },
     "metadata": {},
     "output_type": "display_data"
    },
    {
     "data": {
      "application/vnd.jupyter.widget-view+json": {
       "model_id": "",
       "version_major": 2,
       "version_minor": 0
      },
      "text/plain": [
       "FloatProgress(value=0.0, bar_style='info', description='Progress:', layout=Layout(height='25px', width='50%'),…"
      ]
     },
     "metadata": {},
     "output_type": "display_data"
    },
    {
     "name": "stdout",
     "output_type": "stream",
     "text": [
      "         Model ScreenSize\n",
      "0  MacBook Pro        15\"\n",
      "1      MacBook        12\"\n",
      "2  MacBook Air      13.3\"\n",
      "3         iMac        27\""
     ]
    }
   ],
   "source": [
    "# select Model and ScreenSize from the DataFrame\n",
    "data_frame[['Model', 'ScreenSize']]"
   ]
  },
  {
   "cell_type": "code",
   "execution_count": 20,
   "metadata": {
    "tags": []
   },
   "outputs": [
    {
     "data": {
      "application/vnd.jupyter.widget-view+json": {
       "model_id": "2b25fb3f288a4775a9e6741188a7b03b",
       "version_major": 2,
       "version_minor": 0
      },
      "text/plain": [
       "VBox()"
      ]
     },
     "metadata": {},
     "output_type": "display_data"
    },
    {
     "data": {
      "application/vnd.jupyter.widget-view+json": {
       "model_id": "",
       "version_major": 2,
       "version_minor": 0
      },
      "text/plain": [
       "FloatProgress(value=0.0, bar_style='info', description='Progress:', layout=Layout(height='25px', width='50%'),…"
      ]
     },
     "metadata": {},
     "output_type": "display_data"
    },
    {
     "name": "stdout",
     "output_type": "stream",
     "text": [
      "   Id        Model  Year ScreenSize   RAM        HDD      W     D      H  Weight\n",
      "1   2      MacBook  2016        12\"   8GB  256GB SSD  11.04  7.74   0.52    2.03\n",
      "2   3  MacBook Air  2016      13.3\"   8GB  128GB SSD  12.80  8.94   0.68    2.96\n",
      "3   4         iMac  2017        27\"  64GB    1TB SSD  25.60  8.00  20.30   20.80"
     ]
    }
   ],
   "source": [
    "# extract only machines after 2015\n",
    "data_frame[data_frame.Year > 2015]"
   ]
  },
  {
   "cell_type": "code",
   "execution_count": null,
   "metadata": {},
   "outputs": [],
   "source": [
    "data_frame[data_frame.duplicated()] #no duplicated no run"
   ]
  },
  {
   "cell_type": "code",
   "execution_count": 21,
   "metadata": {
    "tags": []
   },
   "outputs": [
    {
     "data": {
      "application/vnd.jupyter.widget-view+json": {
       "model_id": "9c3fd9faf72e42de8eacc360f0184946",
       "version_major": 2,
       "version_minor": 0
      },
      "text/plain": [
       "VBox()"
      ]
     },
     "metadata": {},
     "output_type": "display_data"
    },
    {
     "data": {
      "application/vnd.jupyter.widget-view+json": {
       "model_id": "",
       "version_major": 2,
       "version_minor": 0
      },
      "text/plain": [
       "FloatProgress(value=0.0, bar_style='info', description='Progress:', layout=Layout(height='25px', width='50%'),…"
      ]
     },
     "metadata": {},
     "output_type": "display_data"
    },
    {
     "name": "stdout",
     "output_type": "stream",
     "text": [
      "   Id        Model  Year ScreenSize   RAM        HDD      W     D      H  Weight\n",
      "3   4         iMac  2017        27\"  64GB    1TB SSD  25.60  8.00  20.30   20.80\n",
      "0   1  MacBook Pro  2015        15\"  16GB  512GB SSD  13.75  9.48   0.61    4.02\n",
      "2   3  MacBook Air  2016      13.3\"   8GB  128GB SSD  12.80  8.94   0.68    2.96\n",
      "1   2      MacBook  2016        12\"   8GB  256GB SSD  11.04  7.74   0.52    2.03"
     ]
    }
   ],
   "source": [
    "# sort by width (W)\n",
    "data_frame.sort_values('W', ascending=False)"
   ]
  },
  {
   "cell_type": "code",
   "execution_count": 22,
   "metadata": {
    "tags": []
   },
   "outputs": [
    {
     "data": {
      "application/vnd.jupyter.widget-view+json": {
       "model_id": "f6c48d8769f64909968f97953c290d28",
       "version_major": 2,
       "version_minor": 0
      },
      "text/plain": [
       "VBox()"
      ]
     },
     "metadata": {},
     "output_type": "display_data"
    },
    {
     "data": {
      "application/vnd.jupyter.widget-view+json": {
       "model_id": "",
       "version_major": 2,
       "version_minor": 0
      },
      "text/plain": [
       "FloatProgress(value=0.0, bar_style='info', description='Progress:', layout=Layout(height='25px', width='50%'),…"
      ]
     },
     "metadata": {},
     "output_type": "display_data"
    },
    {
     "name": "stdout",
     "output_type": "stream",
     "text": [
      "   Id        Model  Year ScreenSize   RAM        HDD      W     D      H  Weight FormFactor\n",
      "0   1  MacBook Pro  2015        15\"  16GB  512GB SSD  13.75  9.48   0.61    4.02     Laptop\n",
      "1   4         iMac  2017        27\"  64GB    1TB SSD  25.60  8.00  20.30   20.80    Desktop\n",
      "2   2      MacBook  2016        12\"   8GB  256GB SSD  11.04  7.74   0.52    2.03     Laptop\n",
      "3   3  MacBook Air  2016      13.3\"   8GB  128GB SSD  12.80  8.94   0.68    2.96     Laptop"
     ]
    }
   ],
   "source": [
    "#join\n",
    "ps.merge(data_frame, models_df, on='Model', how='left')"
   ]
  },
  {
   "cell_type": "code",
   "execution_count": 23,
   "metadata": {
    "tags": []
   },
   "outputs": [
    {
     "data": {
      "application/vnd.jupyter.widget-view+json": {
       "model_id": "bf5d7d1d51e64e6793fabe32522c04f2",
       "version_major": 2,
       "version_minor": 0
      },
      "text/plain": [
       "VBox()"
      ]
     },
     "metadata": {},
     "output_type": "display_data"
    },
    {
     "data": {
      "application/vnd.jupyter.widget-view+json": {
       "model_id": "",
       "version_major": 2,
       "version_minor": 0
      },
      "text/plain": [
       "FloatProgress(value=0.0, bar_style='info', description='Progress:', layout=Layout(height='25px', width='50%'),…"
      ]
     },
     "metadata": {},
     "output_type": "display_data"
    },
    {
     "name": "stdout",
     "output_type": "stream",
     "text": [
      "   Id        Model  Year ScreenSize   RAM        HDD      W     D     H  Weight\n",
      "0   5  MacBook Pro  2018        15\"  16GB  256GB SSD  13.75  9.48  0.61    4.02"
     ]
    }
   ],
   "source": [
    "#add a new row using union\n",
    "another_macBookPro = ps.DataFrame([\n",
    "(5, 'MacBook Pro', 2018, '15\"', '16GB', '256GB SSD', 13.75, 9.48, 0.61, 4.02)\n",
    "], columns=data_frame.columns)\n",
    "another_macBookPro"
   ]
  },
  {
   "cell_type": "code",
   "execution_count": 24,
   "metadata": {
    "tags": []
   },
   "outputs": [
    {
     "data": {
      "application/vnd.jupyter.widget-view+json": {
       "model_id": "4e4d94a0a2be4d7ebb7bee8ea2395778",
       "version_major": 2,
       "version_minor": 0
      },
      "text/plain": [
       "VBox()"
      ]
     },
     "metadata": {},
     "output_type": "display_data"
    },
    {
     "data": {
      "application/vnd.jupyter.widget-view+json": {
       "model_id": "",
       "version_major": 2,
       "version_minor": 0
      },
      "text/plain": [
       "FloatProgress(value=0.0, bar_style='info', description='Progress:', layout=Layout(height='25px', width='50%'),…"
      ]
     },
     "metadata": {},
     "output_type": "display_data"
    },
    {
     "name": "stdout",
     "output_type": "stream",
     "text": [
      "   Id        Model  Year ScreenSize   RAM        HDD      W     D      H  Weight\n",
      "0   1  MacBook Pro  2015        15\"  16GB  512GB SSD  13.75  9.48   0.61    4.02\n",
      "1   2      MacBook  2016        12\"   8GB  256GB SSD  11.04  7.74   0.52    2.03\n",
      "2   3  MacBook Air  2016      13.3\"   8GB  128GB SSD  12.80  8.94   0.68    2.96\n",
      "3   4         iMac  2017        27\"  64GB    1TB SSD  25.60  8.00  20.30   20.80\n",
      "0   5  MacBook Pro  2018        15\"  16GB  256GB SSD  13.75  9.48   0.61    4.02"
     ]
    }
   ],
   "source": [
    "ps.concat([data_frame, another_macBookPro])"
   ]
  },
  {
   "cell_type": "code",
   "execution_count": 25,
   "metadata": {
    "tags": []
   },
   "outputs": [
    {
     "data": {
      "application/vnd.jupyter.widget-view+json": {
       "model_id": "583434cc30a7489dae4d4ab03e14fdca",
       "version_major": 2,
       "version_minor": 0
      },
      "text/plain": [
       "VBox()"
      ]
     },
     "metadata": {},
     "output_type": "display_data"
    },
    {
     "data": {
      "application/vnd.jupyter.widget-view+json": {
       "model_id": "",
       "version_major": 2,
       "version_minor": 0
      },
      "text/plain": [
       "FloatProgress(value=0.0, bar_style='info', description='Progress:', layout=Layout(height='25px', width='50%'),…"
      ]
     },
     "metadata": {},
     "output_type": "display_data"
    },
    {
     "name": "stdout",
     "output_type": "stream",
     "text": [
      "0    16GB\n",
      "1    64GB\n",
      "2     8GB\n",
      "Name: RAM, dtype: object"
     ]
    }
   ],
   "source": [
    "# select the distinct values from the RAM column\n",
    "data_frame['RAM'].unique()"
   ]
  },
  {
   "cell_type": "markdown",
   "metadata": {},
   "source": [
    "### Adding a new column"
   ]
  },
  {
   "cell_type": "code",
   "execution_count": 26,
   "metadata": {
    "tags": []
   },
   "outputs": [
    {
     "data": {
      "application/vnd.jupyter.widget-view+json": {
       "model_id": "fdf2f0f770844648a2cd0b5fb152d90e",
       "version_major": 2,
       "version_minor": 0
      },
      "text/plain": [
       "VBox()"
      ]
     },
     "metadata": {},
     "output_type": "display_data"
    },
    {
     "data": {
      "application/vnd.jupyter.widget-view+json": {
       "model_id": "",
       "version_major": 2,
       "version_minor": 0
      },
      "text/plain": [
       "FloatProgress(value=0.0, bar_style='info', description='Progress:', layout=Layout(height='25px', width='50%'),…"
      ]
     },
     "metadata": {},
     "output_type": "display_data"
    },
    {
     "name": "stdout",
     "output_type": "stream",
     "text": [
      "   Id        Model  Year ScreenSize   RAM        HDD  Volumne_cuIn  Weight\n",
      "0   1  MacBook Pro  2015        15\"  16GB  512GB SSD          80.0    4.02\n",
      "1   2      MacBook  2016        12\"   8GB  256GB SSD          44.0    2.03\n",
      "2   3  MacBook Air  2016      13.3\"   8GB  128GB SSD          78.0    2.96\n",
      "3   4         iMac  2017        27\"  64GB    1TB SSD        4157.0   20.80"
     ]
    }
   ],
   "source": [
    "# data_frame = ps.read_csv('s3://cis4567-salehan/Spark/Data/DataFrames_sample.csv')\n",
    "data_frame = data_frame.assign(Volumne_cuIn=\n",
    "                               (data_frame['H'] * data_frame['D'] * data_frame['W']).round())\n",
    "data_frame = data_frame[['Id', 'Model', 'Year', 'ScreenSize', 'RAM',                                      \n",
    "        'HDD', 'Volumne_cuIn', 'Weight']]\n",
    "data_frame.head()"
   ]
  },
  {
   "cell_type": "markdown",
   "metadata": {},
   "source": [
    "### Class exercise\n",
    "Using `sample_data_transformed`, convert weight in lbs to kg and round it to 2 decimal digits.  \n",
    "hint: multiply weight by `0.453592` to convert lbs to kg."
   ]
  },
  {
   "cell_type": "code",
   "execution_count": 29,
   "metadata": {},
   "outputs": [
    {
     "data": {
      "application/vnd.jupyter.widget-view+json": {
       "model_id": "f900e252acac40ccbb2ad870b3f393f4",
       "version_major": 2,
       "version_minor": 0
      },
      "text/plain": [
       "VBox()"
      ]
     },
     "metadata": {},
     "output_type": "display_data"
    },
    {
     "data": {
      "application/vnd.jupyter.widget-view+json": {
       "model_id": "",
       "version_major": 2,
       "version_minor": 0
      },
      "text/plain": [
       "FloatProgress(value=0.0, bar_style='info', description='Progress:', layout=Layout(height='25px', width='50%'),…"
      ]
     },
     "metadata": {},
     "output_type": "display_data"
    },
    {
     "name": "stdout",
     "output_type": "stream",
     "text": [
      "   Id        Model  Year ScreenSize   RAM        HDD  Volumne_cuIn  Weight  Weight_kg\n",
      "0   1  MacBook Pro  2015        15\"  16GB  512GB SSD          80.0    4.02       8.86\n",
      "1   2      MacBook  2016        12\"   8GB  256GB SSD          44.0    2.03       4.48\n",
      "2   3  MacBook Air  2016      13.3\"   8GB  128GB SSD          78.0    2.96       6.53\n",
      "3   4         iMac  2017        27\"  64GB    1TB SSD        4157.0   20.80      45.86"
     ]
    }
   ],
   "source": [
    "data_frame = data_frame.assign(Weight_kg=\n",
    "                               (data_frame['Weight'] / 0.453592).round(2))\n",
    "data_frame.head()"
   ]
  },
  {
   "cell_type": "markdown",
   "metadata": {},
   "source": [
    "### Handling Missing Values\n",
    "The `.fillna(...)` transformation fills in the missing values in a DataFrame. You can\n",
    "either specify a single value and all the missing values will be filled in with it, or you can\n",
    "pass a dictionary where each key is the name of the column, and the values are to fill the\n",
    "missing values in the corresponding column."
   ]
  },
  {
   "cell_type": "code",
   "execution_count": 30,
   "metadata": {
    "tags": []
   },
   "outputs": [
    {
     "data": {
      "application/vnd.jupyter.widget-view+json": {
       "model_id": "d9f45d513c5243838aa613e4b621e9b3",
       "version_major": 2,
       "version_minor": 0
      },
      "text/plain": [
       "VBox()"
      ]
     },
     "metadata": {},
     "output_type": "display_data"
    },
    {
     "data": {
      "application/vnd.jupyter.widget-view+json": {
       "model_id": "",
       "version_major": 2,
       "version_minor": 0
      },
      "text/plain": [
       "FloatProgress(value=0.0, bar_style='info', description='Progress:', layout=Layout(height='25px', width='50%'),…"
      ]
     },
     "metadata": {},
     "output_type": "display_data"
    },
    {
     "name": "stdout",
     "output_type": "stream",
     "text": [
      "     A     B     C\n",
      "0 -1.0  36.3  24.2\n",
      "1  1.6  32.1  27.9\n",
      "2  3.2  38.7  24.7\n",
      "3  2.8  -1.0  23.9\n",
      "4  3.9  34.1  27.9\n",
      "5  9.2  -1.0  -1.0"
     ]
    }
   ],
   "source": [
    "missing_df = ps.DataFrame([\n",
    "                        (None, 36.3, 24.2)\n",
    "                        , (1.6, 32.1, 27.9)\n",
    "                        , (3.2, 38.7, 24.7)\n",
    "                        , (2.8, None, 23.9)\n",
    "                        , (3.9, 34.1, 27.9)\n",
    "                        , (9.2, None, None)\n",
    "                        ], columns=['A', 'B', 'C'])\n",
    "missing_df.fillna(-1) # replace all missing values with -1"
   ]
  },
  {
   "cell_type": "code",
   "execution_count": 31,
   "metadata": {
    "tags": []
   },
   "outputs": [
    {
     "data": {
      "application/vnd.jupyter.widget-view+json": {
       "model_id": "2f62ea92c4f2458abd3ffe0b5edeff2c",
       "version_major": 2,
       "version_minor": 0
      },
      "text/plain": [
       "VBox()"
      ]
     },
     "metadata": {},
     "output_type": "display_data"
    },
    {
     "data": {
      "application/vnd.jupyter.widget-view+json": {
       "model_id": "",
       "version_major": 2,
       "version_minor": 0
      },
      "text/plain": [
       "FloatProgress(value=0.0, bar_style='info', description='Progress:', layout=Layout(height='25px', width='50%'),…"
      ]
     },
     "metadata": {},
     "output_type": "display_data"
    },
    {
     "name": "stdout",
     "output_type": "stream",
     "text": [
      "{'B': 35.300000000000004, 'C': 25.72, 'A': 4.14}"
     ]
    }
   ],
   "source": [
    "#replace null values with mean of each column\n",
    "miss_dict = missing_df.agg({'A':'mean', 'B':'mean', 'C':'mean'}).to_dict()\n",
    "miss_dict"
   ]
  },
  {
   "cell_type": "code",
   "execution_count": 32,
   "metadata": {
    "tags": []
   },
   "outputs": [
    {
     "data": {
      "application/vnd.jupyter.widget-view+json": {
       "model_id": "b691642d2c9f4aef8eec4ceeaf110761",
       "version_major": 2,
       "version_minor": 0
      },
      "text/plain": [
       "VBox()"
      ]
     },
     "metadata": {},
     "output_type": "display_data"
    },
    {
     "data": {
      "application/vnd.jupyter.widget-view+json": {
       "model_id": "",
       "version_major": 2,
       "version_minor": 0
      },
      "text/plain": [
       "FloatProgress(value=0.0, bar_style='info', description='Progress:', layout=Layout(height='25px', width='50%'),…"
      ]
     },
     "metadata": {},
     "output_type": "display_data"
    },
    {
     "name": "stdout",
     "output_type": "stream",
     "text": [
      "      A     B      C\n",
      "0  4.14  36.3  24.20\n",
      "1  1.60  32.1  27.90\n",
      "2  3.20  38.7  24.70\n",
      "3  2.80  35.3  23.90\n",
      "4  3.90  34.1  27.90\n",
      "5  9.20  35.3  25.72"
     ]
    }
   ],
   "source": [
    "missing_df.fillna(miss_dict)"
   ]
  },
  {
   "cell_type": "markdown",
   "metadata": {},
   "source": [
    "### .dropna(...) transformation\n",
    "The `.dropna(...)` transformation removes records that have missing values."
   ]
  },
  {
   "cell_type": "code",
   "execution_count": 33,
   "metadata": {
    "tags": []
   },
   "outputs": [
    {
     "data": {
      "application/vnd.jupyter.widget-view+json": {
       "model_id": "a4693f5e5162425f893f3c2142ef6f3f",
       "version_major": 2,
       "version_minor": 0
      },
      "text/plain": [
       "VBox()"
      ]
     },
     "metadata": {},
     "output_type": "display_data"
    },
    {
     "data": {
      "application/vnd.jupyter.widget-view+json": {
       "model_id": "",
       "version_major": 2,
       "version_minor": 0
      },
      "text/plain": [
       "FloatProgress(value=0.0, bar_style='info', description='Progress:', layout=Layout(height='25px', width='50%'),…"
      ]
     },
     "metadata": {},
     "output_type": "display_data"
    },
    {
     "name": "stdout",
     "output_type": "stream",
     "text": [
      "     A     B     C\n",
      "1  1.6  32.1  27.9\n",
      "2  3.2  38.7  24.7\n",
      "4  3.9  34.1  27.9"
     ]
    }
   ],
   "source": [
    "missing_df.dropna()"
   ]
  },
  {
   "cell_type": "code",
   "execution_count": 34,
   "metadata": {
    "tags": []
   },
   "outputs": [
    {
     "data": {
      "application/vnd.jupyter.widget-view+json": {
       "model_id": "25259c564cc84d7891480e78f5e08284",
       "version_major": 2,
       "version_minor": 0
      },
      "text/plain": [
       "VBox()"
      ]
     },
     "metadata": {},
     "output_type": "display_data"
    },
    {
     "data": {
      "application/vnd.jupyter.widget-view+json": {
       "model_id": "",
       "version_major": 2,
       "version_minor": 0
      },
      "text/plain": [
       "FloatProgress(value=0.0, bar_style='info', description='Progress:', layout=Layout(height='25px', width='50%'),…"
      ]
     },
     "metadata": {},
     "output_type": "display_data"
    },
    {
     "name": "stdout",
     "output_type": "stream",
     "text": [
      "     A     B     C\n",
      "0  NaN  36.3  24.2\n",
      "1  1.6  32.1  27.9\n",
      "2  3.2  38.7  24.7\n",
      "3  2.8   NaN  23.9\n",
      "4  3.9  34.1  27.9"
     ]
    }
   ],
   "source": [
    "#threshold is the number of non-null values to keep a record. Any record with fewer non-null values will be dropped\n",
    "missing_df.dropna(thresh=2)"
   ]
  },
  {
   "cell_type": "markdown",
   "metadata": {},
   "source": [
    "### .dropDuplicates(...) transformation\n",
    "The `.dropDuplicates(...)` transformation, as the name suggests, removes duplicated\n",
    "records. You can also specify a subset parameter as a list of column names; the method will\n",
    "remove duplicated records based on the values found in those columns."
   ]
  },
  {
   "cell_type": "code",
   "execution_count": 35,
   "metadata": {
    "tags": []
   },
   "outputs": [
    {
     "data": {
      "application/vnd.jupyter.widget-view+json": {
       "model_id": "973a399aecc64faeb5bbc236cd8146f1",
       "version_major": 2,
       "version_minor": 0
      },
      "text/plain": [
       "VBox()"
      ]
     },
     "metadata": {},
     "output_type": "display_data"
    },
    {
     "data": {
      "application/vnd.jupyter.widget-view+json": {
       "model_id": "",
       "version_major": 2,
       "version_minor": 0
      },
      "text/plain": [
       "FloatProgress(value=0.0, bar_style='info', description='Progress:', layout=Layout(height='25px', width='50%'),…"
      ]
     },
     "metadata": {},
     "output_type": "display_data"
    },
    {
     "name": "stdout",
     "output_type": "stream",
     "text": [
      "     A     B     C\n",
      "0  1.6  32.1  27.9\n",
      "1  3.2  38.7  24.7\n",
      "2  3.9  34.1  27.9"
     ]
    }
   ],
   "source": [
    "dupes_df = ps.DataFrame([\n",
    "        (1.6, 32.1, 27.9)\n",
    "        , (3.2, 38.7, 24.7)\n",
    "        , (3.9, 34.1, 27.9)\n",
    "        , (3.2, 38.7, 24.7)\n",
    "        ], columns=['A', 'B', 'C'])\n",
    "dupes_df.drop_duplicates()"
   ]
  },
  {
   "cell_type": "markdown",
   "metadata": {},
   "source": [
    "### The .describe() transformation\n",
    "The `.describe()` transformation produces descriptive statistics."
   ]
  },
  {
   "cell_type": "code",
   "execution_count": 36,
   "metadata": {
    "tags": []
   },
   "outputs": [
    {
     "data": {
      "application/vnd.jupyter.widget-view+json": {
       "model_id": "ca7fa480f4494e31abd4f7e36f40faea",
       "version_major": 2,
       "version_minor": 0
      },
      "text/plain": [
       "VBox()"
      ]
     },
     "metadata": {},
     "output_type": "display_data"
    },
    {
     "data": {
      "application/vnd.jupyter.widget-view+json": {
       "model_id": "",
       "version_major": 2,
       "version_minor": 0
      },
      "text/plain": [
       "FloatProgress(value=0.0, bar_style='info', description='Progress:', layout=Layout(height='25px', width='50%'),…"
      ]
     },
     "metadata": {},
     "output_type": "display_data"
    },
    {
     "name": "stdout",
     "output_type": "stream",
     "text": [
      "       Volumne_cuIn     Weight\n",
      "count      4.000000   4.000000\n",
      "mean    1089.750000   7.452500\n",
      "std     2044.900059   8.935395\n",
      "min       44.000000   2.030000\n",
      "25%       44.000000   2.030000\n",
      "50%       78.000000   2.960000\n",
      "75%       80.000000   4.020000\n",
      "max     4157.000000  20.800000"
     ]
    }
   ],
   "source": [
    "data_frame[['Volumne_cuIn', 'Weight']].describe()"
   ]
  },
  {
   "cell_type": "markdown",
   "metadata": {},
   "source": [
    "### The .freqItems(...) transformation\n",
    "The `.freqItems(...)` transformation returns a list of frequent items from a column. You\n",
    "can also specify a minSupport parameter that will throw away items that are below a\n",
    "certain threshold."
   ]
  },
  {
   "cell_type": "code",
   "execution_count": 37,
   "metadata": {
    "tags": []
   },
   "outputs": [
    {
     "data": {
      "application/vnd.jupyter.widget-view+json": {
       "model_id": "45aa701c977a4ac2bc391794cdb487e6",
       "version_major": 2,
       "version_minor": 0
      },
      "text/plain": [
       "VBox()"
      ]
     },
     "metadata": {},
     "output_type": "display_data"
    },
    {
     "data": {
      "application/vnd.jupyter.widget-view+json": {
       "model_id": "",
       "version_major": 2,
       "version_minor": 0
      },
      "text/plain": [
       "FloatProgress(value=0.0, bar_style='info', description='Progress:', layout=Layout(height='25px', width='50%'),…"
      ]
     },
     "metadata": {},
     "output_type": "display_data"
    },
    {
     "name": "stdout",
     "output_type": "stream",
     "text": [
      "+-------------+\n",
      "|RAM_freqItems|\n",
      "+-------------+\n",
      "|        [8GB]|\n",
      "+-------------+\n",
      "\n",
      "/mnt/yarn/usercache/livy/appcache/application_1718239785956_0001/container_1718239785956_0001_01_000001/pyspark.zip/pyspark/pandas/utils.py:975: PandasAPIOnSparkAdviceWarning: If `index_col` is not specified for `to_spark`, the existing index is lost when converting to Spark DataFrame.\n",
      "  warnings.warn(message, PandasAPIOnSparkAdviceWarning)"
     ]
    }
   ],
   "source": [
    "data_frame.to_spark().freqItems(['RAM'], .35).show()"
   ]
  },
  {
   "cell_type": "markdown",
   "metadata": {},
   "source": [
    "### The .value_counts() transformation\n",
    "The `.value_counts()` transformation returns a series containing the frequency of each distinct value in the series."
   ]
  },
  {
   "cell_type": "code",
   "execution_count": 38,
   "metadata": {
    "tags": []
   },
   "outputs": [
    {
     "data": {
      "application/vnd.jupyter.widget-view+json": {
       "model_id": "0eac6bddf91849299b9c8be2ac09217c",
       "version_major": 2,
       "version_minor": 0
      },
      "text/plain": [
       "VBox()"
      ]
     },
     "metadata": {},
     "output_type": "display_data"
    },
    {
     "data": {
      "application/vnd.jupyter.widget-view+json": {
       "model_id": "",
       "version_major": 2,
       "version_minor": 0
      },
      "text/plain": [
       "FloatProgress(value=0.0, bar_style='info', description='Progress:', layout=Layout(height='25px', width='50%'),…"
      ]
     },
     "metadata": {},
     "output_type": "display_data"
    },
    {
     "name": "stdout",
     "output_type": "stream",
     "text": [
      "2016    2\n",
      "2015    1\n",
      "2017    1\n",
      "Name: Year, dtype: int64"
     ]
    }
   ],
   "source": [
    "data_frame['Year'].value_counts()"
   ]
  },
  {
   "cell_type": "markdown",
   "metadata": {},
   "source": [
    "## DataFrame Actions"
   ]
  },
  {
   "cell_type": "code",
   "execution_count": 39,
   "metadata": {},
   "outputs": [
    {
     "data": {
      "application/vnd.jupyter.widget-view+json": {
       "model_id": "effc4b3e1d304a878a602afbaa7695f3",
       "version_major": 2,
       "version_minor": 0
      },
      "text/plain": [
       "VBox()"
      ]
     },
     "metadata": {},
     "output_type": "display_data"
    },
    {
     "data": {
      "application/vnd.jupyter.widget-view+json": {
       "model_id": "",
       "version_major": 2,
       "version_minor": 0
      },
      "text/plain": [
       "FloatProgress(value=0.0, bar_style='info', description='Progress:', layout=Layout(height='25px', width='50%'),…"
      ]
     },
     "metadata": {},
     "output_type": "display_data"
    },
    {
     "name": "stdout",
     "output_type": "stream",
     "text": [
      "(4, 9)"
     ]
    }
   ],
   "source": [
    "data_frame.shape"
   ]
  },
  {
   "cell_type": "markdown",
   "metadata": {},
   "source": [
    "All `Series` aggregations such as `.max()`."
   ]
  },
  {
   "cell_type": "code",
   "execution_count": 40,
   "metadata": {},
   "outputs": [
    {
     "data": {
      "application/vnd.jupyter.widget-view+json": {
       "model_id": "28b7475265644d798dee0db2b93befcc",
       "version_major": 2,
       "version_minor": 0
      },
      "text/plain": [
       "VBox()"
      ]
     },
     "metadata": {},
     "output_type": "display_data"
    },
    {
     "data": {
      "application/vnd.jupyter.widget-view+json": {
       "model_id": "",
       "version_major": 2,
       "version_minor": 0
      },
      "text/plain": [
       "FloatProgress(value=0.0, bar_style='info', description='Progress:', layout=Layout(height='25px', width='50%'),…"
      ]
     },
     "metadata": {},
     "output_type": "display_data"
    },
    {
     "name": "stdout",
     "output_type": "stream",
     "text": [
      "20.8"
     ]
    }
   ],
   "source": [
    "data_frame.Weight.max()"
   ]
  },
  {
   "cell_type": "markdown",
   "metadata": {},
   "source": [
    "## Best Practices\n",
    "### Avoid shuffling\n",
    "Some operations such as `sort_values` are more difficult to do in a parallel or distributed environment than in in-memory on a single machine because it needs to send data to other nodes, and exchange the data across multiple nodes via networks.\n",
    "### Avoid reserved column names\n",
    "Columns with `leading __` and `trailing __` are reserved in pandas API on Spark. To handle internal behaviors for, such as, index, pandas API on Spark uses some internal columns. Therefore, it is discouraged to use such column names and they are not guaranteed to work.\n",
    "### Do not use duplicated column names\n",
    "It is disallowed to use duplicated column names because `Spark SQL` does not allow this in general.\n",
    "### Reduce the operations on different DataFrame/Series\n",
    "Pandas API on Spark disallows the operations on different DataFrames (or Series) by default to prevent expensive operations. It internally performs a `join` operation which can be expensive in general, which is discouraged. Whenever possible, this operation should be avoided.\n",
    "### Use pandas API on Spark directly whenever possible\n",
    "Do not use built-in `min` and `max` functions."
   ]
  },
  {
   "cell_type": "code",
   "execution_count": 41,
   "metadata": {},
   "outputs": [
    {
     "data": {
      "application/vnd.jupyter.widget-view+json": {
       "model_id": "ca2e948b8a784bae829e19a630a395b9",
       "version_major": 2,
       "version_minor": 0
      },
      "text/plain": [
       "VBox()"
      ]
     },
     "metadata": {},
     "output_type": "display_data"
    },
    {
     "data": {
      "application/vnd.jupyter.widget-view+json": {
       "model_id": "",
       "version_major": 2,
       "version_minor": 0
      },
      "text/plain": [
       "FloatProgress(value=0.0, bar_style='info', description='Progress:', layout=Layout(height='25px', width='50%'),…"
      ]
     },
     "metadata": {},
     "output_type": "display_data"
    },
    {
     "name": "stderr",
     "output_type": "stream",
     "text": [
      "An error was encountered:\n",
      "The method `pd.Series.__iter__()` is not implemented. If you want to collect your data as an NumPy array, use 'to_numpy()' instead.\n",
      "Traceback (most recent call last):\n",
      "  File \"/mnt/yarn/usercache/livy/appcache/application_1718239785956_0001/container_1718239785956_0001_01_000001/pyspark.zip/pyspark/pandas/series.py\", line 7339, in __iter__\n",
      "    return MissingPandasLikeSeries.__iter__(self)\n",
      "  File \"/mnt/yarn/usercache/livy/appcache/application_1718239785956_0001/container_1718239785956_0001_01_000001/pyspark.zip/pyspark/pandas/missing/__init__.py\", line 24, in unsupported_function\n",
      "    class_name=class_name, method_name=method_name, reason=reason\n",
      "pyspark.pandas.exceptions.PandasNotImplementedError: The method `pd.Series.__iter__()` is not implemented. If you want to collect your data as an NumPy array, use 'to_numpy()' instead.\n",
      "\n"
     ]
    }
   ],
   "source": [
    "max(data_frame.Weight) #not allowed"
   ]
  },
  {
   "cell_type": "code",
   "execution_count": 42,
   "metadata": {},
   "outputs": [
    {
     "data": {
      "application/vnd.jupyter.widget-view+json": {
       "model_id": "098d65f54ee048e988b4b0e52f42dd02",
       "version_major": 2,
       "version_minor": 0
      },
      "text/plain": [
       "VBox()"
      ]
     },
     "metadata": {},
     "output_type": "display_data"
    },
    {
     "data": {
      "application/vnd.jupyter.widget-view+json": {
       "model_id": "",
       "version_major": 2,
       "version_minor": 0
      },
      "text/plain": [
       "FloatProgress(value=0.0, bar_style='info', description='Progress:', layout=Layout(height='25px', width='50%'),…"
      ]
     },
     "metadata": {},
     "output_type": "display_data"
    },
    {
     "name": "stdout",
     "output_type": "stream",
     "text": [
      "20.8"
     ]
    }
   ],
   "source": [
    "data_frame.Weight.max() # allowed"
   ]
  },
  {
   "cell_type": "markdown",
   "metadata": {},
   "source": [
    "### Check execution plans (advanced level)\n",
    "Expensive operations can be predicted by leveraging `DataFrame.spark.explain()` function before the actual computation since pandas API on Spark is based on lazy execution."
   ]
  },
  {
   "cell_type": "code",
   "execution_count": 43,
   "metadata": {},
   "outputs": [
    {
     "data": {
      "application/vnd.jupyter.widget-view+json": {
       "model_id": "23b11f689d8f4efbbe25c2fd19a97dc9",
       "version_major": 2,
       "version_minor": 0
      },
      "text/plain": [
       "VBox()"
      ]
     },
     "metadata": {},
     "output_type": "display_data"
    },
    {
     "data": {
      "application/vnd.jupyter.widget-view+json": {
       "model_id": "",
       "version_major": 2,
       "version_minor": 0
      },
      "text/plain": [
       "FloatProgress(value=0.0, bar_style='info', description='Progress:', layout=Layout(height='25px', width='50%'),…"
      ]
     },
     "metadata": {},
     "output_type": "display_data"
    },
    {
     "name": "stdout",
     "output_type": "stream",
     "text": [
      "== Physical Plan ==\n",
      "AdaptiveSparkPlan isFinalPlan=false\n",
      "+- Project [CASE WHEN (summary#3640 = stddev) THEN std ELSE summary#3640 END AS summary#3650, cast(element_at(Volumne_cuIn#3603, summary#3640, None, false) as double) AS Volumne_cuIn#3662, cast(element_at(Weight#3618, summary#3640, None, false) as double) AS Weight#3664]\n",
      "   +- Generate explode([count,mean,stddev,min,25%,50%,75%,max]), [Volumne_cuIn#3603, Weight#3618], false, [summary#3640]\n",
      "      +- ObjectHashAggregate(keys=[], functions=[count(Volumne_cuIn#3585), avg(Volumne_cuIn#3585), stddev_samp(Volumne_cuIn#3585), min(Volumne_cuIn#3585), percentile_approx(Volumne_cuIn#3585, [0.25,0.5,0.75], 10000, 0, 0), max(Volumne_cuIn#3585), count(Weight#3586), avg(Weight#3586), stddev_samp(Weight#3586), min(Weight#3586), percentile_approx(Weight#3586, [0.25,0.5,0.75], 10000, 0, 0), max(Weight#3586)])\n",
      "         +- Exchange SinglePartition, ENSURE_REQUIREMENTS, [plan_id=2101]\n",
      "            +- ObjectHashAggregate(keys=[], functions=[partial_count(Volumne_cuIn#3585), partial_avg(Volumne_cuIn#3585), partial_stddev_samp(Volumne_cuIn#3585), partial_min(Volumne_cuIn#3585), partial_percentile_approx(Volumne_cuIn#3585, [0.25,0.5,0.75], 10000, 0, 0), partial_max(Volumne_cuIn#3585), partial_count(Weight#3586), partial_avg(Weight#3586), partial_stddev_samp(Weight#3586), partial_min(Weight#3586), partial_percentile_approx(Weight#3586, [0.25,0.5,0.75], 10000, 0, 0), partial_max(Weight#3586)])\n",
      "               +- Project [nanvl(round(((H#1301 * D#1300) * W#1299), 0), null) AS Volumne_cuIn#3585, nanvl(Weight#1302, null) AS Weight#3586]\n",
      "                  +- FileScan csv [W#1299,D#1300,H#1301,Weight#1302] Batched: false, DataFilters: [], Format: CSV, Location: InMemoryFileIndex(1 paths)[s3://cis4567-salehan/Spark/Data/DataFrames_sample.csv], PartitionFilters: [], PushedFilters: [], ReadSchema: struct<W:double,D:double,H:double,Weight:double>"
     ]
    }
   ],
   "source": [
    "test_explain_df = data_frame[['Volumne_cuIn', 'Weight']].describe()\n",
    "test_explain_df.spark.explain()"
   ]
  },
  {
   "cell_type": "markdown",
   "metadata": {},
   "source": [
    "## Types of DataFrames in Spark"
   ]
  },
  {
   "attachments": {
    "spark_df.png": {
     "image/png": "[encoded data removed]"
    }
   },
   "cell_type": "markdown",
   "metadata": {},
   "source": [
    "![spark_df.png](attachment:spark_df.png)"
   ]
  },
  {
   "cell_type": "markdown",
   "metadata": {},
   "source": [
    "### Converting different types of dataframes to eachother\n",
    "Each of the 3 types of dataframes can be converted to each other. Use with caution since Pandas dataframes are not distributed."
   ]
  },
  {
   "cell_type": "code",
   "execution_count": 44,
   "metadata": {},
   "outputs": [
    {
     "data": {
      "application/vnd.jupyter.widget-view+json": {
       "model_id": "4899aee665ac480ab905f4c4ce801aa6",
       "version_major": 2,
       "version_minor": 0
      },
      "text/plain": [
       "VBox()"
      ]
     },
     "metadata": {},
     "output_type": "display_data"
    },
    {
     "data": {
      "application/vnd.jupyter.widget-view+json": {
       "model_id": "",
       "version_major": 2,
       "version_minor": 0
      },
      "text/plain": [
       "FloatProgress(value=0.0, bar_style='info', description='Progress:', layout=Layout(height='25px', width='50%'),…"
      ]
     },
     "metadata": {},
     "output_type": "display_data"
    },
    {
     "name": "stdout",
     "output_type": "stream",
     "text": [
      "+---+-----------+----+----------+----+---------+------------+------+---------+\n",
      "| Id|      Model|Year|ScreenSize| RAM|      HDD|Volumne_cuIn|Weight|Weight_kg|\n",
      "+---+-----------+----+----------+----+---------+------------+------+---------+\n",
      "|  1|MacBook Pro|2015|       15\"|16GB|512GB SSD|        80.0|  4.02|     8.86|\n",
      "|  2|    MacBook|2016|       12\"| 8GB|256GB SSD|        44.0|  2.03|     4.48|\n",
      "|  3|MacBook Air|2016|     13.3\"| 8GB|128GB SSD|        78.0|  2.96|     6.53|\n",
      "|  4|       iMac|2017|       27\"|64GB|  1TB SSD|      4157.0|  20.8|    45.86|\n",
      "+---+-----------+----+----------+----+---------+------------+------+---------+\n",
      "\n",
      "/mnt/yarn/usercache/livy/appcache/application_1718239785956_0001/container_1718239785956_0001_01_000001/pyspark.zip/pyspark/pandas/utils.py:975: PandasAPIOnSparkAdviceWarning: If `index_col` is not specified for `to_spark`, the existing index is lost when converting to Spark DataFrame.\n",
      "  warnings.warn(message, PandasAPIOnSparkAdviceWarning)"
     ]
    }
   ],
   "source": [
    "# pandas_on_spark to spark\n",
    "spark_pandas_api_df = data_frame\n",
    "spark_df = spark_pandas_api_df.to_spark()\n",
    "spark_df.show()"
   ]
  },
  {
   "cell_type": "code",
   "execution_count": 45,
   "metadata": {},
   "outputs": [
    {
     "data": {
      "application/vnd.jupyter.widget-view+json": {
       "model_id": "4eb56098859c431994fbf3478b5c4aaf",
       "version_major": 2,
       "version_minor": 0
      },
      "text/plain": [
       "VBox()"
      ]
     },
     "metadata": {},
     "output_type": "display_data"
    },
    {
     "data": {
      "application/vnd.jupyter.widget-view+json": {
       "model_id": "",
       "version_major": 2,
       "version_minor": 0
      },
      "text/plain": [
       "FloatProgress(value=0.0, bar_style='info', description='Progress:', layout=Layout(height='25px', width='50%'),…"
      ]
     },
     "metadata": {},
     "output_type": "display_data"
    },
    {
     "name": "stdout",
     "output_type": "stream",
     "text": [
      "+------------+------+\n",
      "|Volumne_cuIn|Weight|\n",
      "+------------+------+\n",
      "|        80.0|  4.02|\n",
      "|        44.0|  2.03|\n",
      "|        78.0|  2.96|\n",
      "|      4157.0|  20.8|\n",
      "+------------+------+"
     ]
    }
   ],
   "source": [
    "#Spark API has a different synatx than Pandas API. For example, this is how you slice columns with Spark API.\n",
    "spark_df.select('Volumne_cuIn', 'Weight').show()"
   ]
  },
  {
   "cell_type": "code",
   "execution_count": 46,
   "metadata": {},
   "outputs": [
    {
     "data": {
      "application/vnd.jupyter.widget-view+json": {
       "model_id": "1ff7bece947947aba47a3f2003edbe74",
       "version_major": 2,
       "version_minor": 0
      },
      "text/plain": [
       "VBox()"
      ]
     },
     "metadata": {},
     "output_type": "display_data"
    },
    {
     "data": {
      "application/vnd.jupyter.widget-view+json": {
       "model_id": "",
       "version_major": 2,
       "version_minor": 0
      },
      "text/plain": [
       "FloatProgress(value=0.0, bar_style='info', description='Progress:', layout=Layout(height='25px', width='50%'),…"
      ]
     },
     "metadata": {},
     "output_type": "display_data"
    },
    {
     "name": "stdout",
     "output_type": "stream",
     "text": [
      "   Id        Model  Year ScreenSize   RAM        HDD  Volumne_cuIn  Weight  Weight_kg\n",
      "0   1  MacBook Pro  2015        15\"  16GB  512GB SSD          80.0    4.02       8.86\n",
      "1   2      MacBook  2016        12\"   8GB  256GB SSD          44.0    2.03       4.48\n",
      "2   3  MacBook Air  2016      13.3\"   8GB  128GB SSD          78.0    2.96       6.53\n",
      "3   4         iMac  2017        27\"  64GB    1TB SSD        4157.0   20.80      45.86"
     ]
    }
   ],
   "source": [
    "# spark to pandas_on_spark\n",
    "spark_df.pandas_api()"
   ]
  },
  {
   "cell_type": "code",
   "execution_count": 47,
   "metadata": {},
   "outputs": [
    {
     "data": {
      "application/vnd.jupyter.widget-view+json": {
       "model_id": "e05c5a3e19e741e0976e355841d4e1b6",
       "version_major": 2,
       "version_minor": 0
      },
      "text/plain": [
       "VBox()"
      ]
     },
     "metadata": {},
     "output_type": "display_data"
    },
    {
     "data": {
      "application/vnd.jupyter.widget-view+json": {
       "model_id": "",
       "version_major": 2,
       "version_minor": 0
      },
      "text/plain": [
       "FloatProgress(value=0.0, bar_style='info', description='Progress:', layout=Layout(height='25px', width='50%'),…"
      ]
     },
     "metadata": {},
     "output_type": "display_data"
    },
    {
     "name": "stdout",
     "output_type": "stream",
     "text": [
      "   Id        Model  Year ScreenSize  ...        HDD Volumne_cuIn  Weight  Weight_kg\n",
      "0   1  MacBook Pro  2015        15\"  ...  512GB SSD         80.0    4.02       8.86\n",
      "1   2      MacBook  2016        12\"  ...  256GB SSD         44.0    2.03       4.48\n",
      "2   3  MacBook Air  2016      13.3\"  ...  128GB SSD         78.0    2.96       6.53\n",
      "3   4         iMac  2017        27\"  ...    1TB SSD       4157.0   20.80      45.86\n",
      "\n",
      "[4 rows x 9 columns]"
     ]
    }
   ],
   "source": [
    "# spark to pandas\n",
    "pandas_df = spark_df.toPandas()\n",
    "pandas_df"
   ]
  },
  {
   "cell_type": "code",
   "execution_count": 48,
   "metadata": {},
   "outputs": [
    {
     "data": {
      "application/vnd.jupyter.widget-view+json": {
       "model_id": "3c6966dbd08e4d39b39ebd98c864c427",
       "version_major": 2,
       "version_minor": 0
      },
      "text/plain": [
       "VBox()"
      ]
     },
     "metadata": {},
     "output_type": "display_data"
    },
    {
     "data": {
      "application/vnd.jupyter.widget-view+json": {
       "model_id": "",
       "version_major": 2,
       "version_minor": 0
      },
      "text/plain": [
       "FloatProgress(value=0.0, bar_style='info', description='Progress:', layout=Layout(height='25px', width='50%'),…"
      ]
     },
     "metadata": {},
     "output_type": "display_data"
    },
    {
     "name": "stdout",
     "output_type": "stream",
     "text": [
      "   Id        Model  Year ScreenSize  ...        HDD Volumne_cuIn  Weight  Weight_kg\n",
      "0   1  MacBook Pro  2015        15\"  ...  512GB SSD         80.0    4.02       8.86\n",
      "1   2      MacBook  2016        12\"  ...  256GB SSD         44.0    2.03       4.48\n",
      "2   3  MacBook Air  2016      13.3\"  ...  128GB SSD         78.0    2.96       6.53\n",
      "3   4         iMac  2017        27\"  ...    1TB SSD       4157.0   20.80      45.86\n",
      "\n",
      "[4 rows x 9 columns]\n",
      "/mnt/yarn/usercache/livy/appcache/application_1718239785956_0001/container_1718239785956_0001_01_000001/pyspark.zip/pyspark/pandas/utils.py:975: PandasAPIOnSparkAdviceWarning: `to_pandas` loads all data into the driver's memory. It should only be used if the resulting pandas DataFrame is expected to be small.\n",
      "  warnings.warn(message, PandasAPIOnSparkAdviceWarning)"
     ]
    }
   ],
   "source": [
    "# pandas_on_spark to pandas\n",
    "pandas_df = spark_pandas_api_df.to_pandas()\n",
    "pandas_df"
   ]
  },
  {
   "cell_type": "code",
   "execution_count": 49,
   "metadata": {},
   "outputs": [
    {
     "data": {
      "application/vnd.jupyter.widget-view+json": {
       "model_id": "bb083c7ddfb245cc97f6e075ce68bb7d",
       "version_major": 2,
       "version_minor": 0
      },
      "text/plain": [
       "VBox()"
      ]
     },
     "metadata": {},
     "output_type": "display_data"
    },
    {
     "data": {
      "application/vnd.jupyter.widget-view+json": {
       "model_id": "",
       "version_major": 2,
       "version_minor": 0
      },
      "text/plain": [
       "FloatProgress(value=0.0, bar_style='info', description='Progress:', layout=Layout(height='25px', width='50%'),…"
      ]
     },
     "metadata": {},
     "output_type": "display_data"
    },
    {
     "name": "stdout",
     "output_type": "stream",
     "text": [
      "   Id        Model  Year ScreenSize   RAM        HDD  Volumne_cuIn  Weight  Weight_kg\n",
      "0   1  MacBook Pro  2015        15\"  16GB  512GB SSD          80.0    4.02       8.86\n",
      "1   2      MacBook  2016        12\"   8GB  256GB SSD          44.0    2.03       4.48\n",
      "2   3  MacBook Air  2016      13.3\"   8GB  128GB SSD          78.0    2.96       6.53\n",
      "3   4         iMac  2017        27\"  64GB    1TB SSD        4157.0   20.80      45.86"
     ]
    }
   ],
   "source": [
    "# pandas to pandas_on_spark\n",
    "ps.from_pandas(pandas_df)"
   ]
  },
  {
   "cell_type": "code",
   "execution_count": 50,
   "metadata": {},
   "outputs": [
    {
     "data": {
      "application/vnd.jupyter.widget-view+json": {
       "model_id": "58bbeb5d226d4bebae610194ac16bd02",
       "version_major": 2,
       "version_minor": 0
      },
      "text/plain": [
       "VBox()"
      ]
     },
     "metadata": {},
     "output_type": "display_data"
    },
    {
     "data": {
      "application/vnd.jupyter.widget-view+json": {
       "model_id": "",
       "version_major": 2,
       "version_minor": 0
      },
      "text/plain": [
       "FloatProgress(value=0.0, bar_style='info', description='Progress:', layout=Layout(height='25px', width='50%'),…"
      ]
     },
     "metadata": {},
     "output_type": "display_data"
    },
    {
     "name": "stdout",
     "output_type": "stream",
     "text": [
      "+---+-----------+----+----------+----+---------+------------+------+---------+\n",
      "| Id|      Model|Year|ScreenSize| RAM|      HDD|Volumne_cuIn|Weight|Weight_kg|\n",
      "+---+-----------+----+----------+----+---------+------------+------+---------+\n",
      "|  1|MacBook Pro|2015|       15\"|16GB|512GB SSD|        80.0|  4.02|     8.86|\n",
      "|  2|    MacBook|2016|       12\"| 8GB|256GB SSD|        44.0|  2.03|     4.48|\n",
      "|  3|MacBook Air|2016|     13.3\"| 8GB|128GB SSD|        78.0|  2.96|     6.53|\n",
      "|  4|       iMac|2017|       27\"|64GB|  1TB SSD|      4157.0|  20.8|    45.86|\n",
      "+---+-----------+----+----------+----+---------+------------+------+---------+"
     ]
    }
   ],
   "source": [
    "# pandas to spark\n",
    "spark_df = spark.createDataFrame(pandas_df)\n",
    "spark_df.show()"
   ]
  },
  {
   "cell_type": "markdown",
   "metadata": {},
   "source": [
    "## Cell magics"
   ]
  },
  {
   "cell_type": "code",
   "execution_count": 51,
   "metadata": {},
   "outputs": [
    {
     "data": {
      "application/vnd.jupyter.widget-view+json": {
       "model_id": "",
       "version_major": 2,
       "version_minor": 0
      },
      "text/plain": [
       "FloatProgress(value=0.0, bar_style='info', description='Progress:', layout=Layout(height='25px', width='50%'),…"
      ]
     },
     "metadata": {},
     "output_type": "display_data"
    },
    {
     "data": {
      "text/html": [
       "<table><tr><th>Id</th><th>Model</th><th>Year</th><th>ScreenSize</th><th>RAM</th><th>HDD</th><th>Volumne_cuIn</th><th>Weight</th><th>Weight_kg</th></tr><tr><td>1</td><td>MacBook Pro</td><td>2015</td><td>15\"</td><td>16GB</td><td>512GB SSD</td><td>80.0</td><td>4.02</td><td>8.86</td></tr><tr><td>2</td><td>MacBook</td><td>2016</td><td>12\"</td><td>8GB</td><td>256GB SSD</td><td>44.0</td><td>2.03</td><td>4.48</td></tr><tr><td>3</td><td>MacBook Air</td><td>2016</td><td>13.3\"</td><td>8GB</td><td>128GB SSD</td><td>78.0</td><td>2.96</td><td>6.53</td></tr><tr><td>4</td><td>iMac</td><td>2017</td><td>27\"</td><td>64GB</td><td>1TB SSD</td><td>4157.0</td><td>20.8</td><td>45.86</td></tr></table><br /><pre>/mnt/yarn/usercache/livy/appcache/application_1718239785956_0001/container_1718239785956_0001_01_000001/pyspark.zip/pyspark/pandas/utils.py:975: PandasAPIOnSparkAdviceWarning: If `index_col` is not specified for `to_spark`, the existing index is lost when converting to Spark DataFrame.\n",
       "  warnings.warn(message, PandasAPIOnSparkAdviceWarning)</pre>"
      ],
      "text/plain": [
       "<IPython.core.display.HTML object>"
      ]
     },
     "metadata": {},
     "output_type": "display_data"
    }
   ],
   "source": [
    "%%pretty\n",
    "data_frame_spark = data_frame.to_spark()\n",
    "data_frame_spark.show()"
   ]
  },
  {
   "cell_type": "code",
   "execution_count": 52,
   "metadata": {},
   "outputs": [
    {
     "data": {
      "application/vnd.jupyter.widget-view+json": {
       "model_id": "",
       "version_major": 2,
       "version_minor": 0
      },
      "text/plain": [
       "FloatProgress(value=0.0, bar_style='info', description='Progress:', layout=Layout(height='25px', width='50%'),…"
      ]
     },
     "metadata": {},
     "output_type": "display_data"
    },
    {
     "data": {
      "text/html": [
       "<style>.jp-OutputArea-child .jupyter-widgets.jp-OutputArea-output { overflow: auto; }</style>"
      ],
      "text/plain": [
       "<IPython.core.display.HTML object>"
      ]
     },
     "metadata": {},
     "output_type": "display_data"
    },
    {
     "data": {
      "application/vnd.jupyter.widget-view+json": {
       "model_id": "d9e252d7e21f42be881e0a5b75c46288",
       "version_major": 2,
       "version_minor": 0
      },
      "text/plain": [
       "VBox(children=(HBox(children=(HTML(value='Type:'), Button(description='Table', layout=Layout(width='70px'), st…"
      ]
     },
     "metadata": {},
     "output_type": "display_data"
    },
    {
     "data": {
      "application/vnd.jupyter.widget-view+json": {
       "model_id": "721ad06471a444699ffc2f62f3e79a79",
       "version_major": 2,
       "version_minor": 0
      },
      "text/plain": [
       "Output()"
      ]
     },
     "metadata": {},
     "output_type": "display_data"
    }
   ],
   "source": [
    "%%display\n",
    "data_frame_spark"
   ]
  },
  {
   "cell_type": "code",
   "execution_count": null,
   "metadata": {},
   "outputs": [],
   "source": []
  }
 ],
 "metadata": {
  "kernelspec": {
   "display_name": "PySpark",
   "language": "python",
   "name": "pysparkkernel"
  },
  "language_info": {
   "codemirror_mode": {
    "name": "python",
    "version": 3
   },
   "file_extension": ".py",
   "mimetype": "text/x-python",
   "name": "pyspark",
   "pygments_lexer": "python3"
  }
 },
 "nbformat": 4,
 "nbformat_minor": 4
}
