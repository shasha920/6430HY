{
 "cells": [
  {
   "cell_type": "markdown",
   "metadata": {},
   "source": [
    "# GBA 6430 - Big Data Technology in Business\n",
    "# Dr. Mohammad Salehan\n",
    "# Graph Mining"
   ]
  },
  {
   "cell_type": "markdown",
   "metadata": {},
   "source": [
    "This notebook provides an analysis of On-Time Flight Performance and Departure Delays data using GraphFrames for Apache Spark.\n",
    "\n",
    "Original Source: [Blog](https://databricks.com/blog/2016/03/16/on-time-flight-performance-with-graphframes-for-apache-spark.html) | [Notebook](https://go.databricks.com/hubfs/notebooks/Samples/Miscellaneous/On-Time_Flight_Performance.html)\n",
    "\n",
    "Source Data: \n",
    "* [OpenFlights: Airport, airline and route data](http://openflights.org/data.html)\n",
    "* [United States Department of Transportation: Bureau of Transportation Statistics (TranStats)](http://www.transtats.bts.gov/DL_SelectFields.asp?Table_ID=236&DB_Short_Name=On-Time)\n",
    " * Note, the data used here was extracted from the US DOT:BTS between 1/1/2014 and 3/31/2014*\n",
    "\n",
    "References:\n",
    "* [GraphFrames User Guide](http://graphframes.github.io/user-guide.html)\n",
    "* [GraphFrames: DataFrame-based Graphs (GitHub)](https://github.com/graphframes/graphframes)\n",
    "* [D3 Airports Example](http://mbostock.github.io/d3/talk/20111116/airports.html)<br><br>\n",
    "A Graph is a pair G = (V, E), where V is a set whose elements are called vertices (singular: vertex), and E is a set of two-sets (sets with two distinct elements) of vertices, whose elements are called edges (sometimes links or lines).\n",
    "<img src='https://miro.medium.com/max/703/1*ooL6ZkubiKjDO9-yqOd3jg.jpeg'><br>\n",
    "Code is adopted from <a href='https://resources.oreilly.com/examples/0636920233145'>O'Reilly Media, Inc.</a>"
   ]
  },
  {
   "cell_type": "markdown",
   "metadata": {},
   "source": [
    "## Attention: make sure you entered the correct software settings for GraphFrames when creating your cluster."
   ]
  },
  {
   "cell_type": "code",
   "execution_count": 1,
   "metadata": {
    "tags": []
   },
   "outputs": [
    {
     "data": {
      "application/vnd.jupyter.widget-view+json": {
       "model_id": "02635eec7d7a4444814fc23aa5d3ded7",
       "version_major": 2,
       "version_minor": 0
      },
      "text/plain": [
       "VBox()"
      ]
     },
     "metadata": {},
     "output_type": "display_data"
    },
    {
     "name": "stdout",
     "output_type": "stream",
     "text": [
      "Starting Spark application\n"
     ]
    },
    {
     "data": {
      "text/html": [
       "<table>\n",
       "<tr><th>ID</th><th>YARN Application ID</th><th>Kind</th><th>State</th><th>Spark UI</th><th>Driver log</th><th>User</th><th>Current session?</th></tr><tr><td>6</td><td>application_1721017390557_0007</td><td>pyspark</td><td>idle</td><td><a target=\"_blank\" href=\"http://ip-172-31-11-246.ec2.internal:20888/proxy/application_1721017390557_0007/\" class=\"emr-proxy-link\" emr-resource=\"j-91AWVAERTS5K\n",
       "\" application-id=\"application_1721017390557_0007\">Link</a></td><td><a target=\"_blank\" href=\"http://ip-172-31-12-188.ec2.internal:8042/node/containerlogs/container_1721017390557_0007_01_000001/livy\" >Link</a></td><td>None</td><td>✔</td></tr></table>"
      ],
      "text/plain": [
       "<IPython.core.display.HTML object>"
      ]
     },
     "metadata": {},
     "output_type": "display_data"
    },
    {
     "data": {
      "application/vnd.jupyter.widget-view+json": {
       "model_id": "",
       "version_major": 2,
       "version_minor": 0
      },
      "text/plain": [
       "FloatProgress(value=0.0, bar_style='info', description='Progress:', layout=Layout(height='25px', width='50%'),…"
      ]
     },
     "metadata": {},
     "output_type": "display_data"
    },
    {
     "name": "stdout",
     "output_type": "stream",
     "text": [
      "SparkSession available as 'spark'.\n"
     ]
    },
    {
     "data": {
      "application/vnd.jupyter.widget-view+json": {
       "model_id": "",
       "version_major": 2,
       "version_minor": 0
      },
      "text/plain": [
       "FloatProgress(value=0.0, bar_style='info', description='Progress:', layout=Layout(height='25px', width='50%'),…"
      ]
     },
     "metadata": {},
     "output_type": "display_data"
    },
    {
     "name": "stdout",
     "output_type": "stream",
     "text": [
      "/mnt1/yarn/usercache/livy/appcache/application_1721017390557_0007/container_1721017390557_0007_01_000001/pyspark.zip/pyspark/pandas/__init__.py:51: UserWarning: 'PYARROW_IGNORE_TIMEZONE' environment variable was not set. It is required to set this environment variable to '1' in both driver and executor sides if you use pyarrow>=2.0.0. pandas-on-Spark will set it for you but it does not work if there is a Spark context already launched."
     ]
    }
   ],
   "source": [
    "from graphframes import *\n",
    "import pyspark.sql.functions as F\n",
    "from pyspark.sql.types import *\n",
    "import matplotlib.pyplot as plt\n",
    "import pyspark.pandas as ps\n",
    "ps.set_option('plotting.backend', 'matplotlib')"
   ]
  },
  {
   "cell_type": "markdown",
   "metadata": {},
   "source": [
    "## Building the Graph\n",
    "Now that we've imported our data, we're going to need to build our graph. To do so we're going to do two things. We are going to build the structure of the vertices (or nodes) and we're going to build the structure of the edges. What's awesome about GraphFrames is that this process is incredibly simple. "
   ]
  },
  {
   "cell_type": "code",
   "execution_count": 2,
   "metadata": {
    "tags": []
   },
   "outputs": [
    {
     "data": {
      "application/vnd.jupyter.widget-view+json": {
       "model_id": "70d6ae76191e47bf9089c9cfab3bb965",
       "version_major": 2,
       "version_minor": 0
      },
      "text/plain": [
       "VBox()"
      ]
     },
     "metadata": {},
     "output_type": "display_data"
    },
    {
     "data": {
      "application/vnd.jupyter.widget-view+json": {
       "model_id": "",
       "version_major": 2,
       "version_minor": 0
      },
      "text/plain": [
       "FloatProgress(value=0.0, bar_style='info', description='Progress:', layout=Layout(height='25px', width='50%'),…"
      ]
     },
     "metadata": {},
     "output_type": "display_data"
    },
    {
     "name": "stdout",
     "output_type": "stream",
     "text": [
      "/mnt1/yarn/usercache/livy/appcache/application_1721017390557_0007/container_1721017390557_0007_01_000001/pyspark.zip/pyspark/pandas/utils.py:975: PandasAPIOnSparkAdviceWarning: If `index_col` is not specified for `read_csv`, the default index is attached which can cause additional overhead."
     ]
    }
   ],
   "source": [
    "# Loading data and transforming\n",
    "tripdelaysFilePath = \"s3://cis4567-salehan/Data/Graphs/896161936_T_ONTIME_REPORTING.csv\"\n",
    "airportsnaFilePath = \"s3://cis4567-salehan/Data/Graphs/airports.csv\"\n",
    "\n",
    "nodes = ps.read_csv(airportsnaFilePath, header=None)\n",
    "cleaned_nodes = nodes[nodes[3] == 'United States'][[1, 4, 6, 7]]\\\n",
    "    .rename(columns = {1 : \"name\", 4 : \"id\", 6: \"latitude\", 7 : \"longitude\"})\n",
    "cleaned_nodes = cleaned_nodes[cleaned_nodes[\"id\"] != \"\\\\N\"]\n",
    "relationships = ps.read_csv(tripdelaysFilePath)\n",
    "cleaned_relationships = relationships[[\n",
    "    \"ORIGIN\", \"DEST\", \"FL_DATE\", \"DEP_DELAY\",\n",
    "    \"ARR_DELAY\", \"DISTANCE\", \"TAIL_NUM\", \"OP_CARRIER_FL_NUM\",\n",
    "    \"CRS_DEP_TIME\", \"CRS_ARR_TIME\",\n",
    "    \"OP_UNIQUE_CARRIER\"]].rename(columns={\n",
    "    \"ORIGIN\" : \"src\", \"DEST\" : \"dst\", \"DEP_DELAY\" : \"deptDelay\",\n",
    "    \"ARR_DELAY\" : \"arrDelay\", \"TAIL_NUM\" : \"tailNumber\",\n",
    "    \"OP_CARRIER_FL_NUM\" : \"flightNumber\", \"FL_DATE\" : \"date\",\n",
    "    \"CRS_DEP_TIME\" : \"time\", \"CRS_ARR_TIME\" : \"arrivalTime\",\n",
    "    \"DISTANCE\" : \"distance\", \"OP_UNIQUE_CARRIER\" : \"airline\"})\n",
    "cleaned_relationships[\"deptDelay\"] = cleaned_relationships[\"deptDelay\"].astype(float)\n",
    "cleaned_relationships[\"arrDelay\"] = cleaned_relationships[\"arrDelay\"].astype(float)\n",
    "cleaned_relationships[\"time\"] = cleaned_relationships[\"time\"].astype(int)\n",
    "cleaned_relationships[\"arrivalTime\"] = cleaned_relationships[\"arrivalTime\"].astype(int)"
   ]
  },
  {
   "cell_type": "code",
   "execution_count": 3,
   "metadata": {
    "tags": []
   },
   "outputs": [
    {
     "data": {
      "application/vnd.jupyter.widget-view+json": {
       "model_id": "",
       "version_major": 2,
       "version_minor": 0
      },
      "text/plain": [
       "FloatProgress(value=0.0, bar_style='info', description='Progress:', layout=Layout(height='25px', width='50%'),…"
      ]
     },
     "metadata": {},
     "output_type": "display_data"
    },
    {
     "data": {
      "text/html": [
       "<table><tr><th>name</th><th>id</th><th>latitude</th><th>longitude</th></tr><tr><td>Barter Island LRR...</td><td>BTI</td><td>70.1340026855</td><td>-143.582000732</td></tr><tr><td>Cape Lisburne LRR...</td><td>LUR</td><td>68.87509918</td><td>-166.1100006</td></tr><tr><td>Point Lay LRRS Ai...</td><td>PIZ</td><td>69.73290253</td><td>-163.0050049</td></tr><tr><td>Hilo Internationa...</td><td>ITO</td><td>19.721399307250977</td><td>-155.04800415039062</td></tr><tr><td>Orlando Executive...</td><td>ORL</td><td>28.545499801636</td><td>-81.332901000977</td></tr></table><br /><pre>only showing top 5 rows\n",
       "\n",
       "/mnt1/yarn/usercache/livy/appcache/application_1721017390557_0007/container_1721017390557_0007_01_000001/pyspark.zip/pyspark/pandas/utils.py:975: PandasAPIOnSparkAdviceWarning: If `index_col` is not specified for `to_spark`, the existing index is lost when converting to Spark DataFrame.</pre>"
      ],
      "text/plain": [
       "<IPython.core.display.HTML object>"
      ]
     },
     "metadata": {},
     "output_type": "display_data"
    }
   ],
   "source": [
    "%%pretty\n",
    "#  The Vertices (nodes) of our graph are the airports\n",
    "cleaned_nodes.to_spark().show(5)"
   ]
  },
  {
   "cell_type": "code",
   "execution_count": 4,
   "metadata": {},
   "outputs": [
    {
     "data": {
      "application/vnd.jupyter.widget-view+json": {
       "model_id": "",
       "version_major": 2,
       "version_minor": 0
      },
      "text/plain": [
       "FloatProgress(value=0.0, bar_style='info', description='Progress:', layout=Layout(height='25px', width='50%'),…"
      ]
     },
     "metadata": {},
     "output_type": "display_data"
    },
    {
     "data": {
      "text/html": [
       "<table><tr><th>src</th><th>dst</th><th>date</th><th>deptDelay</th><th>arrDelay</th><th>distance</th><th>tailNumber</th><th>flightNumber</th><th>time</th><th>arrivalTime</th><th>airline</th></tr><tr><td>CLE</td><td>DCA</td><td>2018-05-01</td><td>-5.0</td><td>-18.0</td><td>310.0</td><td>N14991</td><td>4195</td><td>1538</td><td>1705</td><td>EV</td></tr><tr><td>ORD</td><td>DSM</td><td>2018-05-01</td><td>-7.0</td><td>15.0</td><td>299.0</td><td>N12540</td><td>4196</td><td>1005</td><td>1128</td><td>EV</td></tr><tr><td>IAH</td><td>LRD</td><td>2018-05-01</td><td>-11.0</td><td>-13.0</td><td>301.0</td><td>N16178</td><td>4197</td><td>1005</td><td>1126</td><td>EV</td></tr><tr><td>SHV</td><td>IAH</td><td>2018-05-01</td><td>-5.0</td><td>-15.0</td><td>192.0</td><td>N15980</td><td>4197</td><td>545</td><td>655</td><td>EV</td></tr><tr><td>AEX</td><td>IAH</td><td>2018-05-01</td><td>-14.0</td><td>-37.0</td><td>190.0</td><td>N15983</td><td>4200</td><td>545</td><td>655</td><td>EV</td></tr></table><br /><pre>only showing top 5 rows</pre>"
      ],
      "text/plain": [
       "<IPython.core.display.HTML object>"
      ]
     },
     "metadata": {},
     "output_type": "display_data"
    }
   ],
   "source": [
    "%%pretty\n",
    "# The edges of our graph are the flight\n",
    "cleaned_relationships.to_spark().show(5)"
   ]
  },
  {
   "cell_type": "markdown",
   "metadata": {},
   "source": [
    "Create a graph object using nodes and vertices."
   ]
  },
  {
   "cell_type": "code",
   "execution_count": 5,
   "metadata": {
    "tags": []
   },
   "outputs": [
    {
     "data": {
      "application/vnd.jupyter.widget-view+json": {
       "model_id": "91968c5bb8b643c890c3407780886bbe",
       "version_major": 2,
       "version_minor": 0
      },
      "text/plain": [
       "VBox()"
      ]
     },
     "metadata": {},
     "output_type": "display_data"
    },
    {
     "data": {
      "application/vnd.jupyter.widget-view+json": {
       "model_id": "",
       "version_major": 2,
       "version_minor": 0
      },
      "text/plain": [
       "FloatProgress(value=0.0, bar_style='info', description='Progress:', layout=Layout(height='25px', width='50%'),…"
      ]
     },
     "metadata": {},
     "output_type": "display_data"
    },
    {
     "name": "stdout",
     "output_type": "stream",
     "text": [
      "/mnt1/yarn/usercache/livy/appcache/application_1721017390557_0007/container_1721017390557_0007_01_000001/pyspark.zip/pyspark/sql/dataframe.py:170: UserWarning: DataFrame.sql_ctx is an internal property, and will be removed in future releases. Use DataFrame.sparkSession instead."
     ]
    }
   ],
   "source": [
    "g = GraphFrame(cleaned_nodes.to_spark(), cleaned_relationships.to_spark())"
   ]
  },
  {
   "cell_type": "code",
   "execution_count": 6,
   "metadata": {
    "tags": []
   },
   "outputs": [
    {
     "data": {
      "application/vnd.jupyter.widget-view+json": {
       "model_id": "",
       "version_major": 2,
       "version_minor": 0
      },
      "text/plain": [
       "FloatProgress(value=0.0, bar_style='info', description='Progress:', layout=Layout(height='25px', width='50%'),…"
      ]
     },
     "metadata": {},
     "output_type": "display_data"
    },
    {
     "data": {
      "text/html": [
       "<table><tr><th>name</th><th>code</th></tr><tr><td>Unknown</td><td>-</td></tr><tr><td>Private flight</td><td>-</td></tr><tr><td>1Time Airline</td><td>1T</td></tr><tr><td>40-Mile Air</td><td>Q5</td></tr><tr><td>Ansett Australia</td><td>AN</td></tr></table><br /><pre>only showing top 5 rows</pre>"
      ],
      "text/plain": [
       "<IPython.core.display.HTML object>"
      ]
     },
     "metadata": {},
     "output_type": "display_data"
    }
   ],
   "source": [
    "%%pretty\n",
    "airlines_reference = ps.read_csv(\"s3://cis4567-salehan/Data/Graphs/airlines.csv\", \n",
    "                                 header=None, \n",
    "                                 usecols=[1, 3])\n",
    "airlines_reference = airlines_reference.rename(columns={1 : \"name\", 3 : \"code\"})\n",
    "airlines_reference = airlines_reference[~airlines_reference[\"code\"].isna()]\n",
    "airlines_reference.to_spark().show(5)"
   ]
  },
  {
   "cell_type": "markdown",
   "metadata": {},
   "source": [
    "## Simple Queries\n",
    "Let's start with a set of simple graph queries to understand flight performance and departure delays"
   ]
  },
  {
   "cell_type": "markdown",
   "metadata": {},
   "source": [
    "#### Determine the number of airports and trips"
   ]
  },
  {
   "cell_type": "code",
   "execution_count": 7,
   "metadata": {},
   "outputs": [
    {
     "data": {
      "application/vnd.jupyter.widget-view+json": {
       "model_id": "d89486abc3d545168b1e1e2ec76d1199",
       "version_major": 2,
       "version_minor": 0
      },
      "text/plain": [
       "VBox()"
      ]
     },
     "metadata": {},
     "output_type": "display_data"
    },
    {
     "data": {
      "application/vnd.jupyter.widget-view+json": {
       "model_id": "",
       "version_major": 2,
       "version_minor": 0
      },
      "text/plain": [
       "FloatProgress(value=0.0, bar_style='info', description='Progress:', layout=Layout(height='25px', width='50%'),…"
      ]
     },
     "metadata": {},
     "output_type": "display_data"
    },
    {
     "name": "stdout",
     "output_type": "stream",
     "text": [
      "Airports: 1333\n",
      "Trips: 616529"
     ]
    }
   ],
   "source": [
    "print(\"Airports: %d\" % g.vertices.count())\n",
    "print(\"Trips: %d\" % g.edges.count())"
   ]
  },
  {
   "cell_type": "markdown",
   "metadata": {},
   "source": [
    "### Popular airports\n",
    "Which airports have the most departing flights? We can work out the number of outgoing\n",
    "flights from an airport using the `Degree Centrality` algorithm:"
   ]
  },
  {
   "cell_type": "code",
   "execution_count": 8,
   "metadata": {
    "tags": []
   },
   "outputs": [
    {
     "data": {
      "application/vnd.jupyter.widget-view+json": {
       "model_id": "",
       "version_major": 2,
       "version_minor": 0
      },
      "text/plain": [
       "FloatProgress(value=0.0, bar_style='info', description='Progress:', layout=Layout(height='25px', width='50%'),…"
      ]
     },
     "metadata": {},
     "output_type": "display_data"
    },
    {
     "data": {
      "text/html": [
       "<table><tr><th>id</th><th>name</th><th>outDegree</th></tr><tr><td>ATL</td><td>Hartsfield Jackso...</td><td>33837</td></tr><tr><td>ORD</td><td>Chicago O'Hare In...</td><td>28338</td></tr><tr><td>DFW</td><td>Dallas Fort Worth...</td><td>23765</td></tr><tr><td>CLT</td><td>Charlotte Douglas...</td><td>20251</td></tr><tr><td>DEN</td><td>Denver Internatio...</td><td>19836</td></tr><tr><td>LAX</td><td>Los Angeles Inter...</td><td>19059</td></tr><tr><td>PHX</td><td>Phoenix Sky Harbo...</td><td>15103</td></tr><tr><td>SFO</td><td>San Francisco Int...</td><td>14934</td></tr><tr><td>LGA</td><td>La Guardia Airport</td><td>14709</td></tr><tr><td>IAH</td><td>George Bush Inter...</td><td>14407</td></tr></table><br /><pre>only showing top 10 rows\n",
       "\n",
       "/mnt1/yarn/usercache/livy/appcache/application_1721017390557_0007/container_1721017390557_0007_01_000001/pyspark.zip/pyspark/sql/dataframe.py:148: UserWarning: DataFrame constructor is internal. Do not directly use it.</pre>"
      ],
      "text/plain": [
       "<IPython.core.display.HTML object>"
      ]
     },
     "metadata": {},
     "output_type": "display_data"
    }
   ],
   "source": [
    "%%pretty\n",
    "airports_degree = g.outDegrees.pandas_api().rename(columns={\"id\" : \"oId\"})\n",
    "full_airports_degree = ps.merge(airports_degree, g.vertices.pandas_api(),\n",
    "                                left_on=\"oId\", right_on=\"id\"\n",
    "                               ).sort_values(\"outDegree\", ascending=False\n",
    "                                            )[[\"id\", \"name\", \"outDegree\"]]\n",
    "full_airports_degree.to_spark().show(10)"
   ]
  },
  {
   "cell_type": "code",
   "execution_count": 9,
   "metadata": {
    "tags": []
   },
   "outputs": [
    {
     "data": {
      "application/vnd.jupyter.widget-view+json": {
       "model_id": "70543471eb8c44cd85804469b5a5a543",
       "version_major": 2,
       "version_minor": 0
      },
      "text/plain": [
       "VBox()"
      ]
     },
     "metadata": {},
     "output_type": "display_data"
    },
    {
     "data": {
      "application/vnd.jupyter.widget-view+json": {
       "model_id": "",
       "version_major": 2,
       "version_minor": 0
      },
      "text/plain": [
       "FloatProgress(value=0.0, bar_style='info', description='Progress:', layout=Layout(height='25px', width='50%'),…"
      ]
     },
     "metadata": {},
     "output_type": "display_data"
    },
    {
     "data": {
      "image/png": "[encoded data removed]",
      "text/plain": [
       "<IPython.core.display.Image object>"
      ]
     },
     "metadata": {},
     "output_type": "display_data"
    }
   ],
   "source": [
    "plt.clf()\n",
    "plt.style.use('fivethirtyeight')\n",
    "ax=(full_airports_degree\n",
    "      .iloc[:10]\n",
    "    .plot(kind='bar', x='id', y='outDegree'))\n",
    "ax.xaxis.set_label_text(\"\")\n",
    "plt.xticks(rotation=45)\n",
    "plt.tight_layout()\n",
    "plt.show()\n",
    "%matplot plt"
   ]
  },
  {
   "cell_type": "markdown",
   "metadata": {},
   "source": [
    "#### Determining the number of delayed vs. on-time / early flights"
   ]
  },
  {
   "cell_type": "code",
   "execution_count": 10,
   "metadata": {},
   "outputs": [
    {
     "data": {
      "application/vnd.jupyter.widget-view+json": {
       "model_id": "641fbc783c8241d4bc7b106156643cb2",
       "version_major": 2,
       "version_minor": 0
      },
      "text/plain": [
       "VBox()"
      ]
     },
     "metadata": {},
     "output_type": "display_data"
    },
    {
     "data": {
      "application/vnd.jupyter.widget-view+json": {
       "model_id": "",
       "version_major": 2,
       "version_minor": 0
      },
      "text/plain": [
       "FloatProgress(value=0.0, bar_style='info', description='Progress:', layout=Layout(height='25px', width='50%'),…"
      ]
     },
     "metadata": {},
     "output_type": "display_data"
    },
    {
     "name": "stdout",
     "output_type": "stream",
     "text": [
      "On-time / Early Flights: 389878\n",
      "Delayed Flights: 217432"
     ]
    }
   ],
   "source": [
    "# Determining number of on-time / early flights vs. delayed flights\n",
    "edges = g.edges.pandas_api()\n",
    "print (\"On-time / Early Flights: %d\" % edges[edges.arrDelay <= 0].shape[0])\n",
    "print (\"Delayed Flights: %d\" % edges[edges.arrDelay > 0].shape[0])"
   ]
  },
  {
   "cell_type": "markdown",
   "metadata": {},
   "source": [
    "## Delays from ORD\n",
    "In our scenario, we frequently travel between the west and east coasts and want to see\n",
    "delays through a midpoint hub like Chicago O’Hare International Airport (ORD).\n",
    "This dataset contains flight delay data, so we can dive right in.<br>\n",
    "The following code finds the average delay of flights departing from ORD grouped by\n",
    "the destination airport."
   ]
  },
  {
   "cell_type": "code",
   "execution_count": 11,
   "metadata": {
    "tags": []
   },
   "outputs": [
    {
     "data": {
      "application/vnd.jupyter.widget-view+json": {
       "model_id": "",
       "version_major": 2,
       "version_minor": 0
      },
      "text/plain": [
       "FloatProgress(value=0.0, bar_style='info', description='Progress:', layout=Layout(height='25px', width='50%'),…"
      ]
     },
     "metadata": {},
     "output_type": "display_data"
    },
    {
     "data": {
      "text/html": [
       "<table><tr><th>name</th><th>averageDelay</th><th>numberOfDelays</th></tr><tr><td>North Central Wes...</td><td>145.08</td><td>12</td></tr><tr><td>Kahului Airport</td><td>119.67</td><td>9</td></tr><tr><td>Sawyer Internatio...</td><td>114.75</td><td>12</td></tr><tr><td>Mobile Regional A...</td><td>102.2</td><td>10</td></tr><tr><td>Trenton Mercer Ai...</td><td>101.18</td><td>17</td></tr><tr><td>Asheville Regiona...</td><td>98.5</td><td>28</td></tr><tr><td>Long Island Mac A...</td><td>94.08</td><td>13</td></tr><tr><td>Ted Stevens Ancho...</td><td>83.74</td><td>23</td></tr><tr><td>Burlington Intern...</td><td>83.2</td><td>25</td></tr><tr><td>Houghton County M...</td><td>79.18</td><td>17</td></tr></table><br /><pre>only showing top 10 rows\n",
       "\n",
       "/mnt1/yarn/usercache/livy/appcache/application_1721017390557_0007/container_1721017390557_0007_01_000001/pyspark.zip/pyspark/pandas/utils.py:975: PandasAPIOnSparkAdviceWarning: If `index_col` is not specified for `to_spark`, the existing index is lost when converting to Spark DataFrame.\n",
       "  warnings.warn(message, PandasAPIOnSparkAdviceWarning)</pre>"
      ],
      "text/plain": [
       "<IPython.core.display.HTML object>"
      ]
     },
     "metadata": {},
     "output_type": "display_data"
    }
   ],
   "source": [
    "%%pretty\n",
    "delayed_flights = edges[\n",
    "    (edges.src == 'ORD') & (edges.deptDelay > 0)\n",
    "    ].groupby(\"dst\").agg(averageDelay = (\"deptDelay\", \"mean\"), \n",
    "                        numberOfDelays = (\"deptDelay\", \"count\")).round(2)\n",
    "ps.merge(delayed_flights, g.vertices.pandas_api(), left_index=True, right_on='id'\n",
    "        ).sort_values(\"averageDelay\", ascending=False\n",
    "                     )[[\"name\", \"averageDelay\", \"numberOfDelays\"]].to_spark().show(10)"
   ]
  },
  {
   "cell_type": "markdown",
   "metadata": {},
   "source": [
    "This is interesting, but one data point really stands out: 12 flights from ORD to CKB\n",
    "have been delayed by more than 2 hours on average! Let’s find the flights between\n",
    "those airports using `BFS` and see what’s going on:"
   ]
  },
  {
   "cell_type": "code",
   "execution_count": 12,
   "metadata": {
    "tags": []
   },
   "outputs": [
    {
     "data": {
      "application/vnd.jupyter.widget-view+json": {
       "model_id": "633cd8a325f74d9a841a200e41ac82fd",
       "version_major": 2,
       "version_minor": 0
      },
      "text/plain": [
       "VBox()"
      ]
     },
     "metadata": {},
     "output_type": "display_data"
    },
    {
     "data": {
      "application/vnd.jupyter.widget-view+json": {
       "model_id": "",
       "version_major": 2,
       "version_minor": 0
      },
      "text/plain": [
       "FloatProgress(value=0.0, bar_style='info', description='Progress:', layout=Layout(height='25px', width='50%'),…"
      ]
     },
     "metadata": {},
     "output_type": "display_data"
    },
    {
     "data": {
      "image/png": "[encoded data removed]",
      "text/plain": [
       "<IPython.core.display.Image object>"
      ]
     },
     "metadata": {},
     "output_type": "display_data"
    }
   ],
   "source": [
    "from_expr = 'id = \"ORD\"'\n",
    "to_expr = 'id = \"CKB\"'\n",
    "ord_to_ckb = g.bfs(from_expr, to_expr)\n",
    "ord_to_ckb = ord_to_ckb.select(\n",
    "    F.col(\"e0.date\"),\n",
    "    F.col(\"e0.time\"),\n",
    "    F.col(\"e0.flightNumber\"),\n",
    "    F.col(\"e0.deptDelay\"))\n",
    "\n",
    "plt.clf()\n",
    "ax = (ord_to_ckb\n",
    "    .sort(\"date\")\n",
    "    .pandas_api()\n",
    "    .plot(kind='bar', x='date', y='deptDelay', legend=None))\n",
    "ax.xaxis.set_label_text(\"\")\n",
    "plt.tight_layout()\n",
    "plt.show()\n",
    "%matplot plt"
   ]
  },
  {
   "cell_type": "markdown",
   "metadata": {},
   "source": [
    "About half of the flights were delayed, but the delay of more than 14 hours on May 2,\n",
    "2018, has massively skewed the average. The result shows that this was due to a single outlier day rather than being a systemic problem."
   ]
  },
  {
   "cell_type": "markdown",
   "metadata": {},
   "source": [
    "## City / Flight Relationships through Motif Finding\n",
    "To more easily understand the complex relationship of city airports and their flights with each other, we can use `motifs` to find patterns of airports (i.e. `vertices`) connected by flights (i.e. `edges`). The result is a `DataFrame` in which the column names are given by the `motif` keys.  \n",
    "The `motif` `(a)-[ab]->(b); (b)-[bc]->(c)` finds flights coming into and out from\n",
    "the same airport. We then filter the resulting pattern to find flights with:\n",
    "* A sequence where the first flight arrives at SFO and the second flight departs\n",
    "from SFO\n",
    "* Delays of over 30 minutes when arriving at or departing from SFO\n",
    "* The same flight number and airline"
   ]
  },
  {
   "cell_type": "markdown",
   "metadata": {},
   "source": [
    "### Bad day at SFO\n",
    "Let’s consider delays at an airport known for fog-related “low ceiling” issues: San\n",
    "Francisco International Airport (SFO). Let’s use motifs to find the most-delayed flights going into and out of SFO on\n",
    "May 11, 2018. The following code will find these delays:"
   ]
  },
  {
   "cell_type": "code",
   "execution_count": 13,
   "metadata": {
    "tags": []
   },
   "outputs": [
    {
     "data": {
      "application/vnd.jupyter.widget-view+json": {
       "model_id": "afb0d03ef4ac4b148913294a51cf52fb",
       "version_major": 2,
       "version_minor": 0
      },
      "text/plain": [
       "VBox()"
      ]
     },
     "metadata": {},
     "output_type": "display_data"
    },
    {
     "data": {
      "application/vnd.jupyter.widget-view+json": {
       "model_id": "",
       "version_major": 2,
       "version_minor": 0
      },
      "text/plain": [
       "FloatProgress(value=0.0, bar_style='info', description='Progress:', layout=Layout(height='25px', width='50%'),…"
      ]
     },
     "metadata": {},
     "output_type": "display_data"
    },
    {
     "name": "stdout",
     "output_type": "stream",
     "text": [
      "/mnt1/yarn/usercache/livy/appcache/application_1721017390557_0007/container_1721017390557_0007_01_000001/pyspark.zip/pyspark/sql/dataframe.py:148: UserWarning: DataFrame constructor is internal. Do not directly use it.\n",
      "  warnings.warn(\"DataFrame constructor is internal. Do not directly use it.\")"
     ]
    }
   ],
   "source": [
    "motifs = (g.find(\"(a)-[ab]->(b); (b)-[bc]->(c)\")\n",
    "    .filter(\"\"\"(b.id = 'SFO') and\n",
    "    (ab.date = '2018-05-11' and bc.date = '2018-05-11') and\n",
    "    (ab.arrDelay > 30 or bc.deptDelay > 30) and\n",
    "    (ab.flightNumber = bc.flightNumber) and\n",
    "    (ab.airline = bc.airline) and\n",
    "    (ab.time < bc.time)\"\"\"))"
   ]
  },
  {
   "cell_type": "code",
   "execution_count": 14,
   "metadata": {
    "tags": []
   },
   "outputs": [
    {
     "data": {
      "application/vnd.jupyter.widget-view+json": {
       "model_id": "bab9171b7cdf425393b89d45dc68a9ef",
       "version_major": 2,
       "version_minor": 0
      },
      "text/plain": [
       "VBox()"
      ]
     },
     "metadata": {},
     "output_type": "display_data"
    },
    {
     "data": {
      "application/vnd.jupyter.widget-view+json": {
       "model_id": "",
       "version_major": 2,
       "version_minor": 0
      },
      "text/plain": [
       "FloatProgress(value=0.0, bar_style='info', description='Progress:', layout=Layout(height='25px', width='50%'),…"
      ]
     },
     "metadata": {},
     "output_type": "display_data"
    },
    {
     "name": "stdout",
     "output_type": "stream",
     "text": [
      "+---+----------+--------+---+----------+---------+---+-------+------------+-----+\n",
      "| a1|a1DeptTime|arrDelay| a2|a2DeptTime|deptDelay| a3|airline|flightNumber|delta|\n",
      "+---+----------+--------+---+----------+---------+---+-------+------------+-----+\n",
      "|PDX|      1130|   -18.0|SFO|      1350|    178.0|BUR|     WN|        1454|196.0|\n",
      "|ACV|      1755|    -9.0|SFO|      2235|     64.0|RDM|     OO|        5700| 73.0|\n",
      "|BWI|       700|    -3.0|SFO|      1125|     49.0|IAD|     UA|         753| 52.0|\n",
      "|ATL|       740|    40.0|SFO|      1110|     77.0|SAN|     UA|        1900| 37.0|\n",
      "|BUR|      1405|    25.0|SFO|      1600|     39.0|PDX|     WN|         157| 14.0|\n",
      "|DTW|       835|    34.0|SFO|      1135|     44.0|DTW|     DL|         745| 10.0|\n",
      "|DEN|      1830|    25.0|SFO|      2045|     33.0|BUR|     WN|        1783|  8.0|\n",
      "|PDX|      1855|   119.0|SFO|      2120|    117.0|DEN|     WN|        5789| -2.0|\n",
      "|BUR|      2025|    31.0|SFO|      2230|     11.0|PHX|     WN|        1585|-20.0|\n",
      "+---+----------+--------+---+----------+---------+---+-------+------------+-----+"
     ]
    }
   ],
   "source": [
    "result = (motifs.withColumn(\"delta\", motifs.bc.deptDelay - motifs.ab.arrDelay)\n",
    "    .select(\"ab\", \"bc\", \"delta\")\n",
    "    .sort(\"delta\", ascending=False))\n",
    "result.select(\n",
    "    F.col(\"ab.src\").alias(\"a1\"),\n",
    "    F.col(\"ab.time\").alias(\"a1DeptTime\"),\n",
    "    F.col(\"ab.arrDelay\"),\n",
    "    F.col(\"ab.dst\").alias(\"a2\"),\n",
    "    F.col(\"bc.time\").alias(\"a2DeptTime\"),\n",
    "    F.col(\"bc.deptDelay\"),\n",
    "    F.col(\"bc.dst\").alias(\"a3\"),\n",
    "    F.col(\"ab.airline\"),\n",
    "    F.col(\"ab.flightNumber\"),\n",
    "    F.col(\"delta\")\n",
    "    ).show()"
   ]
  },
  {
   "cell_type": "markdown",
   "metadata": {},
   "source": [
    "we can see that this cluster is apparently more hub-focused, with some\n",
    "additional northwestern stops along the way."
   ]
  },
  {
   "cell_type": "markdown",
   "metadata": {},
   "source": [
    "## Breadth First Search \n",
    "Breadth-first search (BFS) is designed to traverse the graph to quickly find the desired vertices (i.e. airports) and edges (i.e flights).  Let's try to find the shortest number of connections between cities based on the dataset.  Note, these examples do not take into account of time or distance, just hops between cities.\n",
    "<a href='http://mishadoff.com/blog/dfs-on-binary-tree-array/' >Breadth first vs depth first search</a><br>\n",
    "<img src='https://www.freelancinggig.com/blog/wp-content/uploads/2019/02/BFS-and-DFS-Algorithms.png' />"
   ]
  },
  {
   "cell_type": "code",
   "execution_count": 15,
   "metadata": {
    "tags": []
   },
   "outputs": [
    {
     "data": {
      "application/vnd.jupyter.widget-view+json": {
       "model_id": "",
       "version_major": 2,
       "version_minor": 0
      },
      "text/plain": [
       "FloatProgress(value=0.0, bar_style='info', description='Progress:', layout=Layout(height='25px', width='50%'),…"
      ]
     },
     "metadata": {},
     "output_type": "display_data"
    },
    {
     "data": {
      "text/html": [
       "<table><tr><th>from</th><th>e0</th><th>to</th></tr><tr><td>{Seattle Tacoma I...</td><td>{SEA, SFO, 2018-0...</td><td>{San Francisco In...</td></tr><tr><td>{Seattle Tacoma I...</td><td>{SEA, SFO, 2018-0...</td><td>{San Francisco In...</td></tr><tr><td>{Seattle Tacoma I...</td><td>{SEA, SFO, 2018-0...</td><td>{San Francisco In...</td></tr><tr><td>{Seattle Tacoma I...</td><td>{SEA, SFO, 2018-0...</td><td>{San Francisco In...</td></tr><tr><td>{Seattle Tacoma I...</td><td>{SEA, SFO, 2018-0...</td><td>{San Francisco In...</td></tr></table><br /><pre>only showing top 5 rows</pre>"
      ],
      "text/plain": [
       "<IPython.core.display.HTML object>"
      ]
     },
     "metadata": {},
     "output_type": "display_data"
    }
   ],
   "source": [
    "%%pretty\n",
    "# Example 1: Direct Seattle to San Francisco \n",
    "filteredPaths = g.bfs(\n",
    "  fromExpr = \"id = 'SEA'\",\n",
    "  toExpr = \"id = 'SFO'\",\n",
    "  maxPathLength = 1)\n",
    "filteredPaths.show(5)"
   ]
  },
  {
   "cell_type": "markdown",
   "metadata": {},
   "source": [
    "As you can see, there are a number of direct flights between Seattle and San Francisco."
   ]
  },
  {
   "cell_type": "code",
   "execution_count": 16,
   "metadata": {
    "tags": []
   },
   "outputs": [
    {
     "data": {
      "application/vnd.jupyter.widget-view+json": {
       "model_id": "",
       "version_major": 2,
       "version_minor": 0
      },
      "text/plain": [
       "FloatProgress(value=0.0, bar_style='info', description='Progress:', layout=Layout(height='25px', width='50%'),…"
      ]
     },
     "metadata": {},
     "output_type": "display_data"
    },
    {
     "data": {
      "text/html": [
       "<table><tr><th>name</th><th>id</th><th>latitude</th><th>longitude</th></tr></table><br /><pre></pre>"
      ],
      "text/plain": [
       "<IPython.core.display.HTML object>"
      ]
     },
     "metadata": {},
     "output_type": "display_data"
    }
   ],
   "source": [
    "%%pretty\n",
    "# Example 2: Direct San Francisco and Buffalo\n",
    "filteredPaths = g.bfs(\n",
    "  fromExpr = \"id = 'SFO'\",\n",
    "  toExpr = \"id = 'BUF'\",\n",
    "  maxPathLength = 1)\n",
    "filteredPaths.show(5)"
   ]
  },
  {
   "cell_type": "markdown",
   "metadata": {},
   "source": [
    "But there are no direct flights between San Francisco and Buffalo."
   ]
  },
  {
   "cell_type": "code",
   "execution_count": 17,
   "metadata": {
    "tags": []
   },
   "outputs": [
    {
     "data": {
      "application/vnd.jupyter.widget-view+json": {
       "model_id": "",
       "version_major": 2,
       "version_minor": 0
      },
      "text/plain": [
       "FloatProgress(value=0.0, bar_style='info', description='Progress:', layout=Layout(height='25px', width='50%'),…"
      ]
     },
     "metadata": {},
     "output_type": "display_data"
    },
    {
     "data": {
      "text/html": [
       "<table><tr><th>from</th><th>e0</th><th>v1</th><th>e1</th><th>to</th></tr><tr><td>{San Francisco In...</td><td>{SFO, AUS, 2018-0...</td><td>{Austin Bergstrom...</td><td>{AUS, BUF, 2018-0...</td><td>{Buffalo Niagara ...</td></tr><tr><td>{San Francisco In...</td><td>{SFO, AUS, 2018-0...</td><td>{Austin Bergstrom...</td><td>{AUS, BUF, 2018-0...</td><td>{Buffalo Niagara ...</td></tr><tr><td>{San Francisco In...</td><td>{SFO, AUS, 2018-0...</td><td>{Austin Bergstrom...</td><td>{AUS, BUF, 2018-0...</td><td>{Buffalo Niagara ...</td></tr><tr><td>{San Francisco In...</td><td>{SFO, AUS, 2018-0...</td><td>{Austin Bergstrom...</td><td>{AUS, BUF, 2018-0...</td><td>{Buffalo Niagara ...</td></tr><tr><td>{San Francisco In...</td><td>{SFO, AUS, 2018-0...</td><td>{Austin Bergstrom...</td><td>{AUS, BUF, 2018-0...</td><td>{Buffalo Niagara ...</td></tr></table><br /><pre>only showing top 5 rows</pre>"
      ],
      "text/plain": [
       "<IPython.core.display.HTML object>"
      ]
     },
     "metadata": {},
     "output_type": "display_data"
    }
   ],
   "source": [
    "%%pretty\n",
    "# Example 2a: Flying from San Francisco to Buffalo\n",
    "filteredPaths = g.bfs(\n",
    "  fromExpr = \"id = 'SFO'\",\n",
    "  toExpr = \"id = 'BUF'\",\n",
    "  maxPathLength = 2)\n",
    "filteredPaths.show(5)"
   ]
  },
  {
   "cell_type": "markdown",
   "metadata": {},
   "source": [
    "But there are flights from San Francisco to Buffalo with Boston as the transfer point."
   ]
  },
  {
   "cell_type": "markdown",
   "metadata": {},
   "source": [
    "## Determining Airport Ranking using PageRank\n",
    "There are a large number of flights and connections through these various airports included in this Departure Delay Dataset.  Using the `pageRank` algorithm, Spark iteratively traverses the graph and determines a rough estimate of how important the airport is.<br>\n",
    "PageRank is a “vote”, by all the other pages on the Web, about how important a page\n",
    "is. A link to a page counts as a vote of support. If there’s no link, there’s no support (but it’s\n",
    "an abstention from voting rather than a vote against the page).<br>\n",
    "<img src='https://upload.wikimedia.org/wikipedia/en/thumb/8/8b/PageRanks-Example.jpg/400px-PageRanks-Example.jpg' />"
   ]
  },
  {
   "cell_type": "markdown",
   "metadata": {},
   "source": [
    "Some pages have no links out. It is also possible to fall into an unproductive loop. Hence, at each step, the random walk might restart randomly using the reset probability value (epsilon &#949;)."
   ]
  },
  {
   "cell_type": "code",
   "execution_count": 18,
   "metadata": {},
   "outputs": [
    {
     "data": {
      "application/vnd.jupyter.widget-view+json": {
       "model_id": "b812f1b2108544f1a324031e4d2d036e",
       "version_major": 2,
       "version_minor": 0
      },
      "text/plain": [
       "VBox()"
      ]
     },
     "metadata": {},
     "output_type": "display_data"
    },
    {
     "data": {
      "application/vnd.jupyter.widget-view+json": {
       "model_id": "",
       "version_major": 2,
       "version_minor": 0
      },
      "text/plain": [
       "FloatProgress(value=0.0, bar_style='info', description='Progress:', layout=Layout(height='25px', width='50%'),…"
      ]
     },
     "metadata": {},
     "output_type": "display_data"
    },
    {
     "name": "stdout",
     "output_type": "stream",
     "text": [
      "/mnt1/yarn/usercache/livy/appcache/application_1721017390557_0007/container_1721017390557_0007_01_000001/pyspark.zip/pyspark/sql/dataframe.py:170: UserWarning: DataFrame.sql_ctx is an internal property, and will be removed in future releases. Use DataFrame.sparkSession instead.\n",
      "  \"DataFrame.sql_ctx is an internal property, and will be removed \""
     ]
    }
   ],
   "source": [
    "# Determining Airport ranking of importance using pageRank\n",
    "ranks = g.pageRank(resetProbability=0.15, maxIter=5)"
   ]
  },
  {
   "cell_type": "code",
   "execution_count": 19,
   "metadata": {
    "tags": []
   },
   "outputs": [
    {
     "data": {
      "application/vnd.jupyter.widget-view+json": {
       "model_id": "057372afed9c4fd6b567a2630798a89d",
       "version_major": 2,
       "version_minor": 0
      },
      "text/plain": [
       "VBox()"
      ]
     },
     "metadata": {},
     "output_type": "display_data"
    },
    {
     "data": {
      "application/vnd.jupyter.widget-view+json": {
       "model_id": "",
       "version_major": 2,
       "version_minor": 0
      },
      "text/plain": [
       "FloatProgress(value=0.0, bar_style='info', description='Progress:', layout=Layout(height='25px', width='50%'),…"
      ]
     },
     "metadata": {},
     "output_type": "display_data"
    },
    {
     "data": {
      "image/png": "[encoded data removed]",
      "text/plain": [
       "<IPython.core.display.Image object>"
      ]
     },
     "metadata": {},
     "output_type": "display_data"
    }
   ],
   "source": [
    "#plot top 20 airports\n",
    "df = ranks.vertices.pandas_api().sort_values(\"pagerank\", ascending=False).iloc[:20]\n",
    "df.plot(x='id', y='pagerank', kind='bar')\n",
    "#plt.show()\n",
    "%matplot plt"
   ]
  },
  {
   "cell_type": "markdown",
   "metadata": {},
   "source": [
    "## Interconnected Airports by Airline\n",
    "If we start from a specific US airport, how many different airports can we visit and come back to the starting airport using the same airline?"
   ]
  },
  {
   "cell_type": "code",
   "execution_count": 20,
   "metadata": {
    "tags": []
   },
   "outputs": [
    {
     "data": {
      "application/vnd.jupyter.widget-view+json": {
       "model_id": "a83beded94424a178985f4aa57b10541",
       "version_major": 2,
       "version_minor": 0
      },
      "text/plain": [
       "VBox()"
      ]
     },
     "metadata": {},
     "output_type": "display_data"
    },
    {
     "data": {
      "application/vnd.jupyter.widget-view+json": {
       "model_id": "",
       "version_major": 2,
       "version_minor": 0
      },
      "text/plain": [
       "FloatProgress(value=0.0, bar_style='info', description='Progress:', layout=Layout(height='25px', width='50%'),…"
      ]
     },
     "metadata": {},
     "output_type": "display_data"
    }
   ],
   "source": [
    "airlines = g.edges.pandas_api()\n",
    "airlines = airlines.groupby(\"airline\").agg(flights=(\"airline\", \"count\"))\n",
    "full_name_airlines = ps.merge(airlines_reference, airlines, left_on=\"code\", right_index=True\n",
    "                             )[[\"code\", \"name\", \"flights\"]].sort_values(\"flights\", ascending=False)"
   ]
  },
  {
   "cell_type": "markdown",
   "metadata": {},
   "source": [
    "Now let’s create a bar chart showing our airlines:"
   ]
  },
  {
   "cell_type": "code",
   "execution_count": 21,
   "metadata": {
    "tags": []
   },
   "outputs": [
    {
     "data": {
      "application/vnd.jupyter.widget-view+json": {
       "model_id": "e1dbf213d4e84713a793ea00ff22c56e",
       "version_major": 2,
       "version_minor": 0
      },
      "text/plain": [
       "VBox()"
      ]
     },
     "metadata": {},
     "output_type": "display_data"
    },
    {
     "data": {
      "application/vnd.jupyter.widget-view+json": {
       "model_id": "",
       "version_major": 2,
       "version_minor": 0
      },
      "text/plain": [
       "FloatProgress(value=0.0, bar_style='info', description='Progress:', layout=Layout(height='25px', width='50%'),…"
      ]
     },
     "metadata": {},
     "output_type": "display_data"
    },
    {
     "data": {
      "image/png": "[encoded data removed]",
      "text/plain": [
       "<IPython.core.display.Image object>"
      ]
     },
     "metadata": {},
     "output_type": "display_data"
    }
   ],
   "source": [
    "plt.clf()\n",
    "ax = (full_name_airlines.plot(kind='bar', x='name', y='flights', legend=None))\n",
    "ax.xaxis.set_label_text(\"\")\n",
    "plt.tight_layout()\n",
    "plt.show()\n",
    "%matplot plt"
   ]
  },
  {
   "cell_type": "markdown",
   "metadata": {
    "tags": []
   },
   "source": [
    "We can write the following code to create a DataFrame containing each airline and\n",
    "the number of airports of its largest `strongly connected component`."
   ]
  },
  {
   "cell_type": "code",
   "execution_count": 22,
   "metadata": {
    "tags": []
   },
   "outputs": [
    {
     "data": {
      "application/vnd.jupyter.widget-view+json": {
       "model_id": "9190d9fd80f9431eb640030c80bfa46c",
       "version_major": 2,
       "version_minor": 0
      },
      "text/plain": [
       "VBox()"
      ]
     },
     "metadata": {},
     "output_type": "display_data"
    },
    {
     "data": {
      "application/vnd.jupyter.widget-view+json": {
       "model_id": "",
       "version_major": 2,
       "version_minor": 0
      },
      "text/plain": [
       "FloatProgress(value=0.0, bar_style='info', description='Progress:', layout=Layout(height='25px', width='50%'),…"
      ]
     },
     "metadata": {},
     "output_type": "display_data"
    }
   ],
   "source": [
    "def find_scc_components(g, airline):\n",
    "    # Create a subgraph containing only flights on the provided airline\n",
    "    airline_relationships = g.edges[g.edges.airline == airline]\n",
    "    airline_graph = GraphFrame(g.vertices, airline_relationships)\n",
    "    # Calculate the Strongly Connected Components\n",
    "    scc = airline_graph.stronglyConnectedComponents(maxIter=10).pandas_api()\n",
    "    # Find the size of the biggest component and return that\n",
    "    return (scc\n",
    "        .groupby(\"component\")\n",
    "        .size()\n",
    "        .sort_values(ascending=False).iloc[0])"
   ]
  },
  {
   "cell_type": "code",
   "execution_count": 23,
   "metadata": {
    "tags": []
   },
   "outputs": [
    {
     "data": {
      "application/vnd.jupyter.widget-view+json": {
       "model_id": "d690258b4a014a8aacad484fce932be1",
       "version_major": 2,
       "version_minor": 0
      },
      "text/plain": [
       "VBox()"
      ]
     },
     "metadata": {},
     "output_type": "display_data"
    },
    {
     "data": {
      "application/vnd.jupyter.widget-view+json": {
       "model_id": "",
       "version_major": 2,
       "version_minor": 0
      },
      "text/plain": [
       "FloatProgress(value=0.0, bar_style='info', description='Progress:', layout=Layout(height='25px', width='50%'),…"
      ]
     },
     "metadata": {},
     "output_type": "display_data"
    },
    {
     "name": "stdout",
     "output_type": "stream",
     "text": [
      "/mnt1/yarn/usercache/livy/appcache/application_1721017390557_0007/container_1721017390557_0007_01_000001/pyspark.zip/pyspark/pandas/utils.py:975: PandasAPIOnSparkAdviceWarning: `to_pandas` loads all data into the driver's memory. It should only be used if the resulting pandas DataFrame is expected to be small.\n",
      "  warnings.warn(message, PandasAPIOnSparkAdviceWarning)\n",
      "/mnt1/yarn/usercache/livy/appcache/application_1721017390557_0007/container_1721017390557_0007_01_000001/pyspark.zip/pyspark/sql/dataframe.py:170: UserWarning: DataFrame.sql_ctx is an internal property, and will be removed in future releases. Use DataFrame.sparkSession instead.\n",
      "  \"DataFrame.sql_ctx is an internal property, and will be removed \"\n",
      "/mnt1/yarn/usercache/livy/appcache/application_1721017390557_0007/container_1721017390557_0007_01_000001/pyspark.zip/pyspark/sql/dataframe.py:148: UserWarning: DataFrame constructor is internal. Do not directly use it.\n",
      "  warnings.warn(\"DataFrame constructor is internal. Do not directly use it.\")\n",
      "/mnt1/yarn/usercache/livy/appcache/application_1721017390557_0007/container_1721017390557_0007_01_000001/pyspark.zip/pyspark/sql/dataframe.py:170: UserWarning: DataFrame.sql_ctx is an internal property, and will be removed in future releases. Use DataFrame.sparkSession instead.\n",
      "  \"DataFrame.sql_ctx is an internal property, and will be removed \"\n",
      "/mnt1/yarn/usercache/livy/appcache/application_1721017390557_0007/container_1721017390557_0007_01_000001/pyspark.zip/pyspark/sql/dataframe.py:148: UserWarning: DataFrame constructor is internal. Do not directly use it.\n",
      "  warnings.warn(\"DataFrame constructor is internal. Do not directly use it.\")\n",
      "/mnt1/yarn/usercache/livy/appcache/application_1721017390557_0007/container_1721017390557_0007_01_000001/pyspark.zip/pyspark/sql/dataframe.py:170: UserWarning: DataFrame.sql_ctx is an internal property, and will be removed in future releases. Use DataFrame.sparkSession instead.\n",
      "  \"DataFrame.sql_ctx is an internal property, and will be removed \"\n",
      "/mnt1/yarn/usercache/livy/appcache/application_1721017390557_0007/container_1721017390557_0007_01_000001/pyspark.zip/pyspark/sql/dataframe.py:148: UserWarning: DataFrame constructor is internal. Do not directly use it.\n",
      "  warnings.warn(\"DataFrame constructor is internal. Do not directly use it.\")\n",
      "/mnt1/yarn/usercache/livy/appcache/application_1721017390557_0007/container_1721017390557_0007_01_000001/pyspark.zip/pyspark/sql/dataframe.py:170: UserWarning: DataFrame.sql_ctx is an internal property, and will be removed in future releases. Use DataFrame.sparkSession instead.\n",
      "  \"DataFrame.sql_ctx is an internal property, and will be removed \"\n",
      "/mnt1/yarn/usercache/livy/appcache/application_1721017390557_0007/container_1721017390557_0007_01_000001/pyspark.zip/pyspark/sql/dataframe.py:148: UserWarning: DataFrame constructor is internal. Do not directly use it.\n",
      "  warnings.warn(\"DataFrame constructor is internal. Do not directly use it.\")\n",
      "/mnt1/yarn/usercache/livy/appcache/application_1721017390557_0007/container_1721017390557_0007_01_000001/pyspark.zip/pyspark/sql/dataframe.py:170: UserWarning: DataFrame.sql_ctx is an internal property, and will be removed in future releases. Use DataFrame.sparkSession instead.\n",
      "  \"DataFrame.sql_ctx is an internal property, and will be removed \"\n",
      "/mnt1/yarn/usercache/livy/appcache/application_1721017390557_0007/container_1721017390557_0007_01_000001/pyspark.zip/pyspark/sql/dataframe.py:148: UserWarning: DataFrame constructor is internal. Do not directly use it.\n",
      "  warnings.warn(\"DataFrame constructor is internal. Do not directly use it.\")\n",
      "/mnt1/yarn/usercache/livy/appcache/application_1721017390557_0007/container_1721017390557_0007_01_000001/pyspark.zip/pyspark/sql/dataframe.py:170: UserWarning: DataFrame.sql_ctx is an internal property, and will be removed in future releases. Use DataFrame.sparkSession instead.\n",
      "  \"DataFrame.sql_ctx is an internal property, and will be removed \"\n",
      "/mnt1/yarn/usercache/livy/appcache/application_1721017390557_0007/container_1721017390557_0007_01_000001/pyspark.zip/pyspark/sql/dataframe.py:148: UserWarning: DataFrame constructor is internal. Do not directly use it.\n",
      "  warnings.warn(\"DataFrame constructor is internal. Do not directly use it.\")\n",
      "/mnt1/yarn/usercache/livy/appcache/application_1721017390557_0007/container_1721017390557_0007_01_000001/pyspark.zip/pyspark/sql/dataframe.py:170: UserWarning: DataFrame.sql_ctx is an internal property, and will be removed in future releases. Use DataFrame.sparkSession instead.\n",
      "  \"DataFrame.sql_ctx is an internal property, and will be removed \"\n",
      "/mnt1/yarn/usercache/livy/appcache/application_1721017390557_0007/container_1721017390557_0007_01_000001/pyspark.zip/pyspark/sql/dataframe.py:148: UserWarning: DataFrame constructor is internal. Do not directly use it.\n",
      "  warnings.warn(\"DataFrame constructor is internal. Do not directly use it.\")\n",
      "/mnt1/yarn/usercache/livy/appcache/application_1721017390557_0007/container_1721017390557_0007_01_000001/pyspark.zip/pyspark/sql/dataframe.py:170: UserWarning: DataFrame.sql_ctx is an internal property, and will be removed in future releases. Use DataFrame.sparkSession instead.\n",
      "  \"DataFrame.sql_ctx is an internal property, and will be removed \"\n",
      "/mnt1/yarn/usercache/livy/appcache/application_1721017390557_0007/container_1721017390557_0007_01_000001/pyspark.zip/pyspark/sql/dataframe.py:148: UserWarning: DataFrame constructor is internal. Do not directly use it.\n",
      "  warnings.warn(\"DataFrame constructor is internal. Do not directly use it.\")\n",
      "/mnt1/yarn/usercache/livy/appcache/application_1721017390557_0007/container_1721017390557_0007_01_000001/pyspark.zip/pyspark/sql/dataframe.py:170: UserWarning: DataFrame.sql_ctx is an internal property, and will be removed in future releases. Use DataFrame.sparkSession instead.\n",
      "  \"DataFrame.sql_ctx is an internal property, and will be removed \"\n",
      "/mnt1/yarn/usercache/livy/appcache/application_1721017390557_0007/container_1721017390557_0007_01_000001/pyspark.zip/pyspark/sql/dataframe.py:148: UserWarning: DataFrame constructor is internal. Do not directly use it.\n",
      "  warnings.warn(\"DataFrame constructor is internal. Do not directly use it.\")\n",
      "/mnt1/yarn/usercache/livy/appcache/application_1721017390557_0007/container_1721017390557_0007_01_000001/pyspark.zip/pyspark/sql/dataframe.py:170: UserWarning: DataFrame.sql_ctx is an internal property, and will be removed in future releases. Use DataFrame.sparkSession instead.\n",
      "  \"DataFrame.sql_ctx is an internal property, and will be removed \"\n",
      "/mnt1/yarn/usercache/livy/appcache/application_1721017390557_0007/container_1721017390557_0007_01_000001/pyspark.zip/pyspark/sql/dataframe.py:148: UserWarning: DataFrame constructor is internal. Do not directly use it.\n",
      "  warnings.warn(\"DataFrame constructor is internal. Do not directly use it.\")\n",
      "/mnt1/yarn/usercache/livy/appcache/application_1721017390557_0007/container_1721017390557_0007_01_000001/pyspark.zip/pyspark/sql/dataframe.py:170: UserWarning: DataFrame.sql_ctx is an internal property, and will be removed in future releases. Use DataFrame.sparkSession instead.\n",
      "  \"DataFrame.sql_ctx is an internal property, and will be removed \"\n",
      "/mnt1/yarn/usercache/livy/appcache/application_1721017390557_0007/container_1721017390557_0007_01_000001/pyspark.zip/pyspark/sql/dataframe.py:148: UserWarning: DataFrame constructor is internal. Do not directly use it.\n",
      "  warnings.warn(\"DataFrame constructor is internal. Do not directly use it.\")\n",
      "/mnt1/yarn/usercache/livy/appcache/application_1721017390557_0007/container_1721017390557_0007_01_000001/pyspark.zip/pyspark/sql/dataframe.py:170: UserWarning: DataFrame.sql_ctx is an internal property, and will be removed in future releases. Use DataFrame.sparkSession instead.\n",
      "  \"DataFrame.sql_ctx is an internal property, and will be removed \"\n",
      "/mnt1/yarn/usercache/livy/appcache/application_1721017390557_0007/container_1721017390557_0007_01_000001/pyspark.zip/pyspark/sql/dataframe.py:148: UserWarning: DataFrame constructor is internal. Do not directly use it.\n",
      "  warnings.warn(\"DataFrame constructor is internal. Do not directly use it.\")\n",
      "/mnt1/yarn/usercache/livy/appcache/application_1721017390557_0007/container_1721017390557_0007_01_000001/pyspark.zip/pyspark/sql/dataframe.py:170: UserWarning: DataFrame.sql_ctx is an internal property, and will be removed in future releases. Use DataFrame.sparkSession instead.\n",
      "  \"DataFrame.sql_ctx is an internal property, and will be removed \"\n",
      "/mnt1/yarn/usercache/livy/appcache/application_1721017390557_0007/container_1721017390557_0007_01_000001/pyspark.zip/pyspark/sql/dataframe.py:148: UserWarning: DataFrame constructor is internal. Do not directly use it.\n",
      "  warnings.warn(\"DataFrame constructor is internal. Do not directly use it.\")\n",
      "/mnt1/yarn/usercache/livy/appcache/application_1721017390557_0007/container_1721017390557_0007_01_000001/pyspark.zip/pyspark/sql/dataframe.py:170: UserWarning: DataFrame.sql_ctx is an internal property, and will be removed in future releases. Use DataFrame.sparkSession instead.\n",
      "  \"DataFrame.sql_ctx is an internal property, and will be removed \"\n",
      "/mnt1/yarn/usercache/livy/appcache/application_1721017390557_0007/container_1721017390557_0007_01_000001/pyspark.zip/pyspark/sql/dataframe.py:148: UserWarning: DataFrame constructor is internal. Do not directly use it.\n",
      "  warnings.warn(\"DataFrame constructor is internal. Do not directly use it.\")\n",
      "/mnt1/yarn/usercache/livy/appcache/application_1721017390557_0007/container_1721017390557_0007_01_000001/pyspark.zip/pyspark/sql/dataframe.py:170: UserWarning: DataFrame.sql_ctx is an internal property, and will be removed in future releases. Use DataFrame.sparkSession instead.\n",
      "  \"DataFrame.sql_ctx is an internal property, and will be removed \"\n",
      "/mnt1/yarn/usercache/livy/appcache/application_1721017390557_0007/container_1721017390557_0007_01_000001/pyspark.zip/pyspark/sql/dataframe.py:148: UserWarning: DataFrame constructor is internal. Do not directly use it.\n",
      "  warnings.warn(\"DataFrame constructor is internal. Do not directly use it.\")\n",
      "/mnt1/yarn/usercache/livy/appcache/application_1721017390557_0007/container_1721017390557_0007_01_000001/pyspark.zip/pyspark/sql/dataframe.py:170: UserWarning: DataFrame.sql_ctx is an internal property, and will be removed in future releases. Use DataFrame.sparkSession instead.\n",
      "  \"DataFrame.sql_ctx is an internal property, and will be removed \"\n",
      "/mnt1/yarn/usercache/livy/appcache/application_1721017390557_0007/container_1721017390557_0007_01_000001/pyspark.zip/pyspark/sql/dataframe.py:148: UserWarning: DataFrame constructor is internal. Do not directly use it.\n",
      "  warnings.warn(\"DataFrame constructor is internal. Do not directly use it.\")\n",
      "/mnt1/yarn/usercache/livy/appcache/application_1721017390557_0007/container_1721017390557_0007_01_000001/pyspark.zip/pyspark/sql/dataframe.py:170: UserWarning: DataFrame.sql_ctx is an internal property, and will be removed in future releases. Use DataFrame.sparkSession instead.\n",
      "  \"DataFrame.sql_ctx is an internal property, and will be removed \"\n",
      "/mnt1/yarn/usercache/livy/appcache/application_1721017390557_0007/container_1721017390557_0007_01_000001/pyspark.zip/pyspark/sql/dataframe.py:148: UserWarning: DataFrame constructor is internal. Do not directly use it.\n",
      "  warnings.warn(\"DataFrame constructor is internal. Do not directly use it.\")"
     ]
    }
   ],
   "source": [
    "# Calculate the largest strongly connected component for each airline\n",
    "airline_scc = [(airline, find_scc_components(g, airline))\n",
    "                for airline in airlines.to_pandas().index.tolist()]\n",
    "airline_scc_df = ps.DataFrame(airline_scc, columns=['id', 'sccCount'])\n",
    "# Join the SCC DataFrame with the airlines DataFrame so that we can show\n",
    "# the number of flights an airline has alongside the number of\n",
    "# airports reachable in its biggest component\n",
    "airline_reach = ps.merge(airline_scc_df, full_name_airlines, left_on=\"id\", right_on=\"code\", how='left'\n",
    "                        )[[\"code\", \"name\", \"flights\", \"sccCount\"]\n",
    "                         ].sort_values(\"sccCount\", ascending=False)"
   ]
  },
  {
   "cell_type": "markdown",
   "metadata": {},
   "source": [
    "Now let’s create a bar chart showing our airlines:"
   ]
  },
  {
   "cell_type": "code",
   "execution_count": 24,
   "metadata": {
    "tags": []
   },
   "outputs": [
    {
     "data": {
      "application/vnd.jupyter.widget-view+json": {
       "model_id": "b824aae8bc3249bc89baada6b17f11fb",
       "version_major": 2,
       "version_minor": 0
      },
      "text/plain": [
       "VBox()"
      ]
     },
     "metadata": {},
     "output_type": "display_data"
    },
    {
     "data": {
      "application/vnd.jupyter.widget-view+json": {
       "model_id": "",
       "version_major": 2,
       "version_minor": 0
      },
      "text/plain": [
       "FloatProgress(value=0.0, bar_style='info', description='Progress:', layout=Layout(height='25px', width='50%'),…"
      ]
     },
     "metadata": {},
     "output_type": "display_data"
    },
    {
     "name": "stderr",
     "output_type": "stream",
     "text": [
      "Exception in thread cell_monitor-16:\n",
      "Traceback (most recent call last):\n",
      "  File \"/mnt/notebook-env/lib/python3.7/threading.py\", line 926, in _bootstrap_inner\n",
      "    self.run()\n",
      "  File \"/mnt/notebook-env/lib/python3.7/threading.py\", line 870, in run\n",
      "    self._target(*self._args, **self._kwargs)\n",
      "  File \"/mnt/notebook-env/lib/python3.7/site-packages/awseditorssparkmonitoringwidget-1.0-py3.7.egg/awseditorssparkmonitoringwidget/cellmonitor.py\", line 178, in cell_monitor\n",
      "    job_binned_stages[job_id][stage_id] = all_stages[stage_id]\n",
      "KeyError: 72\n",
      "\n"
     ]
    },
    {
     "data": {
      "image/png": "[encoded data removed]",
      "text/plain": [
       "<IPython.core.display.Image object>"
      ]
     },
     "metadata": {},
     "output_type": "display_data"
    }
   ],
   "source": [
    "plt.clf()\n",
    "# airline_reach.plot(kind='bar', x='name', y='sccCount')\n",
    "# %matplot plt\n",
    "ax = (airline_reach.to_pandas().plot(kind='bar', x='name', y='sccCount', legend=None))\n",
    "ax.xaxis.set_label_text(\"\")\n",
    "plt.tight_layout()\n",
    "plt.show()\n",
    "%matplot plt"
   ]
  },
  {
   "cell_type": "markdown",
   "metadata": {},
   "source": [
    "SkyWest has the largest community, with over 200 strongly connected airports. This\n",
    "might partially reflect its business model as an affiliate airline which operates aircraft\n",
    "used on flights for partner airlines. Southwest, on the other hand, has the highest\n",
    "number of flights but only connects around 80 airports.  \n",
    "Now let’s write a function that uses the `Strongly Connected Components` algorithm to\n",
    "find airport groupings for each airline where all the airports have flights to and from\n",
    "all the other airports in that group:"
   ]
  },
  {
   "cell_type": "markdown",
   "metadata": {},
   "source": [
    "Now let’s say most of the frequent flyer points we have are with Delta Airlines (DL).\n",
    "Can we find airports that form communities within the network for that particular\n",
    "airline carrier?"
   ]
  },
  {
   "cell_type": "code",
   "execution_count": 25,
   "metadata": {
    "tags": []
   },
   "outputs": [
    {
     "data": {
      "application/vnd.jupyter.widget-view+json": {
       "model_id": "491eac7db3be4f63afa49442bc6cecad",
       "version_major": 2,
       "version_minor": 0
      },
      "text/plain": [
       "VBox()"
      ]
     },
     "metadata": {},
     "output_type": "display_data"
    },
    {
     "data": {
      "application/vnd.jupyter.widget-view+json": {
       "model_id": "",
       "version_major": 2,
       "version_minor": 0
      },
      "text/plain": [
       "FloatProgress(value=0.0, bar_style='info', description='Progress:', layout=Layout(height='25px', width='50%'),…"
      ]
     },
     "metadata": {},
     "output_type": "display_data"
    },
    {
     "name": "stderr",
     "output_type": "stream",
     "text": [
      "Exception in thread cell_monitor-17:\n",
      "Traceback (most recent call last):\n",
      "  File \"/mnt/notebook-env/lib/python3.7/threading.py\", line 926, in _bootstrap_inner\n",
      "    self.run()\n",
      "  File \"/mnt/notebook-env/lib/python3.7/threading.py\", line 870, in run\n",
      "    self._target(*self._args, **self._kwargs)\n",
      "  File \"/mnt/notebook-env/lib/python3.7/site-packages/awseditorssparkmonitoringwidget-1.0-py3.7.egg/awseditorssparkmonitoringwidget/cellmonitor.py\", line 178, in cell_monitor\n",
      "    job_binned_stages[job_id][stage_id] = all_stages[stage_id]\n",
      "KeyError: 96\n",
      "\n"
     ]
    },
    {
     "name": "stdout",
     "output_type": "stream",
     "text": [
      "+-------------+----------------------------------------------------------------------+-----+\n",
      "|        label|                                                              airports|count|\n",
      "+-------------+----------------------------------------------------------------------+-----+\n",
      "|1606317768706|[OMA, ICT, GNV, MEM, CLE, LFT, EWR, DAL, MYR, MDT, IAH, ELP, CAE, P...|   89|\n",
      "|1219770712067|[BOS, OAK, OGG, MCI, MSN, PHX, GEG, SFO, LAX, CVG, JNU, BOI, KOA, D...|   53|\n",
      "|            0|                                                                 [BGM]|    1|\n",
      "|            1|                                                                 [CNU]|    1|\n",
      "|            2|                                                                 [DAW]|    1|\n",
      "|            3|                                                                 [FMY]|    1|\n",
      "|            4|                                                                 [LEB]|    1|\n",
      "|            5|                                                                 [OXC]|    1|\n",
      "|            6|                                                                 [RKP]|    1|\n",
      "|   8589934592|                                                                 [4A7]|    1|\n",
      "+-------------+----------------------------------------------------------------------+-----+\n",
      "only showing top 10 rows\n",
      "\n",
      "/mnt1/yarn/usercache/livy/appcache/application_1721017390557_0007/container_1721017390557_0007_01_000001/pyspark.zip/pyspark/sql/dataframe.py:170: UserWarning: DataFrame.sql_ctx is an internal property, and will be removed in future releases. Use DataFrame.sparkSession instead.\n",
      "  \"DataFrame.sql_ctx is an internal property, and will be removed \"\n",
      "/mnt1/yarn/usercache/livy/appcache/application_1721017390557_0007/container_1721017390557_0007_01_000001/pyspark.zip/pyspark/sql/dataframe.py:148: UserWarning: DataFrame constructor is internal. Do not directly use it.\n",
      "  warnings.warn(\"DataFrame constructor is internal. Do not directly use it.\")"
     ]
    }
   ],
   "source": [
    "airline_relationships = g.edges.filter(\"airline = 'DL'\")\n",
    "airline_graph = GraphFrame(g.vertices, airline_relationships)\n",
    "clusters = airline_graph.labelPropagation(maxIter=10)\n",
    "(clusters\n",
    "    .sort(\"label\")\n",
    "    .groupby(\"label\")\n",
    "    .agg(F.collect_list(\"id\").alias(\"airports\"),\n",
    "    F.count(\"id\").alias(\"count\"))\n",
    "    .sort(\"count\", ascending=False)\n",
    "    .show(truncate=70, n=10))"
   ]
  },
  {
   "cell_type": "markdown",
   "metadata": {},
   "source": [
    "Most of the airports DL uses have clustered into two groups; let’s drill down into\n",
    "those. There are too many airports to show here, so we’ll just show the airports with\n",
    "the biggest degree (ingoing and outgoing flights). We can write the following code to\n",
    "calculate airport degree:"
   ]
  },
  {
   "cell_type": "code",
   "execution_count": 26,
   "metadata": {
    "tags": []
   },
   "outputs": [
    {
     "data": {
      "application/vnd.jupyter.widget-view+json": {
       "model_id": "",
       "version_major": 2,
       "version_minor": 0
      },
      "text/plain": [
       "FloatProgress(value=0.0, bar_style='info', description='Progress:', layout=Layout(height='25px', width='50%'),…"
      ]
     },
     "metadata": {},
     "output_type": "display_data"
    },
    {
     "data": {
      "text/html": [
       "<table><tr><th>id</th><th>name</th><th>degree</th></tr><tr><td>DFW</td><td>Dallas Fort Worth...</td><td>47514</td></tr><tr><td>CLT</td><td>Charlotte Douglas...</td><td>40495</td></tr><tr><td>IAH</td><td>George Bush Inter...</td><td>28814</td></tr><tr><td>EWR</td><td>Newark Liberty In...</td><td>25131</td></tr><tr><td>PHL</td><td>Philadelphia Inte...</td><td>20804</td></tr><tr><td>BWI</td><td>Baltimore/Washing...</td><td>18989</td></tr><tr><td>MDW</td><td>Chicago Midway In...</td><td>15178</td></tr><tr><td>BNA</td><td>Nashville Interna...</td><td>12455</td></tr><tr><td>DAL</td><td>Dallas Love Field</td><td>12084</td></tr><tr><td>IAD</td><td>Washington Dulles...</td><td>11566</td></tr><tr><td>STL</td><td>Lambert St Louis ...</td><td>11439</td></tr><tr><td>HOU</td><td>William P Hobby A...</td><td>9742</td></tr><tr><td>IND</td><td>Indianapolis Inte...</td><td>8543</td></tr><tr><td>PIT</td><td>Pittsburgh Intern...</td><td>8410</td></tr><tr><td>CLE</td><td>Cleveland Hopkins...</td><td>8238</td></tr><tr><td>CMH</td><td>Port Columbus Int...</td><td>7640</td></tr><tr><td>SAT</td><td>San Antonio Inter...</td><td>6532</td></tr><tr><td>JAX</td><td>Jacksonville Inte...</td><td>5495</td></tr><tr><td>BDL</td><td>Bradley Internati...</td><td>4866</td></tr><tr><td>RSW</td><td>Southwest Florida...</td><td>4569</td></tr></table><br /><pre>only showing top 20 rows\n",
       "\n",
       "/mnt1/yarn/usercache/livy/appcache/application_1721017390557_0007/container_1721017390557_0007_01_000001/pyspark.zip/pyspark/pandas/utils.py:975: PandasAPIOnSparkAdviceWarning: If `index_col` is not specified for `to_spark`, the existing index is lost when converting to Spark DataFrame.\n",
       "  warnings.warn(message, PandasAPIOnSparkAdviceWarning)</pre>"
      ],
      "text/plain": [
       "<IPython.core.display.HTML object>"
      ]
     },
     "metadata": {},
     "output_type": "display_data"
    }
   ],
   "source": [
    "%%pretty\n",
    "all_flights = g.degrees.pandas_api().rename(columns={\"id\": \"aId\"})\n",
    "clusters_ps = clusters.pandas_api()\n",
    "(ps.merge(clusters_ps[clusters_ps.label==\"1606317768706\"], all_flights, left_on=\"id\", right_on=\"aId\")\n",
    "    .sort_values(\"degree\", ascending=False)\n",
    "    [[\"id\", \"name\", \"degree\"]]\n",
    "    .to_spark().show(20))"
   ]
  },
  {
   "cell_type": "markdown",
   "metadata": {},
   "source": [
    "we can see that this cluster is actually focused on the East Coast to the\n",
    "Midwest of the United States."
   ]
  },
  {
   "cell_type": "markdown",
   "metadata": {},
   "source": [
    "And now let’s do the same thing with the second-largest cluster:"
   ]
  },
  {
   "cell_type": "code",
   "execution_count": 27,
   "metadata": {
    "tags": []
   },
   "outputs": [
    {
     "data": {
      "application/vnd.jupyter.widget-view+json": {
       "model_id": "",
       "version_major": 2,
       "version_minor": 0
      },
      "text/plain": [
       "FloatProgress(value=0.0, bar_style='info', description='Progress:', layout=Layout(height='25px', width='50%'),…"
      ]
     },
     "metadata": {},
     "output_type": "display_data"
    },
    {
     "data": {
      "text/html": [
       "<table><tr><th>id</th><th>name</th><th>degree</th></tr><tr><td>ATL</td><td>Hartsfield Jackso...</td><td>67672</td></tr><tr><td>ORD</td><td>Chicago O'Hare In...</td><td>56681</td></tr><tr><td>DEN</td><td>Denver Internatio...</td><td>39671</td></tr><tr><td>LAX</td><td>Los Angeles Inter...</td><td>38116</td></tr><tr><td>PHX</td><td>Phoenix Sky Harbo...</td><td>30206</td></tr><tr><td>SFO</td><td>San Francisco Int...</td><td>29865</td></tr><tr><td>LGA</td><td>La Guardia Airport</td><td>29416</td></tr><tr><td>LAS</td><td>McCarran Internat...</td><td>27801</td></tr><tr><td>DTW</td><td>Detroit Metropoli...</td><td>27477</td></tr><tr><td>MSP</td><td>Minneapolis-St Pa...</td><td>27163</td></tr><tr><td>BOS</td><td>General Edward La...</td><td>26214</td></tr><tr><td>SEA</td><td>Seattle Tacoma In...</td><td>24098</td></tr><tr><td>MCO</td><td>Orlando Internati...</td><td>23442</td></tr><tr><td>JFK</td><td>John F Kennedy In...</td><td>22294</td></tr><tr><td>DCA</td><td>Ronald Reagan Was...</td><td>22244</td></tr><tr><td>SLC</td><td>Salt Lake City In...</td><td>18661</td></tr><tr><td>FLL</td><td>Fort Lauderdale H...</td><td>16364</td></tr><tr><td>SAN</td><td>San Diego Interna...</td><td>15401</td></tr><tr><td>MIA</td><td>Miami Internation...</td><td>14869</td></tr><tr><td>TPA</td><td>Tampa Internation...</td><td>12509</td></tr></table><br /><pre>only showing top 20 rows</pre>"
      ],
      "text/plain": [
       "<IPython.core.display.HTML object>"
      ]
     },
     "metadata": {},
     "output_type": "display_data"
    }
   ],
   "source": [
    "%%pretty\n",
    "(ps.merge(clusters_ps[clusters_ps.label==\"1219770712067\"], all_flights, left_on=\"id\", right_on=\"aId\")\n",
    "    .sort_values(\"degree\", ascending=False)\n",
    "    [[\"id\", \"name\", \"degree\"]]\n",
    "    .to_spark().show(20))"
   ]
  },
  {
   "cell_type": "code",
   "execution_count": null,
   "metadata": {},
   "outputs": [],
   "source": []
  }
 ],
 "metadata": {
  "kernelspec": {
   "display_name": "PySpark",
   "language": "python",
   "name": "pysparkkernel"
  },
  "language_info": {
   "codemirror_mode": {
    "name": "python",
    "version": 3
   },
   "file_extension": ".py",
   "mimetype": "text/x-python",
   "name": "pyspark",
   "pygments_lexer": "python3"
  },
  "name": "GraphFrames - Graph Theory with PySpark",
  "notebookId": 1273085681747868
 },
 "nbformat": 4,
 "nbformat_minor": 4
}
