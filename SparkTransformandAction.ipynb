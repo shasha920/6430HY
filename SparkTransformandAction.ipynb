{
 "cells": [
  {
   "cell_type": "code",
   "execution_count": 1,
   "id": "2a0341da",
   "metadata": {},
   "outputs": [
    {
     "data": {
      "application/vnd.jupyter.widget-view+json": {
       "model_id": "5013be21c5c1447f9fca4e56b6909690",
       "version_major": 2,
       "version_minor": 0
      },
      "text/plain": [
       "VBox()"
      ]
     },
     "metadata": {},
     "output_type": "display_data"
    },
    {
     "name": "stdout",
     "output_type": "stream",
     "text": [
      "Starting Spark application\n"
     ]
    },
    {
     "data": {
      "text/html": [
       "<table>\n",
       "<tr><th>ID</th><th>YARN Application ID</th><th>Kind</th><th>State</th><th>Spark UI</th><th>Driver log</th><th>User</th><th>Current session?</th></tr><tr><td>0</td><td>application_1720405586451_0001</td><td>pyspark</td><td>idle</td><td><a target=\"_blank\" href=\"http://ip-172-31-3-239.ec2.internal:20888/proxy/application_1720405586451_0001/\" class=\"emr-proxy-link\" emr-resource=\"j-2QVMCA1VDPGWB\n",
       "\" application-id=\"application_1720405586451_0001\">Link</a></td><td><a target=\"_blank\" href=\"http://ip-172-31-7-127.ec2.internal:8042/node/containerlogs/container_1720405586451_0001_01_000001/livy\" >Link</a></td><td>None</td><td>✔</td></tr></table>"
      ],
      "text/plain": [
       "<IPython.core.display.HTML object>"
      ]
     },
     "metadata": {},
     "output_type": "display_data"
    },
    {
     "data": {
      "application/vnd.jupyter.widget-view+json": {
       "model_id": "",
       "version_major": 2,
       "version_minor": 0
      },
      "text/plain": [
       "FloatProgress(value=0.0, bar_style='info', description='Progress:', layout=Layout(height='25px', width='50%'),…"
      ]
     },
     "metadata": {},
     "output_type": "display_data"
    },
    {
     "name": "stdout",
     "output_type": "stream",
     "text": [
      "SparkSession available as 'spark'.\n"
     ]
    },
    {
     "data": {
      "application/vnd.jupyter.widget-view+json": {
       "model_id": "",
       "version_major": 2,
       "version_minor": 0
      },
      "text/plain": [
       "FloatProgress(value=0.0, bar_style='info', description='Progress:', layout=Layout(height='25px', width='50%'),…"
      ]
     },
     "metadata": {},
     "output_type": "display_data"
    },
    {
     "name": "stdout",
     "output_type": "stream",
     "text": [
      "'3.4.0-amzn-0'"
     ]
    }
   ],
   "source": [
    "sc.version"
   ]
  },
  {
   "cell_type": "code",
   "execution_count": 2,
   "id": "6037b7cd",
   "metadata": {},
   "outputs": [
    {
     "data": {
      "application/vnd.jupyter.widget-view+json": {
       "model_id": "46b05e00b0c540f4bb53455ae8308016",
       "version_major": 2,
       "version_minor": 0
      },
      "text/plain": [
       "VBox()"
      ]
     },
     "metadata": {},
     "output_type": "display_data"
    },
    {
     "data": {
      "application/vnd.jupyter.widget-view+json": {
       "model_id": "",
       "version_major": 2,
       "version_minor": 0
      },
      "text/plain": [
       "FloatProgress(value=0.0, bar_style='info', description='Progress:', layout=Layout(height='25px', width='50%'),…"
      ]
     },
     "metadata": {},
     "output_type": "display_data"
    },
    {
     "name": "stdout",
     "output_type": "stream",
     "text": [
      "<pyspark.sql.session.SparkSession object at 0x7f36312ca350>"
     ]
    }
   ],
   "source": [
    "spark"
   ]
  },
  {
   "cell_type": "code",
   "execution_count": 3,
   "id": "305d57c1",
   "metadata": {},
   "outputs": [
    {
     "data": {
      "application/vnd.jupyter.widget-view+json": {
       "model_id": "19b53bdbd2dd45319961bc4722568dbb",
       "version_major": 2,
       "version_minor": 0
      },
      "text/plain": [
       "VBox()"
      ]
     },
     "metadata": {},
     "output_type": "display_data"
    },
    {
     "data": {
      "application/vnd.jupyter.widget-view+json": {
       "model_id": "",
       "version_major": 2,
       "version_minor": 0
      },
      "text/plain": [
       "FloatProgress(value=0.0, bar_style='info', description='Progress:', layout=Layout(height='25px', width='50%'),…"
      ]
     },
     "metadata": {},
     "output_type": "display_data"
    }
   ],
   "source": [
    "myRDD=sc.parallelize(\n",
    "[('Mike',19),('June',18),('Rechel',16),('Rob',18),('Scott',17),('Jack',25)])"
   ]
  },
  {
   "cell_type": "code",
   "execution_count": 4,
   "id": "b63d250c",
   "metadata": {},
   "outputs": [
    {
     "data": {
      "application/vnd.jupyter.widget-view+json": {
       "model_id": "e4a158d491904ab6afb24f4187bfe576",
       "version_major": 2,
       "version_minor": 0
      },
      "text/plain": [
       "VBox()"
      ]
     },
     "metadata": {},
     "output_type": "display_data"
    },
    {
     "data": {
      "application/vnd.jupyter.widget-view+json": {
       "model_id": "",
       "version_major": 2,
       "version_minor": 0
      },
      "text/plain": [
       "FloatProgress(value=0.0, bar_style='info', description='Progress:', layout=Layout(height='25px', width='50%'),…"
      ]
     },
     "metadata": {},
     "output_type": "display_data"
    },
    {
     "name": "stdout",
     "output_type": "stream",
     "text": [
      "[('Mike', 19), ('June', 18), ('Rechel', 16), ('Rob', 18), ('Scott', 17), ('Jack', 25)]"
     ]
    }
   ],
   "source": [
    "myRDD.collect()"
   ]
  },
  {
   "cell_type": "code",
   "execution_count": 5,
   "id": "da5258a9",
   "metadata": {},
   "outputs": [
    {
     "data": {
      "application/vnd.jupyter.widget-view+json": {
       "model_id": "cff84fe6e08240d28561cd999b38daac",
       "version_major": 2,
       "version_minor": 0
      },
      "text/plain": [
       "VBox()"
      ]
     },
     "metadata": {},
     "output_type": "display_data"
    },
    {
     "data": {
      "application/vnd.jupyter.widget-view+json": {
       "model_id": "",
       "version_major": 2,
       "version_minor": 0
      },
      "text/plain": [
       "FloatProgress(value=0.0, bar_style='info', description='Progress:', layout=Layout(height='25px', width='50%'),…"
      ]
     },
     "metadata": {},
     "output_type": "display_data"
    },
    {
     "name": "stdout",
     "output_type": "stream",
     "text": [
      "[('Mike', 19), ('June', 18), ('Rechel', 16)]"
     ]
    }
   ],
   "source": [
    "myRDD.take(3)"
   ]
  },
  {
   "cell_type": "code",
   "execution_count": 7,
   "id": "b31d4001",
   "metadata": {},
   "outputs": [
    {
     "data": {
      "application/vnd.jupyter.widget-view+json": {
       "model_id": "f88eedce51ab47de8987ddada9bc1fe4",
       "version_major": 2,
       "version_minor": 0
      },
      "text/plain": [
       "VBox()"
      ]
     },
     "metadata": {},
     "output_type": "display_data"
    },
    {
     "data": {
      "application/vnd.jupyter.widget-view+json": {
       "model_id": "",
       "version_major": 2,
       "version_minor": 0
      },
      "text/plain": [
       "FloatProgress(value=0.0, bar_style='info', description='Progress:', layout=Layout(height='25px', width='50%'),…"
      ]
     },
     "metadata": {},
     "output_type": "display_data"
    },
    {
     "name": "stdout",
     "output_type": "stream",
     "text": [
      "2"
     ]
    }
   ],
   "source": [
    "myRDD.getNumPartitions()"
   ]
  },
  {
   "cell_type": "code",
   "execution_count": 13,
   "id": "cc3950bd",
   "metadata": {},
   "outputs": [
    {
     "data": {
      "application/vnd.jupyter.widget-view+json": {
       "model_id": "8fc78ec52b3143c0a82deccb25d5c101",
       "version_major": 2,
       "version_minor": 0
      },
      "text/plain": [
       "VBox()"
      ]
     },
     "metadata": {},
     "output_type": "display_data"
    },
    {
     "data": {
      "application/vnd.jupyter.widget-view+json": {
       "model_id": "",
       "version_major": 2,
       "version_minor": 0
      },
      "text/plain": [
       "FloatProgress(value=0.0, bar_style='info', description='Progress:', layout=Layout(height='25px', width='50%'),…"
      ]
     },
     "metadata": {},
     "output_type": "display_data"
    },
    {
     "name": "stdout",
     "output_type": "stream",
     "text": [
      "['City\\tState\\tCountry\\tIATA', 'Abbotsford\\tBC\\tCanada\\tYXX', 'Aberdeen\\tSD\\tUSA\\tABR', 'Abilene\\tTX\\tUSA\\tABI', 'Akron\\tOH\\tUSA\\tCAK']"
     ]
    }
   ],
   "source": [
    "airports=sc.textFile('s3://cis4567-salehan/Spark/Data/airport-codes-na.txt')\n",
    "airports.take(5)"
   ]
  },
  {
   "cell_type": "code",
   "execution_count": 9,
   "id": "8d9876cd",
   "metadata": {},
   "outputs": [
    {
     "data": {
      "application/vnd.jupyter.widget-view+json": {
       "model_id": "f571668dffb6423694a5e8bc1bc6c1c8",
       "version_major": 2,
       "version_minor": 0
      },
      "text/plain": [
       "VBox()"
      ]
     },
     "metadata": {},
     "output_type": "display_data"
    },
    {
     "data": {
      "application/vnd.jupyter.widget-view+json": {
       "model_id": "",
       "version_major": 2,
       "version_minor": 0
      },
      "text/plain": [
       "FloatProgress(value=0.0, bar_style='info', description='Progress:', layout=Layout(height='25px', width='50%'),…"
      ]
     },
     "metadata": {},
     "output_type": "display_data"
    },
    {
     "name": "stdout",
     "output_type": "stream",
     "text": [
      "2"
     ]
    }
   ],
   "source": [
    "airports.getNumPartitions()"
   ]
  },
  {
   "cell_type": "code",
   "execution_count": 10,
   "id": "59545c47",
   "metadata": {},
   "outputs": [
    {
     "data": {
      "application/vnd.jupyter.widget-view+json": {
       "model_id": "d7e6bdfb03b2477bbc789d36e113c5a0",
       "version_major": 2,
       "version_minor": 0
      },
      "text/plain": [
       "VBox()"
      ]
     },
     "metadata": {},
     "output_type": "display_data"
    },
    {
     "data": {
      "application/vnd.jupyter.widget-view+json": {
       "model_id": "",
       "version_major": 2,
       "version_minor": 0
      },
      "text/plain": [
       "FloatProgress(value=0.0, bar_style='info', description='Progress:', layout=Layout(height='25px', width='50%'),…"
      ]
     },
     "metadata": {},
     "output_type": "display_data"
    },
    {
     "name": "stdout",
     "output_type": "stream",
     "text": [
      "527"
     ]
    }
   ],
   "source": [
    "airports.count()"
   ]
  },
  {
   "cell_type": "code",
   "execution_count": 14,
   "id": "4d793849",
   "metadata": {},
   "outputs": [
    {
     "data": {
      "application/vnd.jupyter.widget-view+json": {
       "model_id": "cdaaebce3f10404ea8876b0d05079ed2",
       "version_major": 2,
       "version_minor": 0
      },
      "text/plain": [
       "VBox()"
      ]
     },
     "metadata": {},
     "output_type": "display_data"
    },
    {
     "data": {
      "application/vnd.jupyter.widget-view+json": {
       "model_id": "",
       "version_major": 2,
       "version_minor": 0
      },
      "text/plain": [
       "FloatProgress(value=0.0, bar_style='info', description='Progress:', layout=Layout(height='25px', width='50%'),…"
      ]
     },
     "metadata": {},
     "output_type": "display_data"
    },
    {
     "name": "stdout",
     "output_type": "stream",
     "text": [
      "[['City', 'State', 'Country', 'IATA'], ['Abbotsford', 'BC', 'Canada', 'YXX'], ['Aberdeen', 'SD', 'USA', 'ABR'], ['Abilene', 'TX', 'USA', 'ABI'], ['Akron', 'OH', 'USA', 'CAK']]"
     ]
    }
   ],
   "source": [
    "airports=airports.map(\n",
    "lambda line: line.split(\"\\t\"))\n",
    "airports.take(5)"
   ]
  },
  {
   "cell_type": "code",
   "execution_count": 15,
   "id": "484ff756",
   "metadata": {},
   "outputs": [
    {
     "data": {
      "application/vnd.jupyter.widget-view+json": {
       "model_id": "33424f93da5a44f4bb1a69d4751c9513",
       "version_major": 2,
       "version_minor": 0
      },
      "text/plain": [
       "VBox()"
      ]
     },
     "metadata": {},
     "output_type": "display_data"
    },
    {
     "data": {
      "application/vnd.jupyter.widget-view+json": {
       "model_id": "",
       "version_major": 2,
       "version_minor": 0
      },
      "text/plain": [
       "FloatProgress(value=0.0, bar_style='info', description='Progress:', layout=Layout(height='25px', width='50%'),…"
      ]
     },
     "metadata": {},
     "output_type": "display_data"
    },
    {
     "name": "stdout",
     "output_type": "stream",
     "text": [
      "2"
     ]
    }
   ],
   "source": [
    "flights=sc.textFile('s3://cis4567-salehan/Spark/Data/departuredelays.csv')\n",
    "flights.getNumPartitions()"
   ]
  },
  {
   "cell_type": "code",
   "execution_count": 16,
   "id": "e7880401",
   "metadata": {},
   "outputs": [
    {
     "data": {
      "application/vnd.jupyter.widget-view+json": {
       "model_id": "60190d8d0452422aaacc75281b43809f",
       "version_major": 2,
       "version_minor": 0
      },
      "text/plain": [
       "VBox()"
      ]
     },
     "metadata": {},
     "output_type": "display_data"
    },
    {
     "data": {
      "application/vnd.jupyter.widget-view+json": {
       "model_id": "",
       "version_major": 2,
       "version_minor": 0
      },
      "text/plain": [
       "FloatProgress(value=0.0, bar_style='info', description='Progress:', layout=Layout(height='25px', width='50%'),…"
      ]
     },
     "metadata": {},
     "output_type": "display_data"
    },
    {
     "name": "stdout",
     "output_type": "stream",
     "text": [
      "['date,delay,distance,origin,destination', '01011245,6,602,ABE,ATL', '01020600,-8,369,ABE,DTW', '01021245,-2,602,ABE,ATL', '01020605,-4,602,ABE,ATL']"
     ]
    }
   ],
   "source": [
    "flights.take(5)"
   ]
  },
  {
   "cell_type": "code",
   "execution_count": 18,
   "id": "7a3a305d",
   "metadata": {},
   "outputs": [
    {
     "data": {
      "application/vnd.jupyter.widget-view+json": {
       "model_id": "4467415e96484aa7a829eb23abb10a83",
       "version_major": 2,
       "version_minor": 0
      },
      "text/plain": [
       "VBox()"
      ]
     },
     "metadata": {},
     "output_type": "display_data"
    },
    {
     "data": {
      "application/vnd.jupyter.widget-view+json": {
       "model_id": "",
       "version_major": 2,
       "version_minor": 0
      },
      "text/plain": [
       "FloatProgress(value=0.0, bar_style='info', description='Progress:', layout=Layout(height='25px', width='50%'),…"
      ]
     },
     "metadata": {},
     "output_type": "display_data"
    }
   ],
   "source": [
    "flights=sc.textFile(\n",
    "    's3://cis4567-salehan/Spark/Data/departuredelays.csv',\n",
    "minPartitions=8).map(\n",
    "lambda line:line.split(\",\"))"
   ]
  },
  {
   "cell_type": "code",
   "execution_count": 19,
   "id": "f70d502a",
   "metadata": {},
   "outputs": [
    {
     "data": {
      "application/vnd.jupyter.widget-view+json": {
       "model_id": "fd7399d085a94212b7c456813f2dcb31",
       "version_major": 2,
       "version_minor": 0
      },
      "text/plain": [
       "VBox()"
      ]
     },
     "metadata": {},
     "output_type": "display_data"
    },
    {
     "data": {
      "application/vnd.jupyter.widget-view+json": {
       "model_id": "",
       "version_major": 2,
       "version_minor": 0
      },
      "text/plain": [
       "FloatProgress(value=0.0, bar_style='info', description='Progress:', layout=Layout(height='25px', width='50%'),…"
      ]
     },
     "metadata": {},
     "output_type": "display_data"
    }
   ],
   "source": [
    "def split_by_comma(line):\n",
    "    return line.split(\",\")"
   ]
  },
  {
   "cell_type": "code",
   "execution_count": 20,
   "id": "b1137ed1",
   "metadata": {},
   "outputs": [
    {
     "data": {
      "application/vnd.jupyter.widget-view+json": {
       "model_id": "0465cd41c880409eac1f4a3be59b6539",
       "version_major": 2,
       "version_minor": 0
      },
      "text/plain": [
       "VBox()"
      ]
     },
     "metadata": {},
     "output_type": "display_data"
    },
    {
     "data": {
      "application/vnd.jupyter.widget-view+json": {
       "model_id": "",
       "version_major": 2,
       "version_minor": 0
      },
      "text/plain": [
       "FloatProgress(value=0.0, bar_style='info', description='Progress:', layout=Layout(height='25px', width='50%'),…"
      ]
     },
     "metadata": {},
     "output_type": "display_data"
    },
    {
     "name": "stdout",
     "output_type": "stream",
     "text": [
      "[['date', 'delay', 'distance', 'origin', 'destination'], ['01011245', '6', '602', 'ABE', 'ATL'], ['01020600', '-8', '369', 'ABE', 'DTW'], ['01021245', '-2', '602', 'ABE', 'ATL'], ['01020605', '-4', '602', 'ABE', 'ATL']]"
     ]
    }
   ],
   "source": [
    "sc.textFile(\n",
    "'s3://cis4567-salehan/Spark/Data/departuredelays.csv',\n",
    "minPartitions=8).map(split_by_comma).take(5)"
   ]
  },
  {
   "cell_type": "code",
   "execution_count": 22,
   "id": "04dae72e",
   "metadata": {},
   "outputs": [
    {
     "data": {
      "application/vnd.jupyter.widget-view+json": {
       "model_id": "a6b5c00a08b541d3b263569daec411e3",
       "version_major": 2,
       "version_minor": 0
      },
      "text/plain": [
       "VBox()"
      ]
     },
     "metadata": {},
     "output_type": "display_data"
    },
    {
     "data": {
      "application/vnd.jupyter.widget-view+json": {
       "model_id": "",
       "version_major": 2,
       "version_minor": 0
      },
      "text/plain": [
       "FloatProgress(value=0.0, bar_style='info', description='Progress:', layout=Layout(height='25px', width='50%'),…"
      ]
     },
     "metadata": {},
     "output_type": "display_data"
    },
    {
     "name": "stdout",
     "output_type": "stream",
     "text": [
      "8"
     ]
    }
   ],
   "source": [
    "flights.getNumPartitions()"
   ]
  },
  {
   "cell_type": "code",
   "execution_count": 23,
   "id": "00b16776",
   "metadata": {},
   "outputs": [
    {
     "data": {
      "application/vnd.jupyter.widget-view+json": {
       "model_id": "22ca2e761669445cb00766c069bacc92",
       "version_major": 2,
       "version_minor": 0
      },
      "text/plain": [
       "VBox()"
      ]
     },
     "metadata": {},
     "output_type": "display_data"
    },
    {
     "data": {
      "application/vnd.jupyter.widget-view+json": {
       "model_id": "",
       "version_major": 2,
       "version_minor": 0
      },
      "text/plain": [
       "FloatProgress(value=0.0, bar_style='info', description='Progress:', layout=Layout(height='25px', width='50%'),…"
      ]
     },
     "metadata": {},
     "output_type": "display_data"
    },
    {
     "name": "stdout",
     "output_type": "stream",
     "text": [
      "[('City', 'State'), ('Abbotsford', 'BC'), ('Aberdeen', 'SD'), ('Abilene', 'TX'), ('Akron', 'OH')]"
     ]
    }
   ],
   "source": [
    "airports.map(lambda c:(c[0],c[1])).take(5)"
   ]
  },
  {
   "cell_type": "code",
   "execution_count": 24,
   "id": "fa8add9f",
   "metadata": {},
   "outputs": [
    {
     "data": {
      "application/vnd.jupyter.widget-view+json": {
       "model_id": "010e4b345c3149ba82dab14652d3beb5",
       "version_major": 2,
       "version_minor": 0
      },
      "text/plain": [
       "VBox()"
      ]
     },
     "metadata": {},
     "output_type": "display_data"
    },
    {
     "data": {
      "application/vnd.jupyter.widget-view+json": {
       "model_id": "",
       "version_major": 2,
       "version_minor": 0
      },
      "text/plain": [
       "FloatProgress(value=0.0, bar_style='info', description='Progress:', layout=Layout(height='25px', width='50%'),…"
      ]
     },
     "metadata": {},
     "output_type": "display_data"
    },
    {
     "name": "stdout",
     "output_type": "stream",
     "text": [
      "[('Bellingham', 'WA'), ('Moses Lake', 'WA'), ('Pasco', 'WA'), ('Pullman', 'WA'), ('Seattle', 'WA')]"
     ]
    }
   ],
   "source": [
    "#filter function\n",
    "airports.map(lambda c:(c[0],c[1])).filter(lambda c:c[1]==\"WA\").take(5)"
   ]
  },
  {
   "cell_type": "code",
   "execution_count": 26,
   "id": "84bbb0b2",
   "metadata": {},
   "outputs": [
    {
     "data": {
      "application/vnd.jupyter.widget-view+json": {
       "model_id": "f7cb8d56a0a54bd0ab49c8b0cd6e9df9",
       "version_major": 2,
       "version_minor": 0
      },
      "text/plain": [
       "VBox()"
      ]
     },
     "metadata": {},
     "output_type": "display_data"
    },
    {
     "data": {
      "application/vnd.jupyter.widget-view+json": {
       "model_id": "",
       "version_major": 2,
       "version_minor": 0
      },
      "text/plain": [
       "FloatProgress(value=0.0, bar_style='info', description='Progress:', layout=Layout(height='25px', width='50%'),…"
      ]
     },
     "metadata": {},
     "output_type": "display_data"
    },
    {
     "name": "stdout",
     "output_type": "stream",
     "text": [
      "[('Bellingham', 'WA'), ('Moses Lake', 'WA'), ('Pasco', 'WA'), ('Pullman', 'WA'), ('Seattle', 'WA')]"
     ]
    }
   ],
   "source": [
    "def f(x):\n",
    "    if x[1]==\"WA\":\n",
    "        return True\n",
    "    return False\n",
    "\n",
    "(\n",
    "airports.map(lambda c:(c[0],c[1])).filter(f).take(5)\n",
    ")"
   ]
  },
  {
   "cell_type": "code",
   "execution_count": 27,
   "id": "de648765",
   "metadata": {},
   "outputs": [
    {
     "data": {
      "application/vnd.jupyter.widget-view+json": {
       "model_id": "57503d791c0e48b0ad525f313bcc3d89",
       "version_major": 2,
       "version_minor": 0
      },
      "text/plain": [
       "VBox()"
      ]
     },
     "metadata": {},
     "output_type": "display_data"
    },
    {
     "data": {
      "application/vnd.jupyter.widget-view+json": {
       "model_id": "",
       "version_major": 2,
       "version_minor": 0
      },
      "text/plain": [
       "FloatProgress(value=0.0, bar_style='info', description='Progress:', layout=Layout(height='25px', width='50%'),…"
      ]
     },
     "metadata": {},
     "output_type": "display_data"
    },
    {
     "name": "stdout",
     "output_type": "stream",
     "text": [
      "[('Bakersfield', 'CA'), ('Bellingham', 'WA'), ('Burbank', 'CA'), ('Carlsbad', 'CA'), ('Chico', 'CA'), ('El Centro', 'CA'), ('Eureka', 'CA'), ('Fresno', 'CA'), ('Inyokern', 'CA'), ('Long Beach', 'CA'), ('Los Angeles', 'CA'), ('Los Angeles', 'CA'), ('Modesto', 'CA'), ('Monterey', 'CA'), ('Moses Lake', 'WA'), ('Oakland', 'CA'), ('Ontario', 'CA'), ('Orange County', 'CA'), ('Oxnard', 'CA'), ('Palm Springs', 'CA'), ('Pasco', 'WA'), ('Pullman', 'WA'), ('Redding', 'CA'), ('Sacramento', 'CA'), ('San Diego', 'CA'), ('San Francisco', 'CA'), ('San Francisco', 'CA'), ('San Jose', 'CA'), ('San Luis Obispo', 'CA'), ('Santa Barbara', 'CA'), ('Santa Maria', 'CA'), ('Santa Rosa', 'CA'), ('Seattle', 'WA'), ('Spokane', 'WA'), ('Visalia', 'CA'), ('Walla Walla', 'WA'), ('Wenatchee', 'WA'), ('Yakima', 'WA')]"
     ]
    }
   ],
   "source": [
    "airports.map(lambda c:(c[0],c[1])).filter(lambda c:c[1]==\"WA\" or c[1]==\"CA\").collect()"
   ]
  },
  {
   "cell_type": "code",
   "execution_count": 28,
   "id": "b0e1acc4",
   "metadata": {},
   "outputs": [
    {
     "data": {
      "application/vnd.jupyter.widget-view+json": {
       "model_id": "7657b4163480470eaf399905fb77b105",
       "version_major": 2,
       "version_minor": 0
      },
      "text/plain": [
       "VBox()"
      ]
     },
     "metadata": {},
     "output_type": "display_data"
    },
    {
     "data": {
      "application/vnd.jupyter.widget-view+json": {
       "model_id": "",
       "version_major": 2,
       "version_minor": 0
      },
      "text/plain": [
       "FloatProgress(value=0.0, bar_style='info', description='Progress:', layout=Layout(height='25px', width='50%'),…"
      ]
     },
     "metadata": {},
     "output_type": "display_data"
    },
    {
     "name": "stdout",
     "output_type": "stream",
     "text": [
      "[('Bakersfield', 'CA'), ('Bellingham', 'WA'), ('Burbank', 'CA'), ('Carlsbad', 'CA'), ('Chico', 'CA')]"
     ]
    }
   ],
   "source": [
    "airports.map(lambda c:(c[0],c[1])).filter(lambda c:c[1] in (\"WA\", \"CA\")).take(5)"
   ]
  },
  {
   "cell_type": "code",
   "execution_count": 30,
   "id": "aa184a05",
   "metadata": {},
   "outputs": [
    {
     "data": {
      "application/vnd.jupyter.widget-view+json": {
       "model_id": "ef6b71a6c0d34c0091d21bbac19162e5",
       "version_major": 2,
       "version_minor": 0
      },
      "text/plain": [
       "VBox()"
      ]
     },
     "metadata": {},
     "output_type": "display_data"
    },
    {
     "data": {
      "application/vnd.jupyter.widget-view+json": {
       "model_id": "",
       "version_major": 2,
       "version_minor": 0
      },
      "text/plain": [
       "FloatProgress(value=0.0, bar_style='info', description='Progress:', layout=Layout(height='25px', width='50%'),…"
      ]
     },
     "metadata": {},
     "output_type": "display_data"
    },
    {
     "name": "stdout",
     "output_type": "stream",
     "text": [
      "['Country', 'USA', 'Canada']"
     ]
    }
   ],
   "source": [
    "#distinct function\n",
    "(\n",
    "airports.map(lambda c:c[2]).distinct().take(5)\n",
    ")"
   ]
  },
  {
   "cell_type": "code",
   "execution_count": 31,
   "id": "d6876cc9",
   "metadata": {},
   "outputs": [
    {
     "data": {
      "application/vnd.jupyter.widget-view+json": {
       "model_id": "bad8752140b44a8686d54aa0be71ba23",
       "version_major": 2,
       "version_minor": 0
      },
      "text/plain": [
       "VBox()"
      ]
     },
     "metadata": {},
     "output_type": "display_data"
    },
    {
     "data": {
      "application/vnd.jupyter.widget-view+json": {
       "model_id": "",
       "version_major": 2,
       "version_minor": 0
      },
      "text/plain": [
       "FloatProgress(value=0.0, bar_style='info', description='Progress:', layout=Layout(height='25px', width='50%'),…"
      ]
     },
     "metadata": {},
     "output_type": "display_data"
    },
    {
     "name": "stdout",
     "output_type": "stream",
     "text": [
      "['State', 'BC', 'SD', 'TX', 'OH', 'CO', 'NY', 'NM', 'LA', 'NE', 'AK', 'WI', 'NWT', 'NC', 'ME', 'PQ', 'CA', 'WV', 'MO', 'WY', 'SC', 'VA', 'PEI', 'TN', 'MB', 'NF', 'KS', 'AR', 'NS', 'HI', 'CT', 'Hawaii', 'RI', '', 'YT', 'DE', 'GA', 'PA', 'MI', 'NJ', 'MD', 'MA', 'WA', 'MN', 'MT', 'AL', 'ND', 'IL', 'IN', 'ID', 'IA', 'VT', 'AB', 'MS', 'FL', 'ON', 'NV', 'OK', 'OR', 'AZ', 'NB', 'Nunavut', 'NH', 'KY', 'SK', 'UT']"
     ]
    }
   ],
   "source": [
    "(airports.map(lambda c:c[1])).distinct().collect()"
   ]
  },
  {
   "cell_type": "code",
   "execution_count": 32,
   "id": "a59871ae",
   "metadata": {},
   "outputs": [
    {
     "data": {
      "application/vnd.jupyter.widget-view+json": {
       "model_id": "38a8515248d647858441c8833d0902b4",
       "version_major": 2,
       "version_minor": 0
      },
      "text/plain": [
       "VBox()"
      ]
     },
     "metadata": {},
     "output_type": "display_data"
    },
    {
     "data": {
      "application/vnd.jupyter.widget-view+json": {
       "model_id": "",
       "version_major": 2,
       "version_minor": 0
      },
      "text/plain": [
       "FloatProgress(value=0.0, bar_style='info', description='Progress:', layout=Layout(height='25px', width='50%'),…"
      ]
     },
     "metadata": {},
     "output_type": "display_data"
    },
    {
     "name": "stdout",
     "output_type": "stream",
     "text": [
      "1391579"
     ]
    }
   ],
   "source": [
    "#simple function\n",
    "flights.count()"
   ]
  },
  {
   "cell_type": "code",
   "execution_count": 35,
   "id": "316ed71b",
   "metadata": {},
   "outputs": [
    {
     "data": {
      "application/vnd.jupyter.widget-view+json": {
       "model_id": "2558f7bd66fe4fa1a9340380d349e8d9",
       "version_major": 2,
       "version_minor": 0
      },
      "text/plain": [
       "VBox()"
      ]
     },
     "metadata": {},
     "output_type": "display_data"
    },
    {
     "data": {
      "application/vnd.jupyter.widget-view+json": {
       "model_id": "",
       "version_major": 2,
       "version_minor": 0
      },
      "text/plain": [
       "FloatProgress(value=0.0, bar_style='info', description='Progress:', layout=Layout(height='25px', width='50%'),…"
      ]
     },
     "metadata": {},
     "output_type": "display_data"
    },
    {
     "name": "stdout",
     "output_type": "stream",
     "text": [
      "1405"
     ]
    }
   ],
   "source": [
    "(flights.map(lambda c:c[3]).sample(False,0.001,123).count())"
   ]
  },
  {
   "cell_type": "code",
   "execution_count": 36,
   "id": "7ef30150",
   "metadata": {},
   "outputs": [
    {
     "data": {
      "application/vnd.jupyter.widget-view+json": {
       "model_id": "5d2ab59bec544db3bf89c6baddbf61ad",
       "version_major": 2,
       "version_minor": 0
      },
      "text/plain": [
       "VBox()"
      ]
     },
     "metadata": {},
     "output_type": "display_data"
    },
    {
     "data": {
      "application/vnd.jupyter.widget-view+json": {
       "model_id": "",
       "version_major": 2,
       "version_minor": 0
      },
      "text/plain": [
       "FloatProgress(value=0.0, bar_style='info', description='Progress:', layout=Layout(height='25px', width='50%'),…"
      ]
     },
     "metadata": {},
     "output_type": "display_data"
    },
    {
     "name": "stdout",
     "output_type": "stream",
     "text": [
      "8"
     ]
    }
   ],
   "source": [
    "#repartition function\n",
    "flights.getNumPartitions()"
   ]
  },
  {
   "cell_type": "code",
   "execution_count": 39,
   "id": "58f26dfa",
   "metadata": {},
   "outputs": [
    {
     "data": {
      "application/vnd.jupyter.widget-view+json": {
       "model_id": "187168365ba84c4aa88257cc3f1bdc5a",
       "version_major": 2,
       "version_minor": 0
      },
      "text/plain": [
       "VBox()"
      ]
     },
     "metadata": {},
     "output_type": "display_data"
    },
    {
     "data": {
      "application/vnd.jupyter.widget-view+json": {
       "model_id": "",
       "version_major": 2,
       "version_minor": 0
      },
      "text/plain": [
       "FloatProgress(value=0.0, bar_style='info', description='Progress:', layout=Layout(height='25px', width='50%'),…"
      ]
     },
     "metadata": {},
     "output_type": "display_data"
    },
    {
     "name": "stdout",
     "output_type": "stream",
     "text": [
      "16"
     ]
    }
   ],
   "source": [
    "flights2=flights.repartition(16)\n",
    "flights2.getNumPartitions()"
   ]
  },
  {
   "cell_type": "code",
   "execution_count": 40,
   "id": "7b776e2a",
   "metadata": {},
   "outputs": [
    {
     "data": {
      "application/vnd.jupyter.widget-view+json": {
       "model_id": "71285b4a62fb478dbb577500617f0682",
       "version_major": 2,
       "version_minor": 0
      },
      "text/plain": [
       "VBox()"
      ]
     },
     "metadata": {},
     "output_type": "display_data"
    },
    {
     "data": {
      "application/vnd.jupyter.widget-view+json": {
       "model_id": "",
       "version_major": 2,
       "version_minor": 0
      },
      "text/plain": [
       "FloatProgress(value=0.0, bar_style='info', description='Progress:', layout=Layout(height='25px', width='50%'),…"
      ]
     },
     "metadata": {},
     "output_type": "display_data"
    },
    {
     "name": "stdout",
     "output_type": "stream",
     "text": [
      "[['Abbotsford', 'BC', 'Canada', 'YXX'], ['Aberdeen', 'SD', 'USA', 'ABR'], ['Abilene', 'TX', 'USA', 'ABI'], ['Akron', 'OH', 'USA', 'CAK'], ['Alamosa', 'CO', 'USA', 'ALS']]"
     ]
    }
   ],
   "source": [
    "#remove header\n",
    "header=airports.first()\n",
    "airports=airports.filter(lambda row:row!=header)\n",
    "airports.take(5)"
   ]
  },
  {
   "cell_type": "code",
   "execution_count": 41,
   "id": "7b7927c4",
   "metadata": {},
   "outputs": [
    {
     "data": {
      "application/vnd.jupyter.widget-view+json": {
       "model_id": "2f4cbea592374a62a30fd7a07d187466",
       "version_major": 2,
       "version_minor": 0
      },
      "text/plain": [
       "VBox()"
      ]
     },
     "metadata": {},
     "output_type": "display_data"
    },
    {
     "data": {
      "application/vnd.jupyter.widget-view+json": {
       "model_id": "",
       "version_major": 2,
       "version_minor": 0
      },
      "text/plain": [
       "FloatProgress(value=0.0, bar_style='info', description='Progress:', layout=Layout(height='25px', width='50%'),…"
      ]
     },
     "metadata": {},
     "output_type": "display_data"
    },
    {
     "name": "stdout",
     "output_type": "stream",
     "text": [
      "[['01011245', '6', '602', 'ABE', 'ATL'], ['01020600', '-8', '369', 'ABE', 'DTW'], ['01021245', '-2', '602', 'ABE', 'ATL'], ['01020605', '-4', '602', 'ABE', 'ATL'], ['01031245', '-4', '602', 'ABE', 'ATL']]"
     ]
    }
   ],
   "source": [
    "header=flights.first()\n",
    "flights=flights.filter(lambda row:row!=header)\n",
    "flights.take(5)"
   ]
  },
  {
   "cell_type": "code",
   "execution_count": 42,
   "id": "51680d52",
   "metadata": {},
   "outputs": [
    {
     "data": {
      "application/vnd.jupyter.widget-view+json": {
       "model_id": "0217667f0ffe4b60a16f177bf73e8710",
       "version_major": 2,
       "version_minor": 0
      },
      "text/plain": [
       "VBox()"
      ]
     },
     "metadata": {},
     "output_type": "display_data"
    },
    {
     "data": {
      "application/vnd.jupyter.widget-view+json": {
       "model_id": "",
       "version_major": 2,
       "version_minor": 0
      },
      "text/plain": [
       "FloatProgress(value=0.0, bar_style='info', description='Progress:', layout=Layout(height='25px', width='50%'),…"
      ]
     },
     "metadata": {},
     "output_type": "display_data"
    },
    {
     "name": "stdout",
     "output_type": "stream",
     "text": [
      "1391578"
     ]
    }
   ],
   "source": [
    "flights.count()"
   ]
  },
  {
   "cell_type": "code",
   "execution_count": 44,
   "id": "95f247aa",
   "metadata": {},
   "outputs": [
    {
     "data": {
      "application/vnd.jupyter.widget-view+json": {
       "model_id": "dcffc664b86d43aaa3521dbc3a0e6223",
       "version_major": 2,
       "version_minor": 0
      },
      "text/plain": [
       "VBox()"
      ]
     },
     "metadata": {},
     "output_type": "display_data"
    },
    {
     "data": {
      "application/vnd.jupyter.widget-view+json": {
       "model_id": "",
       "version_major": 2,
       "version_minor": 0
      },
      "text/plain": [
       "FloatProgress(value=0.0, bar_style='info', description='Progress:', layout=Layout(height='25px', width='50%'),…"
      ]
     },
     "metadata": {},
     "output_type": "display_data"
    },
    {
     "name": "stdout",
     "output_type": "stream",
     "text": [
      "[('ACT', 392), ('BMI', 7817), ('BPT', 1936), ('BZN', 7226), ('CRP', 10579)]"
     ]
    }
   ],
   "source": [
    "#reduceByKey function\n",
    "(flights.map(lambda c:(c[3],int(c[1]))).reduceByKey(lambda x,y:x+y).take(5))"
   ]
  },
  {
   "cell_type": "code",
   "execution_count": 46,
   "id": "53989ad8",
   "metadata": {},
   "outputs": [
    {
     "data": {
      "application/vnd.jupyter.widget-view+json": {
       "model_id": "431cb843e92e4d53bca1e13e28e818cb",
       "version_major": 2,
       "version_minor": 0
      },
      "text/plain": [
       "VBox()"
      ]
     },
     "metadata": {},
     "output_type": "display_data"
    },
    {
     "data": {
      "application/vnd.jupyter.widget-view+json": {
       "model_id": "",
       "version_major": 2,
       "version_minor": 0
      },
      "text/plain": [
       "FloatProgress(value=0.0, bar_style='info', description='Progress:', layout=Layout(height='25px', width='50%'),…"
      ]
     },
     "metadata": {},
     "output_type": "display_data"
    },
    {
     "name": "stdout",
     "output_type": "stream",
     "text": [
      "[('YUM', 1546), ('YAK', -1190), ('XNA', 31616), ('WRG', -450), ('VPS', 11967), ('VLD', 2598), ('TYS', 25690), ('TYR', 2358), ('TXK', 419), ('TWF', -449)]"
     ]
    }
   ],
   "source": [
    "#sortBy function\n",
    "(flights.map(lambda c:(c[3],int(c[1]))).reduceByKey(lambda x,y:x+y).sortByKey(False).take(10))"
   ]
  },
  {
   "cell_type": "code",
   "execution_count": 48,
   "id": "77216cb7",
   "metadata": {},
   "outputs": [
    {
     "data": {
      "application/vnd.jupyter.widget-view+json": {
       "model_id": "b4d1770c0e6947be9346f6aafaed6200",
       "version_major": 2,
       "version_minor": 0
      },
      "text/plain": [
       "VBox()"
      ]
     },
     "metadata": {},
     "output_type": "display_data"
    },
    {
     "data": {
      "application/vnd.jupyter.widget-view+json": {
       "model_id": "",
       "version_major": 2,
       "version_minor": 0
      },
      "text/plain": [
       "FloatProgress(value=0.0, bar_style='info', description='Progress:', layout=Layout(height='25px', width='50%'),…"
      ]
     },
     "metadata": {},
     "output_type": "display_data"
    },
    {
     "name": "stdout",
     "output_type": "stream",
     "text": [
      "[('ORD', 1193929), ('ATL', 1151087), ('DEN', 899406), ('DFW', 679249), ('IAH', 587978), ('LAX', 565490), ('SFO', 501670), ('EWR', 452791), ('MCO', 445070), ('LAS', 441797)]"
     ]
    }
   ],
   "source": [
    "(flights.map(lambda c:(c[3],int(c[1]))).reduceByKey(lambda x,y:x+y).sortBy(lambda x:x[1],False).take(10))"
   ]
  },
  {
   "cell_type": "code",
   "execution_count": 50,
   "id": "f129abdc",
   "metadata": {},
   "outputs": [
    {
     "data": {
      "application/vnd.jupyter.widget-view+json": {
       "model_id": "a3b4868e31e545838d69bf7af4a58115",
       "version_major": 2,
       "version_minor": 0
      },
      "text/plain": [
       "VBox()"
      ]
     },
     "metadata": {},
     "output_type": "display_data"
    },
    {
     "data": {
      "application/vnd.jupyter.widget-view+json": {
       "model_id": "",
       "version_major": 2,
       "version_minor": 0
      },
      "text/plain": [
       "FloatProgress(value=0.0, bar_style='info', description='Progress:', layout=Layout(height='25px', width='50%'),…"
      ]
     },
     "metadata": {},
     "output_type": "display_data"
    },
    {
     "name": "stdout",
     "output_type": "stream",
     "text": [
      "[('ATL', 91484), ('DFW', 68482), ('ORD', 64228), ('LAX', 54086), ('DEN', 53148), ('IAH', 43361), ('PHX', 40155), ('SFO', 39483), ('LAS', 33107), ('CLT', 28402)]"
     ]
    }
   ],
   "source": [
    "(flights.map(lambda c:(c[3],1)).reduceByKey(lambda x,y:x+y).sortBy(lambda x:x[1],False).take(10))"
   ]
  },
  {
   "cell_type": "code",
   "execution_count": 51,
   "id": "c29f4b96",
   "metadata": {},
   "outputs": [
    {
     "data": {
      "application/vnd.jupyter.widget-view+json": {
       "model_id": "9993747865744851b7ad040c122a92d8",
       "version_major": 2,
       "version_minor": 0
      },
      "text/plain": [
       "VBox()"
      ]
     },
     "metadata": {},
     "output_type": "display_data"
    },
    {
     "data": {
      "application/vnd.jupyter.widget-view+json": {
       "model_id": "",
       "version_major": 2,
       "version_minor": 0
      },
      "text/plain": [
       "FloatProgress(value=0.0, bar_style='info', description='Progress:', layout=Layout(height='25px', width='50%'),…"
      ]
     },
     "metadata": {},
     "output_type": "display_data"
    }
   ],
   "source": [
    "flt=flights.map(lambda c:(c[3],c[0]))\n",
    "air=airports.map(lambda c:(c[3],c[1]))\n",
    "output=flt.join(air)"
   ]
  },
  {
   "cell_type": "code",
   "execution_count": 52,
   "id": "f1c0bcaf",
   "metadata": {},
   "outputs": [
    {
     "data": {
      "application/vnd.jupyter.widget-view+json": {
       "model_id": "5648065a64694042bba752dd66a2207d",
       "version_major": 2,
       "version_minor": 0
      },
      "text/plain": [
       "VBox()"
      ]
     },
     "metadata": {},
     "output_type": "display_data"
    },
    {
     "data": {
      "application/vnd.jupyter.widget-view+json": {
       "model_id": "",
       "version_major": 2,
       "version_minor": 0
      },
      "text/plain": [
       "FloatProgress(value=0.0, bar_style='info', description='Progress:', layout=Layout(height='25px', width='50%'),…"
      ]
     },
     "metadata": {},
     "output_type": "display_data"
    },
    {
     "name": "stdout",
     "output_type": "stream",
     "text": [
      "[('AVP', ('01010640', 'PA')), ('AVP', ('01010550', 'PA')), ('AVP', ('01020545', 'PA')), ('AVP', ('01020600', 'PA')), ('AVP', ('01021653', 'PA'))]"
     ]
    }
   ],
   "source": [
    "output.take(5)"
   ]
  },
  {
   "cell_type": "code",
   "execution_count": 53,
   "id": "39a19da7",
   "metadata": {},
   "outputs": [
    {
     "data": {
      "application/vnd.jupyter.widget-view+json": {
       "model_id": "9e26b60e0d9e4ad2841e8940e5f37cc9",
       "version_major": 2,
       "version_minor": 0
      },
      "text/plain": [
       "VBox()"
      ]
     },
     "metadata": {},
     "output_type": "display_data"
    },
    {
     "data": {
      "application/vnd.jupyter.widget-view+json": {
       "model_id": "",
       "version_major": 2,
       "version_minor": 0
      },
      "text/plain": [
       "FloatProgress(value=0.0, bar_style='info', description='Progress:', layout=Layout(height='25px', width='50%'),…"
      ]
     },
     "metadata": {},
     "output_type": "display_data"
    },
    {
     "name": "stdout",
     "output_type": "stream",
     "text": [
      "[['Abbotsford', 'BC', 'Canada', 'YXX'], ['Aberdeen', 'SD', 'USA', 'ABR'], ['Abilene', 'TX', 'USA', 'ABI'], ['Akron', 'OH', 'USA', 'CAK'], ['Alamosa', 'CO', 'USA', 'ALS']]"
     ]
    }
   ],
   "source": [
    "#Spark Actions\n",
    "airports=(\n",
    "sc.textFile('s3://cis4567-salehan/Spark/Data/airport-codes-na.txt').map(lambda element:element.split(\"\\t\")))\n",
    "header=airports.first()\n",
    "airports=airports.filter(lambda row:row!=header)\n",
    "airports.take(5)"
   ]
  },
  {
   "cell_type": "code",
   "execution_count": 54,
   "id": "5a35200e",
   "metadata": {},
   "outputs": [
    {
     "data": {
      "application/vnd.jupyter.widget-view+json": {
       "model_id": "cca457021ef74ea89d98b02215600005",
       "version_major": 2,
       "version_minor": 0
      },
      "text/plain": [
       "VBox()"
      ]
     },
     "metadata": {},
     "output_type": "display_data"
    },
    {
     "data": {
      "application/vnd.jupyter.widget-view+json": {
       "model_id": "",
       "version_major": 2,
       "version_minor": 0
      },
      "text/plain": [
       "FloatProgress(value=0.0, bar_style='info', description='Progress:', layout=Layout(height='25px', width='50%'),…"
      ]
     },
     "metadata": {},
     "output_type": "display_data"
    },
    {
     "name": "stdout",
     "output_type": "stream",
     "text": [
      "[['01011245', '6', '602', 'ABE', 'ATL'], ['01020600', '-8', '369', 'ABE', 'DTW'], ['01021245', '-2', '602', 'ABE', 'ATL'], ['01020605', '-4', '602', 'ABE', 'ATL'], ['01031245', '-4', '602', 'ABE', 'ATL']]"
     ]
    }
   ],
   "source": [
    "flights=(sc.textFile('s3://cis4567-salehan/Spark/Data/departuredelays.csv',minPartitions=8)\n",
    "         .map(lambda line:line.split(\",\")))\n",
    "header=flights.first()\n",
    "flights=flights.filter(lambda row:row!=header)\n",
    "flights.take(5)"
   ]
  },
  {
   "cell_type": "code",
   "execution_count": 55,
   "id": "d2e547e4",
   "metadata": {},
   "outputs": [
    {
     "data": {
      "application/vnd.jupyter.widget-view+json": {
       "model_id": "a21f4c3372614343b58bcb738ef50893",
       "version_major": 2,
       "version_minor": 0
      },
      "text/plain": [
       "VBox()"
      ]
     },
     "metadata": {},
     "output_type": "display_data"
    },
    {
     "data": {
      "application/vnd.jupyter.widget-view+json": {
       "model_id": "",
       "version_major": 2,
       "version_minor": 0
      },
      "text/plain": [
       "FloatProgress(value=0.0, bar_style='info', description='Progress:', layout=Layout(height='25px', width='50%'),…"
      ]
     },
     "metadata": {},
     "output_type": "display_data"
    },
    {
     "name": "stdout",
     "output_type": "stream",
     "text": [
      "[['Bellingham', 'WA', 'USA', 'BLI'], ['Moses Lake', 'WA', 'USA', 'MWH'], ['Pasco', 'WA', 'USA', 'PSC'], ['Pullman', 'WA', 'USA', 'PUW'], ['Seattle', 'WA', 'USA', 'SEA'], ['Spokane', 'WA', 'USA', 'GEG'], ['Walla Walla', 'WA', 'USA', 'ALW'], ['Wenatchee', 'WA', 'USA', 'EAT'], ['Yakima', 'WA', 'USA', 'YKM']]"
     ]
    }
   ],
   "source": [
    "#collect() action\n",
    "airports.filter(lambda c:c[1]==\"WA\").collect()"
   ]
  },
  {
   "cell_type": "code",
   "execution_count": 56,
   "id": "c68ae765",
   "metadata": {},
   "outputs": [
    {
     "data": {
      "application/vnd.jupyter.widget-view+json": {
       "model_id": "c1ef4921fa734b0394dad828429a4350",
       "version_major": 2,
       "version_minor": 0
      },
      "text/plain": [
       "VBox()"
      ]
     },
     "metadata": {},
     "output_type": "display_data"
    },
    {
     "data": {
      "application/vnd.jupyter.widget-view+json": {
       "model_id": "",
       "version_major": 2,
       "version_minor": 0
      },
      "text/plain": [
       "FloatProgress(value=0.0, bar_style='info', description='Progress:', layout=Layout(height='25px', width='50%'),…"
      ]
     },
     "metadata": {},
     "output_type": "display_data"
    },
    {
     "name": "stdout",
     "output_type": "stream",
     "text": [
      "1391578"
     ]
    }
   ],
   "source": [
    "#count()action\n",
    "flights.count()"
   ]
  },
  {
   "cell_type": "code",
   "execution_count": 59,
   "id": "9a217e81",
   "metadata": {},
   "outputs": [
    {
     "data": {
      "application/vnd.jupyter.widget-view+json": {
       "model_id": "8dc90aac1a4b4a788269a1fd10b1913d",
       "version_major": 2,
       "version_minor": 0
      },
      "text/plain": [
       "VBox()"
      ]
     },
     "metadata": {},
     "output_type": "display_data"
    },
    {
     "data": {
      "application/vnd.jupyter.widget-view+json": {
       "model_id": "",
       "version_major": 2,
       "version_minor": 0
      },
      "text/plain": [
       "FloatProgress(value=0.0, bar_style='info', description='Progress:', layout=Layout(height='25px', width='50%'),…"
      ]
     },
     "metadata": {},
     "output_type": "display_data"
    }
   ],
   "source": [
    "#.saveAsTextFile(.....)action\n",
    "#AWS\n",
    "flights.saveAsTextFile(\"s3://gba6430-huayang-01/tables/flights1\")"
   ]
  },
  {
   "cell_type": "code",
   "execution_count": 60,
   "id": "9193b145",
   "metadata": {},
   "outputs": [
    {
     "data": {
      "application/vnd.jupyter.widget-view+json": {
       "model_id": "ed9ac7904e26476dacee07ce9d7492fc",
       "version_major": 2,
       "version_minor": 0
      },
      "text/plain": [
       "VBox()"
      ]
     },
     "metadata": {},
     "output_type": "display_data"
    },
    {
     "data": {
      "application/vnd.jupyter.widget-view+json": {
       "model_id": "",
       "version_major": 2,
       "version_minor": 0
      },
      "text/plain": [
       "FloatProgress(value=0.0, bar_style='info', description='Progress:', layout=Layout(height='25px', width='50%'),…"
      ]
     },
     "metadata": {},
     "output_type": "display_data"
    },
    {
     "name": "stdout",
     "output_type": "stream",
     "text": [
      "[\"['01011245', '6', '602', 'ABE', 'ATL']\", \"['01020600', '-8', '369', 'ABE', 'DTW']\"]"
     ]
    }
   ],
   "source": [
    "x=sc.textFile('s3://gba6430-huayang-01/tables/flights1')\n",
    "x.take(2)"
   ]
  },
  {
   "cell_type": "code",
   "execution_count": 61,
   "id": "245e03bd",
   "metadata": {},
   "outputs": [
    {
     "data": {
      "application/vnd.jupyter.widget-view+json": {
       "model_id": "6976e3ec675b45a79e559b79be21df3d",
       "version_major": 2,
       "version_minor": 0
      },
      "text/plain": [
       "VBox()"
      ]
     },
     "metadata": {},
     "output_type": "display_data"
    },
    {
     "data": {
      "application/vnd.jupyter.widget-view+json": {
       "model_id": "",
       "version_major": 2,
       "version_minor": 0
      },
      "text/plain": [
       "FloatProgress(value=0.0, bar_style='info', description='Progress:', layout=Layout(height='25px', width='50%'),…"
      ]
     },
     "metadata": {},
     "output_type": "display_data"
    },
    {
     "name": "stdout",
     "output_type": "stream",
     "text": [
      "8"
     ]
    }
   ],
   "source": [
    "x.getNumPartitions()"
   ]
  },
  {
   "cell_type": "code",
   "execution_count": 62,
   "id": "4456ff11",
   "metadata": {},
   "outputs": [
    {
     "data": {
      "application/vnd.jupyter.widget-view+json": {
       "model_id": "27e7777ec4fb4529aeecc3da6454f837",
       "version_major": 2,
       "version_minor": 0
      },
      "text/plain": [
       "VBox()"
      ]
     },
     "metadata": {},
     "output_type": "display_data"
    },
    {
     "data": {
      "application/vnd.jupyter.widget-view+json": {
       "model_id": "",
       "version_major": 2,
       "version_minor": 0
      },
      "text/plain": [
       "FloatProgress(value=0.0, bar_style='info', description='Progress:', layout=Layout(height='25px', width='50%'),…"
      ]
     },
     "metadata": {},
     "output_type": "display_data"
    },
    {
     "name": "stdout",
     "output_type": "stream",
     "text": [
      "[('ACT', 392), ('BMI', 7817), ('BPT', 1936), ('BZN', 7226), ('CRP', 10579)]"
     ]
    }
   ],
   "source": [
    "#.reductByKey\n",
    "flights.map(lambda c:(c[3],int(c[1]))).reduceByKey(lambda x,y:x+y).take(5)"
   ]
  },
  {
   "cell_type": "code",
   "execution_count": 63,
   "id": "c4f4754a",
   "metadata": {},
   "outputs": [
    {
     "data": {
      "application/vnd.jupyter.widget-view+json": {
       "model_id": "b9aefc488262408fb8d65cd01f879a3e",
       "version_major": 2,
       "version_minor": 0
      },
      "text/plain": [
       "VBox()"
      ]
     },
     "metadata": {},
     "output_type": "display_data"
    },
    {
     "data": {
      "application/vnd.jupyter.widget-view+json": {
       "model_id": "",
       "version_major": 2,
       "version_minor": 0
      },
      "text/plain": [
       "FloatProgress(value=0.0, bar_style='info', description='Progress:', layout=Layout(height='25px', width='50%'),…"
      ]
     },
     "metadata": {},
     "output_type": "display_data"
    },
    {
     "name": "stdout",
     "output_type": "stream",
     "text": [
      "[('ACT', 392), ('BMI', 7817), ('BPT', 1936), ('BZN', 7226), ('CRP', 10579)]"
     ]
    }
   ],
   "source": [
    "#.groupByKey\n",
    "flights.map(lambda c:(c[3],int(c[1]))).groupByKey().map(lambda c:(c[0],sum(c[1]))).take(5)"
   ]
  },
  {
   "cell_type": "code",
   "execution_count": 64,
   "id": "47171fd0",
   "metadata": {},
   "outputs": [
    {
     "data": {
      "application/vnd.jupyter.widget-view+json": {
       "model_id": "60dedfc94eea4f409d00a14d8ca231b9",
       "version_major": 2,
       "version_minor": 0
      },
      "text/plain": [
       "VBox()"
      ]
     },
     "metadata": {},
     "output_type": "display_data"
    },
    {
     "data": {
      "application/vnd.jupyter.widget-view+json": {
       "model_id": "",
       "version_major": 2,
       "version_minor": 0
      },
      "text/plain": [
       "FloatProgress(value=0.0, bar_style='info', description='Progress:', layout=Layout(height='25px', width='50%'),…"
      ]
     },
     "metadata": {},
     "output_type": "display_data"
    },
    {
     "name": "stdout",
     "output_type": "stream",
     "text": [
      "[['Transaction_date', 'Product', 'Price', 'Payment_Type', 'Name', 'City', 'State', 'Country', 'Account_Created', 'Last_Login', 'Latitude', 'Longitude'], ['1/2/2009 6:17', 'Product1', '1200', 'Mastercard', 'carolina', 'Basildon', 'England', 'United Kingdom', '1/2/2009 6:00', '1/2/2009 6:08', '51.5', '-1.1166667'], ['1/2/2009 4:53', 'Product1', '1200', 'Visa', 'Betina', 'Parkville                   ', 'MO', 'United States', '1/2/2009 4:42', '1/2/2009 7:49', '39.195', '-94.68194'], ['1/2/2009 13:08', 'Product1', '1200', 'Mastercard', 'Federica e Andrea', 'Astoria                     ', 'OR', 'United States', '1/1/2009 16:21', '1/3/2009 12:32', '46.18806', '-123.83'], ['1/3/2009 14:44', 'Product1', '1200', 'Visa', 'Gouya', 'Echuca', 'Victoria', 'Australia', '9/25/2005 21:13', '1/3/2009 14:22', '-36.1333333', '144.75']]"
     ]
    }
   ],
   "source": [
    "myRDD=(sc.textFile('s3://gba6430-huayang-01/intro/SalesJan2009.csv',minPartitions=8)\n",
    "       .map(lambda line:line.split(\",\")))\n",
    "myRDD.take(5)"
   ]
  },
  {
   "cell_type": "code",
   "execution_count": 65,
   "id": "f51ef74b",
   "metadata": {},
   "outputs": [
    {
     "data": {
      "application/vnd.jupyter.widget-view+json": {
       "model_id": "9894dd2873f548aab26be697b7700a58",
       "version_major": 2,
       "version_minor": 0
      },
      "text/plain": [
       "VBox()"
      ]
     },
     "metadata": {},
     "output_type": "display_data"
    },
    {
     "data": {
      "application/vnd.jupyter.widget-view+json": {
       "model_id": "",
       "version_major": 2,
       "version_minor": 0
      },
      "text/plain": [
       "FloatProgress(value=0.0, bar_style='info', description='Progress:', layout=Layout(height='25px', width='50%'),…"
      ]
     },
     "metadata": {},
     "output_type": "display_data"
    },
    {
     "name": "stdout",
     "output_type": "stream",
     "text": [
      "[['1/2/2009 6:17', 'Product1', '1200', 'Mastercard', 'carolina', 'Basildon', 'England', 'United Kingdom', '1/2/2009 6:00', '1/2/2009 6:08', '51.5', '-1.1166667'], ['1/2/2009 4:53', 'Product1', '1200', 'Visa', 'Betina', 'Parkville                   ', 'MO', 'United States', '1/2/2009 4:42', '1/2/2009 7:49', '39.195', '-94.68194'], ['1/2/2009 13:08', 'Product1', '1200', 'Mastercard', 'Federica e Andrea', 'Astoria                     ', 'OR', 'United States', '1/1/2009 16:21', '1/3/2009 12:32', '46.18806', '-123.83'], ['1/3/2009 14:44', 'Product1', '1200', 'Visa', 'Gouya', 'Echuca', 'Victoria', 'Australia', '9/25/2005 21:13', '1/3/2009 14:22', '-36.1333333', '144.75'], ['1/4/2009 12:56', 'Product2', '3600', 'Visa', 'Gerd W ', 'Cahaba Heights              ', 'AL', 'United States', '11/15/2008 15:47', '1/4/2009 12:45', '33.52056', '-86.8025']]"
     ]
    }
   ],
   "source": [
    "header=myRDD.first()\n",
    "myRDD=myRDD.filter(lambda row:row!=header)\n",
    "myRDD.take(5)"
   ]
  },
  {
   "cell_type": "code",
   "execution_count": 66,
   "id": "0dbfcf0e",
   "metadata": {},
   "outputs": [
    {
     "data": {
      "application/vnd.jupyter.widget-view+json": {
       "model_id": "4399223cf9f2483db64b9a9d92d72579",
       "version_major": 2,
       "version_minor": 0
      },
      "text/plain": [
       "VBox()"
      ]
     },
     "metadata": {},
     "output_type": "display_data"
    },
    {
     "data": {
      "application/vnd.jupyter.widget-view+json": {
       "model_id": "",
       "version_major": 2,
       "version_minor": 0
      },
      "text/plain": [
       "FloatProgress(value=0.0, bar_style='info', description='Progress:', layout=Layout(height='25px', width='50%'),…"
      ]
     },
     "metadata": {},
     "output_type": "display_data"
    },
    {
     "name": "stdout",
     "output_type": "stream",
     "text": [
      "998"
     ]
    }
   ],
   "source": [
    "myRDD.count()"
   ]
  },
  {
   "cell_type": "code",
   "execution_count": 67,
   "id": "5a25256b",
   "metadata": {},
   "outputs": [
    {
     "data": {
      "application/vnd.jupyter.widget-view+json": {
       "model_id": "efa48cf8423644598c9d44d5a4ffe19a",
       "version_major": 2,
       "version_minor": 0
      },
      "text/plain": [
       "VBox()"
      ]
     },
     "metadata": {},
     "output_type": "display_data"
    },
    {
     "data": {
      "application/vnd.jupyter.widget-view+json": {
       "model_id": "",
       "version_major": 2,
       "version_minor": 0
      },
      "text/plain": [
       "FloatProgress(value=0.0, bar_style='info', description='Progress:', layout=Layout(height='25px', width='50%'),…"
      ]
     },
     "metadata": {},
     "output_type": "display_data"
    },
    {
     "name": "stdout",
     "output_type": "stream",
     "text": [
      "[['1/2/2009 4:53', 'Product1', '1200', 'Visa', 'Betina', 'Parkville                   ', 'MO', 'United States', '1/2/2009 4:42', '1/2/2009 7:49', '39.195', '-94.68194'], ['1/3/2009 14:44', 'Product1', '1200', 'Visa', 'Gouya', 'Echuca', 'Victoria', 'Australia', '9/25/2005 21:13', '1/3/2009 14:22', '-36.1333333', '144.75'], ['1/4/2009 12:56', 'Product2', '3600', 'Visa', 'Gerd W ', 'Cahaba Heights              ', 'AL', 'United States', '11/15/2008 15:47', '1/4/2009 12:45', '33.52056', '-86.8025'], ['1/4/2009 13:19', 'Product1', '1200', 'Visa', 'LAURENCE', 'Mickleton                   ', 'NJ', 'United States', '9/24/2008 15:19', '1/4/2009 13:04', '39.79', '-75.23806'], ['1/4/2009 14:11', 'Product1', '1200', 'Visa', 'Aidan', 'Chatou', 'Ile-de-France', 'France', '6/3/2008 4:22', '1/5/2009 1:17', '48.8833333', '2.15']]"
     ]
    }
   ],
   "source": [
    "myRDD.filter(lambda c:c[3]==\"Visa\").take(5)"
   ]
  },
  {
   "cell_type": "code",
   "execution_count": 68,
   "id": "b81d48ac",
   "metadata": {},
   "outputs": [
    {
     "data": {
      "application/vnd.jupyter.widget-view+json": {
       "model_id": "a722d1dc4f2c49f9a094944f1be3e4e1",
       "version_major": 2,
       "version_minor": 0
      },
      "text/plain": [
       "VBox()"
      ]
     },
     "metadata": {},
     "output_type": "display_data"
    },
    {
     "data": {
      "application/vnd.jupyter.widget-view+json": {
       "model_id": "",
       "version_major": 2,
       "version_minor": 0
      },
      "text/plain": [
       "FloatProgress(value=0.0, bar_style='info', description='Progress:', layout=Layout(height='25px', width='50%'),…"
      ]
     },
     "metadata": {},
     "output_type": "display_data"
    },
    {
     "name": "stdout",
     "output_type": "stream",
     "text": [
      "[('Diners', 133800), ('Mastercard', 458450), ('Amex', 188900), ('Visa', 849350)]"
     ]
    }
   ],
   "source": [
    "myRDD.map(lambda c:(c[3],int(c[2]))).reduceByKey(lambda x,y:x+y).collect()"
   ]
  },
  {
   "cell_type": "code",
   "execution_count": 72,
   "id": "53bed814",
   "metadata": {},
   "outputs": [
    {
     "data": {
      "application/vnd.jupyter.widget-view+json": {
       "model_id": "2ecafaa76e684d6ba4ad9d686ca1a9aa",
       "version_major": 2,
       "version_minor": 0
      },
      "text/plain": [
       "VBox()"
      ]
     },
     "metadata": {},
     "output_type": "display_data"
    },
    {
     "data": {
      "application/vnd.jupyter.widget-view+json": {
       "model_id": "",
       "version_major": 2,
       "version_minor": 0
      },
      "text/plain": [
       "FloatProgress(value=0.0, bar_style='info', description='Progress:', layout=Layout(height='25px', width='50%'),…"
      ]
     },
     "metadata": {},
     "output_type": "display_data"
    },
    {
     "name": "stdout",
     "output_type": "stream",
     "text": [
      "[('Mastercard', 9169.0), ('Visa', 8493.5), ('Amex', 7556.0), ('Diners', 4014.0)]"
     ]
    }
   ],
   "source": [
    "cashback={\n",
    "\"Visa\":0.01,\n",
    "\"Mastercard\":0.02,\n",
    "\"Diners\":0.03,\n",
    "\"Amex\":0.04}\n",
    "a=myRDD.map(lambda c:(c[3],int(c[2]))).reduceByKey(lambda x,y:x+y)\n",
    "a.map(lambda c:(c[0],c[1]*cashback.get(c[0],0.0))).sortBy(lambda c:c[1],False).collect()"
   ]
  },
  {
   "cell_type": "code",
   "execution_count": 71,
   "id": "d8c6a09f",
   "metadata": {},
   "outputs": [
    {
     "data": {
      "application/vnd.jupyter.widget-view+json": {
       "model_id": "136bc59f03c1401b95cc082b55d2eca6",
       "version_major": 2,
       "version_minor": 0
      },
      "text/plain": [
       "VBox()"
      ]
     },
     "metadata": {},
     "output_type": "display_data"
    },
    {
     "data": {
      "application/vnd.jupyter.widget-view+json": {
       "model_id": "",
       "version_major": 2,
       "version_minor": 0
      },
      "text/plain": [
       "FloatProgress(value=0.0, bar_style='info', description='Progress:', layout=Layout(height='25px', width='50%'),…"
      ]
     },
     "metadata": {},
     "output_type": "display_data"
    },
    {
     "name": "stdout",
     "output_type": "stream",
     "text": [
      "['Product3', 'Product2', 'Product1']"
     ]
    }
   ],
   "source": [
    "myRDD.map(lambda line:line[1].strip()).distinct().collect()"
   ]
  },
  {
   "cell_type": "code",
   "execution_count": null,
   "id": "f6862930",
   "metadata": {},
   "outputs": [],
   "source": []
  }
 ],
 "metadata": {
  "kernelspec": {
   "display_name": "PySpark",
   "language": "python",
   "name": "pysparkkernel"
  },
  "language_info": {
   "codemirror_mode": {
    "name": "python",
    "version": 3
   },
   "file_extension": ".py",
   "mimetype": "text/x-python",
   "name": "pyspark",
   "pygments_lexer": "python3"
  }
 },
 "nbformat": 4,
 "nbformat_minor": 5
}
